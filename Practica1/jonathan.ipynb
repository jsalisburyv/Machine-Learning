{
 "cells": [
  {
   "cell_type": "markdown",
   "metadata": {
    "collapsed": false
   },
   "source": [
    "### Imports"
   ]
  },
  {
   "cell_type": "code",
   "execution_count": 3,
   "metadata": {
    "collapsed": true
   },
   "outputs": [],
   "source": [
    "import numpy as np\n",
    "import pandas as pd\n",
    "import matplotlib.pyplot as plt\n",
    "import seaborn as sns"
   ]
  },
  {
   "cell_type": "markdown",
   "metadata": {
    "collapsed": false
   },
   "source": [
    "### Read Data"
   ]
  },
  {
   "cell_type": "code",
   "execution_count": 4,
   "metadata": {
    "collapsed": false
   },
   "outputs": [
    {
     "data": {
      "text/html": [
       "<div>\n",
       "<style scoped>\n",
       "    .dataframe tbody tr th:only-of-type {\n",
       "        vertical-align: middle;\n",
       "    }\n",
       "\n",
       "    .dataframe tbody tr th {\n",
       "        vertical-align: top;\n",
       "    }\n",
       "\n",
       "    .dataframe thead th {\n",
       "        text-align: right;\n",
       "    }\n",
       "</style>\n",
       "<table border=\"1\" class=\"dataframe\">\n",
       "  <thead>\n",
       "    <tr style=\"text-align: right;\">\n",
       "      <th></th>\n",
       "      <th>catala</th>\n",
       "      <th>espanyol</th>\n",
       "      <th>alemany</th>\n",
       "      <th>frances</th>\n",
       "      <th>polones</th>\n",
       "      <th>portugues</th>\n",
       "      <th>rus</th>\n",
       "      <th>italia</th>\n",
       "      <th>suec</th>\n",
       "    </tr>\n",
       "    <tr>\n",
       "      <th>angles</th>\n",
       "      <th></th>\n",
       "      <th></th>\n",
       "      <th></th>\n",
       "      <th></th>\n",
       "      <th></th>\n",
       "      <th></th>\n",
       "      <th></th>\n",
       "      <th></th>\n",
       "      <th></th>\n",
       "    </tr>\n",
       "  </thead>\n",
       "  <tbody>\n",
       "    <tr>\n",
       "      <th>as</th>\n",
       "      <td>com</td>\n",
       "      <td>como</td>\n",
       "      <td>wie</td>\n",
       "      <td>comme</td>\n",
       "      <td>jak</td>\n",
       "      <td>Como</td>\n",
       "      <td>в качестве</td>\n",
       "      <td>come</td>\n",
       "      <td>som</td>\n",
       "    </tr>\n",
       "    <tr>\n",
       "      <th>his</th>\n",
       "      <td>seva</td>\n",
       "      <td>su</td>\n",
       "      <td>seine</td>\n",
       "      <td>le sien</td>\n",
       "      <td>jego</td>\n",
       "      <td>seu</td>\n",
       "      <td>его</td>\n",
       "      <td>il suo</td>\n",
       "      <td>hans</td>\n",
       "    </tr>\n",
       "    <tr>\n",
       "      <th>that</th>\n",
       "      <td>que</td>\n",
       "      <td>que</td>\n",
       "      <td>das</td>\n",
       "      <td>ce</td>\n",
       "      <td>że</td>\n",
       "      <td>este</td>\n",
       "      <td>что</td>\n",
       "      <td>Quello</td>\n",
       "      <td>den där</td>\n",
       "    </tr>\n",
       "    <tr>\n",
       "      <th>he</th>\n",
       "      <td>ell</td>\n",
       "      <td>él</td>\n",
       "      <td>er</td>\n",
       "      <td>il</td>\n",
       "      <td>on</td>\n",
       "      <td>ele</td>\n",
       "      <td>он</td>\n",
       "      <td>lui</td>\n",
       "      <td>han</td>\n",
       "    </tr>\n",
       "    <tr>\n",
       "      <th>was</th>\n",
       "      <td>era</td>\n",
       "      <td>estaba</td>\n",
       "      <td>war</td>\n",
       "      <td>a été</td>\n",
       "      <td>był</td>\n",
       "      <td>foi</td>\n",
       "      <td>был</td>\n",
       "      <td>era</td>\n",
       "      <td>var</td>\n",
       "    </tr>\n",
       "  </tbody>\n",
       "</table>\n",
       "</div>"
      ],
      "text/plain": [
       "       catala espanyol alemany  frances polones portugues         rus  italia  \\\n",
       "angles                                                                          \n",
       "as        com     como     wie    comme     jak      Como  в качестве    come   \n",
       "his      seva       su   seine  le sien    jego       seu         его  il suo   \n",
       "that      que      que     das       ce      że      este         что  Quello   \n",
       "he        ell       él      er       il      on       ele          он     lui   \n",
       "was       era   estaba     war    a été     był       foi         был     era   \n",
       "\n",
       "           suec  \n",
       "angles           \n",
       "as          som  \n",
       "his        hans  \n",
       "that    den där  \n",
       "he          han  \n",
       "was         var  "
      ]
     },
     "execution_count": 4,
     "metadata": {},
     "output_type": "execute_result"
    }
   ],
   "source": [
    "df = pd.read_csv('data/data3.csv', index_col=0)\n",
    "df.head()"
   ]
  },
  {
   "cell_type": "markdown",
   "metadata": {
    "collapsed": false
   },
   "source": [
    "### Preprocessing"
   ]
  },
  {
   "cell_type": "code",
   "execution_count": 5,
   "metadata": {
    "collapsed": false
   },
   "outputs": [],
   "source": [
    "from sklearn.model_selection import train_test_split, GridSearchCV\n",
    "from sklearn.preprocessing import StandardScaler, RobustScaler\n",
    "from sklearn.decomposition import PCA"
   ]
  },
  {
   "cell_type": "code",
   "execution_count": 6,
   "metadata": {
    "collapsed": false
   },
   "outputs": [
    {
     "ename": "KeyError",
     "evalue": "\"['word', 'lang'] not found in axis\"",
     "output_type": "error",
     "traceback": [
      "\u001b[1;31m---------------------------------------------------------------------------\u001b[0m",
      "\u001b[1;31mKeyError\u001b[0m                                  Traceback (most recent call last)",
      "Cell \u001b[1;32mIn[6], line 2\u001b[0m\n\u001b[0;32m      1\u001b[0m \u001b[39m# Separate features from target\u001b[39;00m\n\u001b[1;32m----> 2\u001b[0m X \u001b[39m=\u001b[39m df\u001b[39m.\u001b[39;49mdrop([\u001b[39m'\u001b[39;49m\u001b[39mword\u001b[39;49m\u001b[39m'\u001b[39;49m, \u001b[39m'\u001b[39;49m\u001b[39mlang\u001b[39;49m\u001b[39m'\u001b[39;49m], axis\u001b[39m=\u001b[39;49m\u001b[39m1\u001b[39;49m)\n\u001b[0;32m      3\u001b[0m y \u001b[39m=\u001b[39m df[\u001b[39m'\u001b[39m\u001b[39mlang\u001b[39m\u001b[39m'\u001b[39m]\n",
      "File \u001b[1;32md:\\Users\\walli\\miniconda3\\envs\\pyAA\\lib\\site-packages\\pandas\\util\\_decorators.py:331\u001b[0m, in \u001b[0;36mdeprecate_nonkeyword_arguments.<locals>.decorate.<locals>.wrapper\u001b[1;34m(*args, **kwargs)\u001b[0m\n\u001b[0;32m    325\u001b[0m \u001b[39mif\u001b[39;00m \u001b[39mlen\u001b[39m(args) \u001b[39m>\u001b[39m num_allow_args:\n\u001b[0;32m    326\u001b[0m     warnings\u001b[39m.\u001b[39mwarn(\n\u001b[0;32m    327\u001b[0m         msg\u001b[39m.\u001b[39mformat(arguments\u001b[39m=\u001b[39m_format_argument_list(allow_args)),\n\u001b[0;32m    328\u001b[0m         \u001b[39mFutureWarning\u001b[39;00m,\n\u001b[0;32m    329\u001b[0m         stacklevel\u001b[39m=\u001b[39mfind_stack_level(),\n\u001b[0;32m    330\u001b[0m     )\n\u001b[1;32m--> 331\u001b[0m \u001b[39mreturn\u001b[39;00m func(\u001b[39m*\u001b[39margs, \u001b[39m*\u001b[39m\u001b[39m*\u001b[39mkwargs)\n",
      "File \u001b[1;32md:\\Users\\walli\\miniconda3\\envs\\pyAA\\lib\\site-packages\\pandas\\core\\frame.py:5396\u001b[0m, in \u001b[0;36mDataFrame.drop\u001b[1;34m(self, labels, axis, index, columns, level, inplace, errors)\u001b[0m\n\u001b[0;32m   5248\u001b[0m \u001b[39m@deprecate_nonkeyword_arguments\u001b[39m(version\u001b[39m=\u001b[39m\u001b[39mNone\u001b[39;00m, allowed_args\u001b[39m=\u001b[39m[\u001b[39m\"\u001b[39m\u001b[39mself\u001b[39m\u001b[39m\"\u001b[39m, \u001b[39m\"\u001b[39m\u001b[39mlabels\u001b[39m\u001b[39m\"\u001b[39m])\n\u001b[0;32m   5249\u001b[0m \u001b[39mdef\u001b[39;00m \u001b[39mdrop\u001b[39m(  \u001b[39m# type: ignore[override]\u001b[39;00m\n\u001b[0;32m   5250\u001b[0m     \u001b[39mself\u001b[39m,\n\u001b[1;32m   (...)\u001b[0m\n\u001b[0;32m   5257\u001b[0m     errors: IgnoreRaise \u001b[39m=\u001b[39m \u001b[39m\"\u001b[39m\u001b[39mraise\u001b[39m\u001b[39m\"\u001b[39m,\n\u001b[0;32m   5258\u001b[0m ) \u001b[39m-\u001b[39m\u001b[39m>\u001b[39m DataFrame \u001b[39m|\u001b[39m \u001b[39mNone\u001b[39;00m:\n\u001b[0;32m   5259\u001b[0m     \u001b[39m\"\"\"\u001b[39;00m\n\u001b[0;32m   5260\u001b[0m \u001b[39m    Drop specified labels from rows or columns.\u001b[39;00m\n\u001b[0;32m   5261\u001b[0m \n\u001b[1;32m   (...)\u001b[0m\n\u001b[0;32m   5394\u001b[0m \u001b[39m            weight  1.0     0.8\u001b[39;00m\n\u001b[0;32m   5395\u001b[0m \u001b[39m    \"\"\"\u001b[39;00m\n\u001b[1;32m-> 5396\u001b[0m     \u001b[39mreturn\u001b[39;00m \u001b[39msuper\u001b[39;49m()\u001b[39m.\u001b[39;49mdrop(\n\u001b[0;32m   5397\u001b[0m         labels\u001b[39m=\u001b[39;49mlabels,\n\u001b[0;32m   5398\u001b[0m         axis\u001b[39m=\u001b[39;49maxis,\n\u001b[0;32m   5399\u001b[0m         index\u001b[39m=\u001b[39;49mindex,\n\u001b[0;32m   5400\u001b[0m         columns\u001b[39m=\u001b[39;49mcolumns,\n\u001b[0;32m   5401\u001b[0m         level\u001b[39m=\u001b[39;49mlevel,\n\u001b[0;32m   5402\u001b[0m         inplace\u001b[39m=\u001b[39;49minplace,\n\u001b[0;32m   5403\u001b[0m         errors\u001b[39m=\u001b[39;49merrors,\n\u001b[0;32m   5404\u001b[0m     )\n",
      "File \u001b[1;32md:\\Users\\walli\\miniconda3\\envs\\pyAA\\lib\\site-packages\\pandas\\util\\_decorators.py:331\u001b[0m, in \u001b[0;36mdeprecate_nonkeyword_arguments.<locals>.decorate.<locals>.wrapper\u001b[1;34m(*args, **kwargs)\u001b[0m\n\u001b[0;32m    325\u001b[0m \u001b[39mif\u001b[39;00m \u001b[39mlen\u001b[39m(args) \u001b[39m>\u001b[39m num_allow_args:\n\u001b[0;32m    326\u001b[0m     warnings\u001b[39m.\u001b[39mwarn(\n\u001b[0;32m    327\u001b[0m         msg\u001b[39m.\u001b[39mformat(arguments\u001b[39m=\u001b[39m_format_argument_list(allow_args)),\n\u001b[0;32m    328\u001b[0m         \u001b[39mFutureWarning\u001b[39;00m,\n\u001b[0;32m    329\u001b[0m         stacklevel\u001b[39m=\u001b[39mfind_stack_level(),\n\u001b[0;32m    330\u001b[0m     )\n\u001b[1;32m--> 331\u001b[0m \u001b[39mreturn\u001b[39;00m func(\u001b[39m*\u001b[39margs, \u001b[39m*\u001b[39m\u001b[39m*\u001b[39mkwargs)\n",
      "File \u001b[1;32md:\\Users\\walli\\miniconda3\\envs\\pyAA\\lib\\site-packages\\pandas\\core\\generic.py:4505\u001b[0m, in \u001b[0;36mNDFrame.drop\u001b[1;34m(self, labels, axis, index, columns, level, inplace, errors)\u001b[0m\n\u001b[0;32m   4503\u001b[0m \u001b[39mfor\u001b[39;00m axis, labels \u001b[39min\u001b[39;00m axes\u001b[39m.\u001b[39mitems():\n\u001b[0;32m   4504\u001b[0m     \u001b[39mif\u001b[39;00m labels \u001b[39mis\u001b[39;00m \u001b[39mnot\u001b[39;00m \u001b[39mNone\u001b[39;00m:\n\u001b[1;32m-> 4505\u001b[0m         obj \u001b[39m=\u001b[39m obj\u001b[39m.\u001b[39;49m_drop_axis(labels, axis, level\u001b[39m=\u001b[39;49mlevel, errors\u001b[39m=\u001b[39;49merrors)\n\u001b[0;32m   4507\u001b[0m \u001b[39mif\u001b[39;00m inplace:\n\u001b[0;32m   4508\u001b[0m     \u001b[39mself\u001b[39m\u001b[39m.\u001b[39m_update_inplace(obj)\n",
      "File \u001b[1;32md:\\Users\\walli\\miniconda3\\envs\\pyAA\\lib\\site-packages\\pandas\\core\\generic.py:4546\u001b[0m, in \u001b[0;36mNDFrame._drop_axis\u001b[1;34m(self, labels, axis, level, errors, only_slice)\u001b[0m\n\u001b[0;32m   4544\u001b[0m         new_axis \u001b[39m=\u001b[39m axis\u001b[39m.\u001b[39mdrop(labels, level\u001b[39m=\u001b[39mlevel, errors\u001b[39m=\u001b[39merrors)\n\u001b[0;32m   4545\u001b[0m     \u001b[39melse\u001b[39;00m:\n\u001b[1;32m-> 4546\u001b[0m         new_axis \u001b[39m=\u001b[39m axis\u001b[39m.\u001b[39;49mdrop(labels, errors\u001b[39m=\u001b[39;49merrors)\n\u001b[0;32m   4547\u001b[0m     indexer \u001b[39m=\u001b[39m axis\u001b[39m.\u001b[39mget_indexer(new_axis)\n\u001b[0;32m   4549\u001b[0m \u001b[39m# Case for non-unique axis\u001b[39;00m\n\u001b[0;32m   4550\u001b[0m \u001b[39melse\u001b[39;00m:\n",
      "File \u001b[1;32md:\\Users\\walli\\miniconda3\\envs\\pyAA\\lib\\site-packages\\pandas\\core\\indexes\\base.py:6977\u001b[0m, in \u001b[0;36mIndex.drop\u001b[1;34m(self, labels, errors)\u001b[0m\n\u001b[0;32m   6975\u001b[0m \u001b[39mif\u001b[39;00m mask\u001b[39m.\u001b[39many():\n\u001b[0;32m   6976\u001b[0m     \u001b[39mif\u001b[39;00m errors \u001b[39m!=\u001b[39m \u001b[39m\"\u001b[39m\u001b[39mignore\u001b[39m\u001b[39m\"\u001b[39m:\n\u001b[1;32m-> 6977\u001b[0m         \u001b[39mraise\u001b[39;00m \u001b[39mKeyError\u001b[39;00m(\u001b[39mf\u001b[39m\u001b[39m\"\u001b[39m\u001b[39m{\u001b[39;00m\u001b[39mlist\u001b[39m(labels[mask])\u001b[39m}\u001b[39;00m\u001b[39m not found in axis\u001b[39m\u001b[39m\"\u001b[39m)\n\u001b[0;32m   6978\u001b[0m     indexer \u001b[39m=\u001b[39m indexer[\u001b[39m~\u001b[39mmask]\n\u001b[0;32m   6979\u001b[0m \u001b[39mreturn\u001b[39;00m \u001b[39mself\u001b[39m\u001b[39m.\u001b[39mdelete(indexer)\n",
      "\u001b[1;31mKeyError\u001b[0m: \"['word', 'lang'] not found in axis\""
     ]
    }
   ],
   "source": [
    "# Separate features from target\n",
    "X = df.drop(['word', 'lang'], axis=1)\n",
    "y = df['lang']"
   ]
  },
  {
   "cell_type": "code",
   "execution_count": null,
   "metadata": {
    "collapsed": false
   },
   "outputs": [],
   "source": [
    "# Split data for training and testing\n",
    "X_train, X_test, y_train, y_test = train_test_split(X, y, test_size=0.2, random_state=43) # try different test_size"
   ]
  },
  {
   "cell_type": "code",
   "execution_count": null,
   "metadata": {
    "collapsed": false
   },
   "outputs": [],
   "source": [
    "# Scale Data: https://towardsdatascience.com/feature-scaling-and-normalisation-in-a-nutshell-5319af86f89b\n",
    "scaler = StandardScaler() # try different scalers\n",
    "X_train = scaler.fit_transform(X_train)\n",
    "X_test = scaler.transform(X_test)"
   ]
  },
  {
   "cell_type": "code",
   "execution_count": null,
   "metadata": {
    "collapsed": false
   },
   "outputs": [],
   "source": [
    "# Dimensionality Reduction: https://www.mikulskibartosz.name/pca-how-to-choose-the-number-of-components/\n",
    "pca = PCA(n_components=0.99, random_state=43) # try different n_components\n",
    "X_train_pca = pca.fit_transform(X_train)\n",
    "X_test_pca = pca.transform(X_test)"
   ]
  },
  {
   "cell_type": "markdown",
   "metadata": {
    "collapsed": false
   },
   "source": [
    "### Model"
   ]
  },
  {
   "cell_type": "code",
   "execution_count": null,
   "metadata": {
    "collapsed": false
   },
   "outputs": [],
   "source": [
    "from sklearn import svm"
   ]
  },
  {
   "cell_type": "code",
   "execution_count": null,
   "metadata": {
    "collapsed": false
   },
   "outputs": [
    {
     "name": "stdout",
     "output_type": "stream",
     "text": [
      "Fitting 5 folds for each of 64 candidates, totalling 320 fits\n",
      "[CV 1/5] END C=0.1, decision_function_shape=ovo, gamma=1, kernel=linear;, score=0.464 total time=   1.0s\n",
      "[CV 2/5] END C=0.1, decision_function_shape=ovo, gamma=1, kernel=linear;, score=0.494 total time=   1.0s\n",
      "[CV 3/5] END C=0.1, decision_function_shape=ovo, gamma=1, kernel=linear;, score=0.485 total time=   1.0s\n",
      "[CV 4/5] END C=0.1, decision_function_shape=ovo, gamma=1, kernel=linear;, score=0.477 total time=   0.9s\n",
      "[CV 5/5] END C=0.1, decision_function_shape=ovo, gamma=1, kernel=linear;, score=0.485 total time=   0.9s\n",
      "[CV 1/5] END C=0.1, decision_function_shape=ovo, gamma=1, kernel=rbf;, score=0.256 total time=   2.3s\n",
      "[CV 2/5] END C=0.1, decision_function_shape=ovo, gamma=1, kernel=rbf;, score=0.250 total time=   3.0s\n",
      "[CV 3/5] END C=0.1, decision_function_shape=ovo, gamma=1, kernel=rbf;, score=0.249 total time=   2.4s\n",
      "[CV 4/5] END C=0.1, decision_function_shape=ovo, gamma=1, kernel=rbf;, score=0.249 total time=   2.3s\n",
      "[CV 5/5] END C=0.1, decision_function_shape=ovo, gamma=1, kernel=rbf;, score=0.258 total time=   2.4s\n",
      "[CV 1/5] END C=0.1, decision_function_shape=ovo, gamma=0.1, kernel=linear;, score=0.464 total time=   1.0s\n",
      "[CV 2/5] END C=0.1, decision_function_shape=ovo, gamma=0.1, kernel=linear;, score=0.494 total time=   0.9s\n",
      "[CV 3/5] END C=0.1, decision_function_shape=ovo, gamma=0.1, kernel=linear;, score=0.485 total time=   0.8s\n",
      "[CV 4/5] END C=0.1, decision_function_shape=ovo, gamma=0.1, kernel=linear;, score=0.477 total time=   0.9s\n",
      "[CV 5/5] END C=0.1, decision_function_shape=ovo, gamma=0.1, kernel=linear;, score=0.485 total time=   0.9s\n",
      "[CV 1/5] END C=0.1, decision_function_shape=ovo, gamma=0.1, kernel=rbf;, score=0.366 total time=   2.1s\n",
      "[CV 2/5] END C=0.1, decision_function_shape=ovo, gamma=0.1, kernel=rbf;, score=0.366 total time=   2.1s\n",
      "[CV 3/5] END C=0.1, decision_function_shape=ovo, gamma=0.1, kernel=rbf;, score=0.342 total time=   2.0s\n",
      "[CV 4/5] END C=0.1, decision_function_shape=ovo, gamma=0.1, kernel=rbf;, score=0.379 total time=   1.9s\n",
      "[CV 5/5] END C=0.1, decision_function_shape=ovo, gamma=0.1, kernel=rbf;, score=0.366 total time=   1.9s\n",
      "[CV 1/5] END C=0.1, decision_function_shape=ovo, gamma=0.01, kernel=linear;, score=0.464 total time=   0.8s\n",
      "[CV 2/5] END C=0.1, decision_function_shape=ovo, gamma=0.01, kernel=linear;, score=0.494 total time=   0.8s\n",
      "[CV 3/5] END C=0.1, decision_function_shape=ovo, gamma=0.01, kernel=linear;, score=0.485 total time=   0.8s\n",
      "[CV 4/5] END C=0.1, decision_function_shape=ovo, gamma=0.01, kernel=linear;, score=0.477 total time=   0.8s\n",
      "[CV 5/5] END C=0.1, decision_function_shape=ovo, gamma=0.01, kernel=linear;, score=0.485 total time=   0.8s\n",
      "[CV 1/5] END C=0.1, decision_function_shape=ovo, gamma=0.01, kernel=rbf;, score=0.447 total time=   1.7s\n",
      "[CV 2/5] END C=0.1, decision_function_shape=ovo, gamma=0.01, kernel=rbf;, score=0.451 total time=   1.7s\n",
      "[CV 3/5] END C=0.1, decision_function_shape=ovo, gamma=0.01, kernel=rbf;, score=0.442 total time=   1.7s\n",
      "[CV 4/5] END C=0.1, decision_function_shape=ovo, gamma=0.01, kernel=rbf;, score=0.457 total time=   1.7s\n",
      "[CV 5/5] END C=0.1, decision_function_shape=ovo, gamma=0.01, kernel=rbf;, score=0.446 total time=   1.7s\n",
      "[CV 1/5] END C=0.1, decision_function_shape=ovo, gamma=0.001, kernel=linear;, score=0.464 total time=   0.9s\n",
      "[CV 2/5] END C=0.1, decision_function_shape=ovo, gamma=0.001, kernel=linear;, score=0.494 total time=   0.8s\n",
      "[CV 3/5] END C=0.1, decision_function_shape=ovo, gamma=0.001, kernel=linear;, score=0.485 total time=   0.8s\n",
      "[CV 4/5] END C=0.1, decision_function_shape=ovo, gamma=0.001, kernel=linear;, score=0.477 total time=   0.8s\n",
      "[CV 5/5] END C=0.1, decision_function_shape=ovo, gamma=0.001, kernel=linear;, score=0.485 total time=   0.8s\n",
      "[CV 1/5] END C=0.1, decision_function_shape=ovo, gamma=0.001, kernel=rbf;, score=0.364 total time=   2.2s\n",
      "[CV 2/5] END C=0.1, decision_function_shape=ovo, gamma=0.001, kernel=rbf;, score=0.347 total time=   2.1s\n",
      "[CV 3/5] END C=0.1, decision_function_shape=ovo, gamma=0.001, kernel=rbf;, score=0.341 total time=   2.1s\n",
      "[CV 4/5] END C=0.1, decision_function_shape=ovo, gamma=0.001, kernel=rbf;, score=0.362 total time=   2.1s\n",
      "[CV 5/5] END C=0.1, decision_function_shape=ovo, gamma=0.001, kernel=rbf;, score=0.359 total time=   2.2s\n",
      "[CV 1/5] END C=0.1, decision_function_shape=ovr, gamma=1, kernel=linear;, score=0.464 total time=   0.8s\n",
      "[CV 2/5] END C=0.1, decision_function_shape=ovr, gamma=1, kernel=linear;, score=0.494 total time=   0.8s\n",
      "[CV 3/5] END C=0.1, decision_function_shape=ovr, gamma=1, kernel=linear;, score=0.485 total time=   0.8s\n",
      "[CV 4/5] END C=0.1, decision_function_shape=ovr, gamma=1, kernel=linear;, score=0.477 total time=   0.8s\n",
      "[CV 5/5] END C=0.1, decision_function_shape=ovr, gamma=1, kernel=linear;, score=0.485 total time=   0.8s\n",
      "[CV 1/5] END C=0.1, decision_function_shape=ovr, gamma=1, kernel=rbf;, score=0.256 total time=   2.1s\n",
      "[CV 2/5] END C=0.1, decision_function_shape=ovr, gamma=1, kernel=rbf;, score=0.250 total time=   2.1s\n",
      "[CV 3/5] END C=0.1, decision_function_shape=ovr, gamma=1, kernel=rbf;, score=0.249 total time=   2.1s\n",
      "[CV 4/5] END C=0.1, decision_function_shape=ovr, gamma=1, kernel=rbf;, score=0.249 total time=   2.1s\n",
      "[CV 5/5] END C=0.1, decision_function_shape=ovr, gamma=1, kernel=rbf;, score=0.258 total time=   2.1s\n",
      "[CV 1/5] END C=0.1, decision_function_shape=ovr, gamma=0.1, kernel=linear;, score=0.464 total time=   0.8s\n",
      "[CV 2/5] END C=0.1, decision_function_shape=ovr, gamma=0.1, kernel=linear;, score=0.494 total time=   0.8s\n",
      "[CV 3/5] END C=0.1, decision_function_shape=ovr, gamma=0.1, kernel=linear;, score=0.485 total time=   0.8s\n",
      "[CV 4/5] END C=0.1, decision_function_shape=ovr, gamma=0.1, kernel=linear;, score=0.477 total time=   0.8s\n",
      "[CV 5/5] END C=0.1, decision_function_shape=ovr, gamma=0.1, kernel=linear;, score=0.485 total time=   0.8s\n",
      "[CV 1/5] END C=0.1, decision_function_shape=ovr, gamma=0.1, kernel=rbf;, score=0.366 total time=   1.8s\n",
      "[CV 2/5] END C=0.1, decision_function_shape=ovr, gamma=0.1, kernel=rbf;, score=0.366 total time=   2.2s\n",
      "[CV 3/5] END C=0.1, decision_function_shape=ovr, gamma=0.1, kernel=rbf;, score=0.342 total time=   1.8s\n",
      "[CV 4/5] END C=0.1, decision_function_shape=ovr, gamma=0.1, kernel=rbf;, score=0.379 total time=   1.8s\n",
      "[CV 5/5] END C=0.1, decision_function_shape=ovr, gamma=0.1, kernel=rbf;, score=0.366 total time=   1.9s\n",
      "[CV 1/5] END C=0.1, decision_function_shape=ovr, gamma=0.01, kernel=linear;, score=0.464 total time=   0.8s\n",
      "[CV 2/5] END C=0.1, decision_function_shape=ovr, gamma=0.01, kernel=linear;, score=0.494 total time=   0.8s\n",
      "[CV 3/5] END C=0.1, decision_function_shape=ovr, gamma=0.01, kernel=linear;, score=0.485 total time=   0.8s\n",
      "[CV 4/5] END C=0.1, decision_function_shape=ovr, gamma=0.01, kernel=linear;, score=0.477 total time=   0.8s\n",
      "[CV 5/5] END C=0.1, decision_function_shape=ovr, gamma=0.01, kernel=linear;, score=0.485 total time=   0.8s\n",
      "[CV 1/5] END C=0.1, decision_function_shape=ovr, gamma=0.01, kernel=rbf;, score=0.447 total time=   1.7s\n",
      "[CV 2/5] END C=0.1, decision_function_shape=ovr, gamma=0.01, kernel=rbf;, score=0.451 total time=   1.7s\n",
      "[CV 3/5] END C=0.1, decision_function_shape=ovr, gamma=0.01, kernel=rbf;, score=0.442 total time=   1.7s\n",
      "[CV 4/5] END C=0.1, decision_function_shape=ovr, gamma=0.01, kernel=rbf;, score=0.457 total time=   1.7s\n",
      "[CV 5/5] END C=0.1, decision_function_shape=ovr, gamma=0.01, kernel=rbf;, score=0.446 total time=   1.6s\n",
      "[CV 1/5] END C=0.1, decision_function_shape=ovr, gamma=0.001, kernel=linear;, score=0.464 total time=   0.8s\n",
      "[CV 2/5] END C=0.1, decision_function_shape=ovr, gamma=0.001, kernel=linear;, score=0.494 total time=   0.8s\n",
      "[CV 3/5] END C=0.1, decision_function_shape=ovr, gamma=0.001, kernel=linear;, score=0.485 total time=   0.8s\n",
      "[CV 4/5] END C=0.1, decision_function_shape=ovr, gamma=0.001, kernel=linear;, score=0.477 total time=   0.8s\n",
      "[CV 5/5] END C=0.1, decision_function_shape=ovr, gamma=0.001, kernel=linear;, score=0.485 total time=   0.8s\n",
      "[CV 1/5] END C=0.1, decision_function_shape=ovr, gamma=0.001, kernel=rbf;, score=0.364 total time=   2.1s\n",
      "[CV 2/5] END C=0.1, decision_function_shape=ovr, gamma=0.001, kernel=rbf;, score=0.347 total time=   2.1s\n",
      "[CV 3/5] END C=0.1, decision_function_shape=ovr, gamma=0.001, kernel=rbf;, score=0.341 total time=   2.1s\n",
      "[CV 4/5] END C=0.1, decision_function_shape=ovr, gamma=0.001, kernel=rbf;, score=0.362 total time=   2.1s\n",
      "[CV 5/5] END C=0.1, decision_function_shape=ovr, gamma=0.001, kernel=rbf;, score=0.359 total time=   2.1s\n",
      "[CV 1/5] END C=1, decision_function_shape=ovo, gamma=1, kernel=linear;, score=0.469 total time=   2.0s\n",
      "[CV 2/5] END C=1, decision_function_shape=ovo, gamma=1, kernel=linear;, score=0.502 total time=   1.9s\n",
      "[CV 3/5] END C=1, decision_function_shape=ovo, gamma=1, kernel=linear;, score=0.490 total time=   1.7s\n",
      "[CV 4/5] END C=1, decision_function_shape=ovo, gamma=1, kernel=linear;, score=0.478 total time=   1.7s\n",
      "[CV 5/5] END C=1, decision_function_shape=ovo, gamma=1, kernel=linear;, score=0.485 total time=   1.9s\n",
      "[CV 1/5] END C=1, decision_function_shape=ovo, gamma=1, kernel=rbf;, score=0.380 total time=   2.0s\n",
      "[CV 2/5] END C=1, decision_function_shape=ovo, gamma=1, kernel=rbf;, score=0.382 total time=   2.0s\n",
      "[CV 3/5] END C=1, decision_function_shape=ovo, gamma=1, kernel=rbf;, score=0.359 total time=   2.0s\n",
      "[CV 4/5] END C=1, decision_function_shape=ovo, gamma=1, kernel=rbf;, score=0.392 total time=   2.0s\n",
      "[CV 5/5] END C=1, decision_function_shape=ovo, gamma=1, kernel=rbf;, score=0.384 total time=   2.0s\n",
      "[CV 1/5] END C=1, decision_function_shape=ovo, gamma=0.1, kernel=linear;, score=0.469 total time=   2.0s\n",
      "[CV 2/5] END C=1, decision_function_shape=ovo, gamma=0.1, kernel=linear;, score=0.502 total time=   1.9s\n",
      "[CV 3/5] END C=1, decision_function_shape=ovo, gamma=0.1, kernel=linear;, score=0.490 total time=   1.7s\n",
      "[CV 4/5] END C=1, decision_function_shape=ovo, gamma=0.1, kernel=linear;, score=0.478 total time=   1.8s\n",
      "[CV 5/5] END C=1, decision_function_shape=ovo, gamma=0.1, kernel=linear;, score=0.485 total time=   1.9s\n",
      "[CV 1/5] END C=1, decision_function_shape=ovo, gamma=0.1, kernel=rbf;, score=0.467 total time=   1.8s\n",
      "[CV 2/5] END C=1, decision_function_shape=ovo, gamma=0.1, kernel=rbf;, score=0.469 total time=   1.7s\n",
      "[CV 3/5] END C=1, decision_function_shape=ovo, gamma=0.1, kernel=rbf;, score=0.452 total time=   1.7s\n",
      "[CV 4/5] END C=1, decision_function_shape=ovo, gamma=0.1, kernel=rbf;, score=0.472 total time=   1.7s\n",
      "[CV 5/5] END C=1, decision_function_shape=ovo, gamma=0.1, kernel=rbf;, score=0.473 total time=   1.7s\n",
      "[CV 1/5] END C=1, decision_function_shape=ovo, gamma=0.01, kernel=linear;, score=0.469 total time=   2.0s\n",
      "[CV 2/5] END C=1, decision_function_shape=ovo, gamma=0.01, kernel=linear;, score=0.502 total time=   1.9s\n",
      "[CV 3/5] END C=1, decision_function_shape=ovo, gamma=0.01, kernel=linear;, score=0.490 total time=   1.7s\n",
      "[CV 4/5] END C=1, decision_function_shape=ovo, gamma=0.01, kernel=linear;, score=0.478 total time=   1.7s\n",
      "[CV 5/5] END C=1, decision_function_shape=ovo, gamma=0.01, kernel=linear;, score=0.485 total time=   1.9s\n",
      "[CV 1/5] END C=1, decision_function_shape=ovo, gamma=0.01, kernel=rbf;, score=0.474 total time=   1.3s\n",
      "[CV 2/5] END C=1, decision_function_shape=ovo, gamma=0.01, kernel=rbf;, score=0.489 total time=   1.3s\n",
      "[CV 3/5] END C=1, decision_function_shape=ovo, gamma=0.01, kernel=rbf;, score=0.478 total time=   1.3s\n",
      "[CV 4/5] END C=1, decision_function_shape=ovo, gamma=0.01, kernel=rbf;, score=0.482 total time=   1.3s\n",
      "[CV 5/5] END C=1, decision_function_shape=ovo, gamma=0.01, kernel=rbf;, score=0.482 total time=   1.3s\n",
      "[CV 1/5] END C=1, decision_function_shape=ovo, gamma=0.001, kernel=linear;, score=0.469 total time=   2.0s\n",
      "[CV 2/5] END C=1, decision_function_shape=ovo, gamma=0.001, kernel=linear;, score=0.502 total time=   1.9s\n",
      "[CV 3/5] END C=1, decision_function_shape=ovo, gamma=0.001, kernel=linear;, score=0.490 total time=   1.7s\n",
      "[CV 4/5] END C=1, decision_function_shape=ovo, gamma=0.001, kernel=linear;, score=0.478 total time=   1.7s\n",
      "[CV 5/5] END C=1, decision_function_shape=ovo, gamma=0.001, kernel=linear;, score=0.485 total time=   1.9s\n",
      "[CV 1/5] END C=1, decision_function_shape=ovo, gamma=0.001, kernel=rbf;, score=0.454 total time=   1.5s\n",
      "[CV 2/5] END C=1, decision_function_shape=ovo, gamma=0.001, kernel=rbf;, score=0.466 total time=   1.5s\n",
      "[CV 3/5] END C=1, decision_function_shape=ovo, gamma=0.001, kernel=rbf;, score=0.455 total time=   1.5s\n",
      "[CV 4/5] END C=1, decision_function_shape=ovo, gamma=0.001, kernel=rbf;, score=0.462 total time=   1.5s\n",
      "[CV 5/5] END C=1, decision_function_shape=ovo, gamma=0.001, kernel=rbf;, score=0.456 total time=   1.5s\n",
      "[CV 1/5] END C=1, decision_function_shape=ovr, gamma=1, kernel=linear;, score=0.469 total time=   2.0s\n",
      "[CV 2/5] END C=1, decision_function_shape=ovr, gamma=1, kernel=linear;, score=0.502 total time=   1.9s\n",
      "[CV 3/5] END C=1, decision_function_shape=ovr, gamma=1, kernel=linear;, score=0.490 total time=   1.7s\n",
      "[CV 4/5] END C=1, decision_function_shape=ovr, gamma=1, kernel=linear;, score=0.478 total time=   1.7s\n",
      "[CV 5/5] END C=1, decision_function_shape=ovr, gamma=1, kernel=linear;, score=0.485 total time=   1.9s\n",
      "[CV 1/5] END C=1, decision_function_shape=ovr, gamma=1, kernel=rbf;, score=0.380 total time=   2.0s\n",
      "[CV 2/5] END C=1, decision_function_shape=ovr, gamma=1, kernel=rbf;, score=0.382 total time=   2.0s\n",
      "[CV 3/5] END C=1, decision_function_shape=ovr, gamma=1, kernel=rbf;, score=0.359 total time=   2.0s\n",
      "[CV 4/5] END C=1, decision_function_shape=ovr, gamma=1, kernel=rbf;, score=0.392 total time=   2.0s\n",
      "[CV 5/5] END C=1, decision_function_shape=ovr, gamma=1, kernel=rbf;, score=0.384 total time=   2.0s\n",
      "[CV 1/5] END C=1, decision_function_shape=ovr, gamma=0.1, kernel=linear;, score=0.469 total time=   2.0s\n",
      "[CV 2/5] END C=1, decision_function_shape=ovr, gamma=0.1, kernel=linear;, score=0.502 total time=   1.9s\n",
      "[CV 3/5] END C=1, decision_function_shape=ovr, gamma=0.1, kernel=linear;, score=0.490 total time=   1.7s\n",
      "[CV 4/5] END C=1, decision_function_shape=ovr, gamma=0.1, kernel=linear;, score=0.478 total time=   1.7s\n",
      "[CV 5/5] END C=1, decision_function_shape=ovr, gamma=0.1, kernel=linear;, score=0.485 total time=   1.9s\n",
      "[CV 1/5] END C=1, decision_function_shape=ovr, gamma=0.1, kernel=rbf;, score=0.467 total time=   1.7s\n",
      "[CV 2/5] END C=1, decision_function_shape=ovr, gamma=0.1, kernel=rbf;, score=0.469 total time=   1.7s\n",
      "[CV 3/5] END C=1, decision_function_shape=ovr, gamma=0.1, kernel=rbf;, score=0.452 total time=   1.7s\n",
      "[CV 4/5] END C=1, decision_function_shape=ovr, gamma=0.1, kernel=rbf;, score=0.472 total time=   1.7s\n",
      "[CV 5/5] END C=1, decision_function_shape=ovr, gamma=0.1, kernel=rbf;, score=0.473 total time=   1.7s\n",
      "[CV 1/5] END C=1, decision_function_shape=ovr, gamma=0.01, kernel=linear;, score=0.469 total time=   2.0s\n",
      "[CV 2/5] END C=1, decision_function_shape=ovr, gamma=0.01, kernel=linear;, score=0.502 total time=   1.9s\n",
      "[CV 3/5] END C=1, decision_function_shape=ovr, gamma=0.01, kernel=linear;, score=0.490 total time=   1.7s\n",
      "[CV 4/5] END C=1, decision_function_shape=ovr, gamma=0.01, kernel=linear;, score=0.478 total time=   1.7s\n",
      "[CV 5/5] END C=1, decision_function_shape=ovr, gamma=0.01, kernel=linear;, score=0.485 total time=   1.9s\n",
      "[CV 1/5] END C=1, decision_function_shape=ovr, gamma=0.01, kernel=rbf;, score=0.474 total time=   1.3s\n",
      "[CV 2/5] END C=1, decision_function_shape=ovr, gamma=0.01, kernel=rbf;, score=0.489 total time=   1.3s\n",
      "[CV 3/5] END C=1, decision_function_shape=ovr, gamma=0.01, kernel=rbf;, score=0.478 total time=   1.3s\n",
      "[CV 4/5] END C=1, decision_function_shape=ovr, gamma=0.01, kernel=rbf;, score=0.482 total time=   1.3s\n",
      "[CV 5/5] END C=1, decision_function_shape=ovr, gamma=0.01, kernel=rbf;, score=0.482 total time=   1.3s\n",
      "[CV 1/5] END C=1, decision_function_shape=ovr, gamma=0.001, kernel=linear;, score=0.469 total time=   2.0s\n",
      "[CV 2/5] END C=1, decision_function_shape=ovr, gamma=0.001, kernel=linear;, score=0.502 total time=   1.9s\n",
      "[CV 3/5] END C=1, decision_function_shape=ovr, gamma=0.001, kernel=linear;, score=0.490 total time=   1.7s\n",
      "[CV 4/5] END C=1, decision_function_shape=ovr, gamma=0.001, kernel=linear;, score=0.478 total time=   1.7s\n",
      "[CV 5/5] END C=1, decision_function_shape=ovr, gamma=0.001, kernel=linear;, score=0.485 total time=   1.9s\n",
      "[CV 1/5] END C=1, decision_function_shape=ovr, gamma=0.001, kernel=rbf;, score=0.454 total time=   1.5s\n",
      "[CV 2/5] END C=1, decision_function_shape=ovr, gamma=0.001, kernel=rbf;, score=0.466 total time=   1.5s\n",
      "[CV 3/5] END C=1, decision_function_shape=ovr, gamma=0.001, kernel=rbf;, score=0.455 total time=   1.5s\n",
      "[CV 4/5] END C=1, decision_function_shape=ovr, gamma=0.001, kernel=rbf;, score=0.462 total time=   1.5s\n",
      "[CV 5/5] END C=1, decision_function_shape=ovr, gamma=0.001, kernel=rbf;, score=0.456 total time=   1.5s\n",
      "[CV 1/5] END C=5, decision_function_shape=ovo, gamma=1, kernel=linear;, score=0.472 total time=   5.8s\n",
      "[CV 2/5] END C=5, decision_function_shape=ovo, gamma=1, kernel=linear;, score=0.505 total time=   5.8s\n",
      "[CV 3/5] END C=5, decision_function_shape=ovo, gamma=1, kernel=linear;, score=0.491 total time=   5.4s\n",
      "[CV 4/5] END C=5, decision_function_shape=ovo, gamma=1, kernel=linear;, score=0.478 total time=   5.0s\n",
      "[CV 5/5] END C=5, decision_function_shape=ovo, gamma=1, kernel=linear;, score=0.482 total time=   6.2s\n",
      "[CV 1/5] END C=5, decision_function_shape=ovo, gamma=1, kernel=rbf;, score=0.381 total time=   2.0s\n",
      "[CV 2/5] END C=5, decision_function_shape=ovo, gamma=1, kernel=rbf;, score=0.393 total time=   2.0s\n",
      "[CV 3/5] END C=5, decision_function_shape=ovo, gamma=1, kernel=rbf;, score=0.368 total time=   2.0s\n",
      "[CV 4/5] END C=5, decision_function_shape=ovo, gamma=1, kernel=rbf;, score=0.397 total time=   2.0s\n",
      "[CV 5/5] END C=5, decision_function_shape=ovo, gamma=1, kernel=rbf;, score=0.393 total time=   2.1s\n",
      "[CV 1/5] END C=5, decision_function_shape=ovo, gamma=0.1, kernel=linear;, score=0.472 total time=   5.8s\n",
      "[CV 2/5] END C=5, decision_function_shape=ovo, gamma=0.1, kernel=linear;, score=0.505 total time=   5.7s\n",
      "[CV 3/5] END C=5, decision_function_shape=ovo, gamma=0.1, kernel=linear;, score=0.491 total time=   5.6s\n",
      "[CV 4/5] END C=5, decision_function_shape=ovo, gamma=0.1, kernel=linear;, score=0.478 total time=   4.9s\n",
      "[CV 5/5] END C=5, decision_function_shape=ovo, gamma=0.1, kernel=linear;, score=0.482 total time=   6.2s\n",
      "[CV 1/5] END C=5, decision_function_shape=ovo, gamma=0.1, kernel=rbf;, score=0.462 total time=   1.8s\n",
      "[CV 2/5] END C=5, decision_function_shape=ovo, gamma=0.1, kernel=rbf;, score=0.472 total time=   1.8s\n",
      "[CV 3/5] END C=5, decision_function_shape=ovo, gamma=0.1, kernel=rbf;, score=0.462 total time=   1.8s\n",
      "[CV 4/5] END C=5, decision_function_shape=ovo, gamma=0.1, kernel=rbf;, score=0.479 total time=   1.9s\n",
      "[CV 5/5] END C=5, decision_function_shape=ovo, gamma=0.1, kernel=rbf;, score=0.472 total time=   2.0s\n",
      "[CV 1/5] END C=5, decision_function_shape=ovo, gamma=0.01, kernel=linear;, score=0.472 total time=   6.1s\n",
      "[CV 2/5] END C=5, decision_function_shape=ovo, gamma=0.01, kernel=linear;, score=0.505 total time=   5.6s\n",
      "[CV 3/5] END C=5, decision_function_shape=ovo, gamma=0.01, kernel=linear;, score=0.491 total time=   5.5s\n",
      "[CV 4/5] END C=5, decision_function_shape=ovo, gamma=0.01, kernel=linear;, score=0.478 total time=   5.3s\n",
      "[CV 5/5] END C=5, decision_function_shape=ovo, gamma=0.01, kernel=linear;, score=0.482 total time=   7.1s\n",
      "[CV 1/5] END C=5, decision_function_shape=ovo, gamma=0.01, kernel=rbf;, score=0.489 total time=   1.7s\n",
      "[CV 2/5] END C=5, decision_function_shape=ovo, gamma=0.01, kernel=rbf;, score=0.509 total time=   1.9s\n",
      "[CV 3/5] END C=5, decision_function_shape=ovo, gamma=0.01, kernel=rbf;, score=0.485 total time=   2.1s\n",
      "[CV 4/5] END C=5, decision_function_shape=ovo, gamma=0.01, kernel=rbf;, score=0.496 total time=   1.7s\n",
      "[CV 5/5] END C=5, decision_function_shape=ovo, gamma=0.01, kernel=rbf;, score=0.492 total time=   1.6s\n",
      "[CV 1/5] END C=5, decision_function_shape=ovo, gamma=0.001, kernel=linear;, score=0.472 total time=   6.9s\n",
      "[CV 2/5] END C=5, decision_function_shape=ovo, gamma=0.001, kernel=linear;, score=0.505 total time=   6.2s\n",
      "[CV 3/5] END C=5, decision_function_shape=ovo, gamma=0.001, kernel=linear;, score=0.491 total time=   5.7s\n",
      "[CV 4/5] END C=5, decision_function_shape=ovo, gamma=0.001, kernel=linear;, score=0.478 total time=   4.9s\n",
      "[CV 5/5] END C=5, decision_function_shape=ovo, gamma=0.001, kernel=linear;, score=0.482 total time=   6.3s\n",
      "[CV 1/5] END C=5, decision_function_shape=ovo, gamma=0.001, kernel=rbf;, score=0.464 total time=   1.3s\n",
      "[CV 2/5] END C=5, decision_function_shape=ovo, gamma=0.001, kernel=rbf;, score=0.485 total time=   1.3s\n",
      "[CV 3/5] END C=5, decision_function_shape=ovo, gamma=0.001, kernel=rbf;, score=0.472 total time=   1.3s\n",
      "[CV 4/5] END C=5, decision_function_shape=ovo, gamma=0.001, kernel=rbf;, score=0.469 total time=   1.3s\n",
      "[CV 5/5] END C=5, decision_function_shape=ovo, gamma=0.001, kernel=rbf;, score=0.477 total time=   1.3s\n",
      "[CV 1/5] END C=5, decision_function_shape=ovr, gamma=1, kernel=linear;, score=0.472 total time=   5.9s\n",
      "[CV 2/5] END C=5, decision_function_shape=ovr, gamma=1, kernel=linear;, score=0.505 total time=   5.6s\n",
      "[CV 3/5] END C=5, decision_function_shape=ovr, gamma=1, kernel=linear;, score=0.491 total time=   5.4s\n",
      "[CV 4/5] END C=5, decision_function_shape=ovr, gamma=1, kernel=linear;, score=0.478 total time=   4.9s\n",
      "[CV 5/5] END C=5, decision_function_shape=ovr, gamma=1, kernel=linear;, score=0.482 total time=   6.2s\n",
      "[CV 1/5] END C=5, decision_function_shape=ovr, gamma=1, kernel=rbf;, score=0.381 total time=   2.1s\n",
      "[CV 2/5] END C=5, decision_function_shape=ovr, gamma=1, kernel=rbf;, score=0.393 total time=   2.2s\n",
      "[CV 3/5] END C=5, decision_function_shape=ovr, gamma=1, kernel=rbf;, score=0.368 total time=   2.1s\n",
      "[CV 4/5] END C=5, decision_function_shape=ovr, gamma=1, kernel=rbf;, score=0.397 total time=   2.1s\n",
      "[CV 5/5] END C=5, decision_function_shape=ovr, gamma=1, kernel=rbf;, score=0.393 total time=   3.1s\n",
      "[CV 1/5] END C=5, decision_function_shape=ovr, gamma=0.1, kernel=linear;, score=0.472 total time=   7.4s\n",
      "[CV 2/5] END C=5, decision_function_shape=ovr, gamma=0.1, kernel=linear;, score=0.505 total time=   7.0s\n",
      "[CV 3/5] END C=5, decision_function_shape=ovr, gamma=0.1, kernel=linear;, score=0.491 total time=   6.7s\n",
      "[CV 4/5] END C=5, decision_function_shape=ovr, gamma=0.1, kernel=linear;, score=0.478 total time=   5.6s\n",
      "[CV 5/5] END C=5, decision_function_shape=ovr, gamma=0.1, kernel=linear;, score=0.482 total time=   7.2s\n",
      "[CV 1/5] END C=5, decision_function_shape=ovr, gamma=0.1, kernel=rbf;, score=0.462 total time=   2.0s\n",
      "[CV 2/5] END C=5, decision_function_shape=ovr, gamma=0.1, kernel=rbf;, score=0.472 total time=   2.0s\n",
      "[CV 3/5] END C=5, decision_function_shape=ovr, gamma=0.1, kernel=rbf;, score=0.462 total time=   2.0s\n",
      "[CV 4/5] END C=5, decision_function_shape=ovr, gamma=0.1, kernel=rbf;, score=0.479 total time=   2.1s\n",
      "[CV 5/5] END C=5, decision_function_shape=ovr, gamma=0.1, kernel=rbf;, score=0.472 total time=   2.0s\n",
      "[CV 1/5] END C=5, decision_function_shape=ovr, gamma=0.01, kernel=linear;, score=0.472 total time=   6.2s\n",
      "[CV 2/5] END C=5, decision_function_shape=ovr, gamma=0.01, kernel=linear;, score=0.505 total time=   6.1s\n",
      "[CV 3/5] END C=5, decision_function_shape=ovr, gamma=0.01, kernel=linear;, score=0.491 total time=   6.2s\n",
      "[CV 4/5] END C=5, decision_function_shape=ovr, gamma=0.01, kernel=linear;, score=0.478 total time=   5.2s\n",
      "[CV 5/5] END C=5, decision_function_shape=ovr, gamma=0.01, kernel=linear;, score=0.482 total time=   6.6s\n",
      "[CV 1/5] END C=5, decision_function_shape=ovr, gamma=0.01, kernel=rbf;, score=0.489 total time=   1.4s\n",
      "[CV 2/5] END C=5, decision_function_shape=ovr, gamma=0.01, kernel=rbf;, score=0.509 total time=   1.4s\n",
      "[CV 3/5] END C=5, decision_function_shape=ovr, gamma=0.01, kernel=rbf;, score=0.485 total time=   1.4s\n",
      "[CV 4/5] END C=5, decision_function_shape=ovr, gamma=0.01, kernel=rbf;, score=0.496 total time=   1.4s\n",
      "[CV 5/5] END C=5, decision_function_shape=ovr, gamma=0.01, kernel=rbf;, score=0.492 total time=   1.5s\n",
      "[CV 1/5] END C=5, decision_function_shape=ovr, gamma=0.001, kernel=linear;, score=0.472 total time=   6.5s\n",
      "[CV 2/5] END C=5, decision_function_shape=ovr, gamma=0.001, kernel=linear;, score=0.505 total time=   6.6s\n",
      "[CV 3/5] END C=5, decision_function_shape=ovr, gamma=0.001, kernel=linear;, score=0.491 total time=   6.2s\n",
      "[CV 4/5] END C=5, decision_function_shape=ovr, gamma=0.001, kernel=linear;, score=0.478 total time=   5.6s\n",
      "[CV 5/5] END C=5, decision_function_shape=ovr, gamma=0.001, kernel=linear;, score=0.482 total time=   7.6s\n",
      "[CV 1/5] END C=5, decision_function_shape=ovr, gamma=0.001, kernel=rbf;, score=0.464 total time=   1.5s\n",
      "[CV 2/5] END C=5, decision_function_shape=ovr, gamma=0.001, kernel=rbf;, score=0.485 total time=   1.5s\n",
      "[CV 3/5] END C=5, decision_function_shape=ovr, gamma=0.001, kernel=rbf;, score=0.472 total time=   1.4s\n",
      "[CV 4/5] END C=5, decision_function_shape=ovr, gamma=0.001, kernel=rbf;, score=0.469 total time=   1.5s\n",
      "[CV 5/5] END C=5, decision_function_shape=ovr, gamma=0.001, kernel=rbf;, score=0.477 total time=   1.5s\n",
      "[CV 1/5] END C=10, decision_function_shape=ovo, gamma=1, kernel=linear;, score=0.474 total time=  10.9s\n",
      "[CV 2/5] END C=10, decision_function_shape=ovo, gamma=1, kernel=linear;, score=0.503 total time=  11.4s\n",
      "[CV 3/5] END C=10, decision_function_shape=ovo, gamma=1, kernel=linear;, score=0.491 total time=  10.2s\n",
      "[CV 4/5] END C=10, decision_function_shape=ovo, gamma=1, kernel=linear;, score=0.478 total time=   9.8s\n",
      "[CV 5/5] END C=10, decision_function_shape=ovo, gamma=1, kernel=linear;, score=0.489 total time=  12.0s\n",
      "[CV 1/5] END C=10, decision_function_shape=ovo, gamma=1, kernel=rbf;, score=0.384 total time=   2.3s\n",
      "[CV 2/5] END C=10, decision_function_shape=ovo, gamma=1, kernel=rbf;, score=0.393 total time=   2.3s\n",
      "[CV 3/5] END C=10, decision_function_shape=ovo, gamma=1, kernel=rbf;, score=0.367 total time=   2.3s\n",
      "[CV 4/5] END C=10, decision_function_shape=ovo, gamma=1, kernel=rbf;, score=0.390 total time=   2.3s\n",
      "[CV 5/5] END C=10, decision_function_shape=ovo, gamma=1, kernel=rbf;, score=0.394 total time=   2.3s\n",
      "[CV 1/5] END C=10, decision_function_shape=ovo, gamma=0.1, kernel=linear;, score=0.474 total time=  11.0s\n",
      "[CV 2/5] END C=10, decision_function_shape=ovo, gamma=0.1, kernel=linear;, score=0.503 total time=  11.2s\n",
      "[CV 3/5] END C=10, decision_function_shape=ovo, gamma=0.1, kernel=linear;, score=0.491 total time=   9.8s\n",
      "[CV 4/5] END C=10, decision_function_shape=ovo, gamma=0.1, kernel=linear;, score=0.478 total time=   9.9s\n",
      "[CV 5/5] END C=10, decision_function_shape=ovo, gamma=0.1, kernel=linear;, score=0.489 total time=  11.8s\n",
      "[CV 1/5] END C=10, decision_function_shape=ovo, gamma=0.1, kernel=rbf;, score=0.463 total time=   2.1s\n",
      "[CV 2/5] END C=10, decision_function_shape=ovo, gamma=0.1, kernel=rbf;, score=0.472 total time=   2.0s\n",
      "[CV 3/5] END C=10, decision_function_shape=ovo, gamma=0.1, kernel=rbf;, score=0.460 total time=   2.0s\n",
      "[CV 4/5] END C=10, decision_function_shape=ovo, gamma=0.1, kernel=rbf;, score=0.478 total time=   2.1s\n",
      "[CV 5/5] END C=10, decision_function_shape=ovo, gamma=0.1, kernel=rbf;, score=0.471 total time=   2.1s\n",
      "[CV 1/5] END C=10, decision_function_shape=ovo, gamma=0.01, kernel=linear;, score=0.474 total time=  10.8s\n",
      "[CV 2/5] END C=10, decision_function_shape=ovo, gamma=0.01, kernel=linear;, score=0.503 total time=  11.3s\n",
      "[CV 3/5] END C=10, decision_function_shape=ovo, gamma=0.01, kernel=linear;, score=0.491 total time=   9.9s\n",
      "[CV 4/5] END C=10, decision_function_shape=ovo, gamma=0.01, kernel=linear;, score=0.478 total time=   9.8s\n",
      "[CV 5/5] END C=10, decision_function_shape=ovo, gamma=0.01, kernel=linear;, score=0.489 total time=  11.7s\n",
      "[CV 1/5] END C=10, decision_function_shape=ovo, gamma=0.01, kernel=rbf;, score=0.481 total time=   1.5s\n",
      "[CV 2/5] END C=10, decision_function_shape=ovo, gamma=0.01, kernel=rbf;, score=0.501 total time=   1.5s\n",
      "[CV 3/5] END C=10, decision_function_shape=ovo, gamma=0.01, kernel=rbf;, score=0.497 total time=   1.5s\n",
      "[CV 4/5] END C=10, decision_function_shape=ovo, gamma=0.01, kernel=rbf;, score=0.495 total time=   1.5s\n",
      "[CV 5/5] END C=10, decision_function_shape=ovo, gamma=0.01, kernel=rbf;, score=0.497 total time=   1.5s\n",
      "[CV 1/5] END C=10, decision_function_shape=ovo, gamma=0.001, kernel=linear;, score=0.474 total time=  10.8s\n",
      "[CV 2/5] END C=10, decision_function_shape=ovo, gamma=0.001, kernel=linear;, score=0.503 total time=  11.2s\n",
      "[CV 3/5] END C=10, decision_function_shape=ovo, gamma=0.001, kernel=linear;, score=0.491 total time=   9.9s\n",
      "[CV 4/5] END C=10, decision_function_shape=ovo, gamma=0.001, kernel=linear;, score=0.478 total time=   9.9s\n",
      "[CV 5/5] END C=10, decision_function_shape=ovo, gamma=0.001, kernel=linear;, score=0.489 total time=  11.6s\n",
      "[CV 1/5] END C=10, decision_function_shape=ovo, gamma=0.001, kernel=rbf;, score=0.467 total time=   1.4s\n",
      "[CV 2/5] END C=10, decision_function_shape=ovo, gamma=0.001, kernel=rbf;, score=0.491 total time=   1.4s\n",
      "[CV 3/5] END C=10, decision_function_shape=ovo, gamma=0.001, kernel=rbf;, score=0.476 total time=   1.4s\n",
      "[CV 4/5] END C=10, decision_function_shape=ovo, gamma=0.001, kernel=rbf;, score=0.471 total time=   1.4s\n",
      "[CV 5/5] END C=10, decision_function_shape=ovo, gamma=0.001, kernel=rbf;, score=0.479 total time=   1.4s\n",
      "[CV 1/5] END C=10, decision_function_shape=ovr, gamma=1, kernel=linear;, score=0.474 total time=  10.8s\n",
      "[CV 2/5] END C=10, decision_function_shape=ovr, gamma=1, kernel=linear;, score=0.503 total time=  11.3s\n",
      "[CV 3/5] END C=10, decision_function_shape=ovr, gamma=1, kernel=linear;, score=0.491 total time=   9.9s\n",
      "[CV 4/5] END C=10, decision_function_shape=ovr, gamma=1, kernel=linear;, score=0.478 total time=  10.7s\n",
      "[CV 5/5] END C=10, decision_function_shape=ovr, gamma=1, kernel=linear;, score=0.489 total time=  12.3s\n",
      "[CV 1/5] END C=10, decision_function_shape=ovr, gamma=1, kernel=rbf;, score=0.384 total time=   2.3s\n",
      "[CV 2/5] END C=10, decision_function_shape=ovr, gamma=1, kernel=rbf;, score=0.393 total time=   2.3s\n",
      "[CV 3/5] END C=10, decision_function_shape=ovr, gamma=1, kernel=rbf;, score=0.367 total time=   2.4s\n",
      "[CV 4/5] END C=10, decision_function_shape=ovr, gamma=1, kernel=rbf;, score=0.390 total time=   2.4s\n",
      "[CV 5/5] END C=10, decision_function_shape=ovr, gamma=1, kernel=rbf;, score=0.394 total time=   2.1s\n",
      "[CV 1/5] END C=10, decision_function_shape=ovr, gamma=0.1, kernel=linear;, score=0.474 total time=  10.4s\n",
      "[CV 2/5] END C=10, decision_function_shape=ovr, gamma=0.1, kernel=linear;, score=0.503 total time=  10.7s\n",
      "[CV 3/5] END C=10, decision_function_shape=ovr, gamma=0.1, kernel=linear;, score=0.491 total time=   9.4s\n",
      "[CV 4/5] END C=10, decision_function_shape=ovr, gamma=0.1, kernel=linear;, score=0.478 total time=   9.9s\n",
      "[CV 5/5] END C=10, decision_function_shape=ovr, gamma=0.1, kernel=linear;, score=0.489 total time=  11.1s\n",
      "[CV 1/5] END C=10, decision_function_shape=ovr, gamma=0.1, kernel=rbf;, score=0.463 total time=   1.9s\n",
      "[CV 2/5] END C=10, decision_function_shape=ovr, gamma=0.1, kernel=rbf;, score=0.472 total time=   1.9s\n",
      "[CV 3/5] END C=10, decision_function_shape=ovr, gamma=0.1, kernel=rbf;, score=0.460 total time=   1.9s\n",
      "[CV 4/5] END C=10, decision_function_shape=ovr, gamma=0.1, kernel=rbf;, score=0.478 total time=   1.9s\n",
      "[CV 5/5] END C=10, decision_function_shape=ovr, gamma=0.1, kernel=rbf;, score=0.471 total time=   2.3s\n",
      "[CV 1/5] END C=10, decision_function_shape=ovr, gamma=0.01, kernel=linear;, score=0.474 total time=  10.2s\n",
      "[CV 2/5] END C=10, decision_function_shape=ovr, gamma=0.01, kernel=linear;, score=0.503 total time=  10.7s\n",
      "[CV 3/5] END C=10, decision_function_shape=ovr, gamma=0.01, kernel=linear;, score=0.491 total time=   9.4s\n",
      "[CV 4/5] END C=10, decision_function_shape=ovr, gamma=0.01, kernel=linear;, score=0.478 total time=   9.2s\n",
      "[CV 5/5] END C=10, decision_function_shape=ovr, gamma=0.01, kernel=linear;, score=0.489 total time=  11.0s\n",
      "[CV 1/5] END C=10, decision_function_shape=ovr, gamma=0.01, kernel=rbf;, score=0.481 total time=   1.3s\n",
      "[CV 2/5] END C=10, decision_function_shape=ovr, gamma=0.01, kernel=rbf;, score=0.501 total time=   1.4s\n",
      "[CV 3/5] END C=10, decision_function_shape=ovr, gamma=0.01, kernel=rbf;, score=0.497 total time=   1.3s\n",
      "[CV 4/5] END C=10, decision_function_shape=ovr, gamma=0.01, kernel=rbf;, score=0.495 total time=   1.4s\n",
      "[CV 5/5] END C=10, decision_function_shape=ovr, gamma=0.01, kernel=rbf;, score=0.497 total time=   1.4s\n",
      "[CV 1/5] END C=10, decision_function_shape=ovr, gamma=0.001, kernel=linear;, score=0.474 total time=  10.2s\n",
      "[CV 2/5] END C=10, decision_function_shape=ovr, gamma=0.001, kernel=linear;, score=0.503 total time=  10.6s\n",
      "[CV 3/5] END C=10, decision_function_shape=ovr, gamma=0.001, kernel=linear;, score=0.491 total time=   9.3s\n",
      "[CV 4/5] END C=10, decision_function_shape=ovr, gamma=0.001, kernel=linear;, score=0.478 total time=   9.3s\n",
      "[CV 5/5] END C=10, decision_function_shape=ovr, gamma=0.001, kernel=linear;, score=0.489 total time=  11.0s\n",
      "[CV 1/5] END C=10, decision_function_shape=ovr, gamma=0.001, kernel=rbf;, score=0.467 total time=   1.3s\n",
      "[CV 2/5] END C=10, decision_function_shape=ovr, gamma=0.001, kernel=rbf;, score=0.491 total time=   1.3s\n",
      "[CV 3/5] END C=10, decision_function_shape=ovr, gamma=0.001, kernel=rbf;, score=0.476 total time=   1.3s\n",
      "[CV 4/5] END C=10, decision_function_shape=ovr, gamma=0.001, kernel=rbf;, score=0.471 total time=   1.3s\n",
      "[CV 5/5] END C=10, decision_function_shape=ovr, gamma=0.001, kernel=rbf;, score=0.479 total time=   1.3s\n",
      "{'C': 10, 'decision_function_shape': 'ovo', 'gamma': 0.01, 'kernel': 'rbf'}\n",
      "SVC(C=10, decision_function_shape='ovo', gamma=0.01)\n"
     ]
    }
   ],
   "source": [
    "parameters = {'C': [0.1, 1, 5, 10], 'gamma': [1, 0.1, 0.01, 0.001], 'kernel': ['linear', 'rbf'], \"decision_function_shape\": [\"ovo\", \"ovr\"]}\n",
    "grid = GridSearchCV(svm.SVC(), parameters, refit=True, verbose=3)\n",
    "grid.fit(X_train_pca, y_train)\n",
    "print(grid.best_params_)\n",
    "print(grid.best_estimator_)"
   ]
  },
  {
   "cell_type": "code",
   "execution_count": null,
   "metadata": {
    "collapsed": false
   },
   "outputs": [],
   "source": [
    "# Create Models\n",
    "models_pca = [\n",
    "    svm.SVC(kernel='linear', probability=True, random_state=43),\n",
    "    svm.SVC(kernel='poly', probability=True, random_state=43),\n",
    "    svm.SVC(kernel='rbf', probability=True, random_state=43),\n",
    "    svm.SVC(C=10, kernel='rbf', decision_function_shape='ovo', gamma=0.01)\n",
    "]\n",
    "\n",
    "for model_pca in models_pca:\n",
    "    model_pca.fit(X_train_pca, y_train)"
   ]
  },
  {
   "cell_type": "markdown",
   "metadata": {
    "collapsed": false
   },
   "source": [
    "#### Check Results"
   ]
  },
  {
   "cell_type": "code",
   "execution_count": null,
   "metadata": {
    "collapsed": false
   },
   "outputs": [
    {
     "name": "stdout",
     "output_type": "stream",
     "text": [
      "Model accuracy: 49.34%\n",
      "Model accuracy: 42.91%\n",
      "Model accuracy: 49.19%\n",
      "Model accuracy: 47.67%\n"
     ]
    }
   ],
   "source": [
    "for i, model_pca in enumerate(models_pca):\n",
    "    score_pca = model_pca.score(X_test_pca, y_test).__round__(4) * 100\n",
    "    print(f'Model accuracy: {score_pca}%')"
   ]
  },
  {
   "cell_type": "markdown",
   "metadata": {
    "collapsed": false
   },
   "source": [
    "| test_size | Scaler              | PCA  | Kernel | Score  |\n",
    "|-----------|---------------------|------|--------|--------|\n",
    "| 0.2       | Standard            | 0.95 | linear | 49.24% |\n",
    "| 0.2       | Standard            | 0    | linear | 48.29% |\n",
    "| 0.2       | MinMax              | 0.95 | linear | 45.7%  |\n",
    "| 0.2       | MinMax              | 0    | linear | 48.23% |\n",
    "| 0.2       | MaxAbs              | 0.95 | linear | 45.7%  |\n",
    "| 0.2       | MaxAbs              | 0    | linear | 48.08% |\n",
    "| 0.2       | RobustScaler        | 0.95 | linear | 47.47% |\n",
    "| 0.2       | RobustScaler        | 0    | linear | 49.39% |\n",
    "| 0.2       | Normalizer          | 0.95 | linear | 44.94% |\n",
    "| 0.2       | Normalizer          | 0    | linear | 47.06% |\n",
    "| 0.2       | QuantileTransformer | 0.95 | linear | 47.22% |\n",
    "| 0.2       | QuantileTransformer | 0    | linear | 48.58% |\n",
    "| 0.2       | PowerTransformer    | 0.95 | linear | 47.57% |\n",
    "| 0.2       | PowerTransformer    | 0    | linear | 47.27% |"
   ]
  },
  {
   "cell_type": "markdown",
   "metadata": {
    "collapsed": false
   },
   "source": [
    "pca = 46.834\n",
    "no_pca = 48.12"
   ]
  },
  {
   "cell_type": "markdown",
   "metadata": {
    "collapsed": false
   },
   "source": [
    "| test_size | Scaler              | PCA  | Kernel | Score  |\n",
    "|-----------|---------------------|------|--------|--------|\n",
    "| 0.2       | RobustScaler        | 0    | linear | 49.39% |\n",
    "| 0.2       | Standard            | 0.95 | linear | 49.24% |\n",
    "| 0.2       | QuantileTransformer | 0    | linear | 48.58% |\n",
    "| 0.2       | Standard            | 0    | linear | 48.29% |\n",
    "| 0.2       | MinMax              | 0    | linear | 48.23% |\n",
    "| 0.2       | MaxAbs              | 0    | linear | 48.08% |\n",
    "| 0.2       | PowerTransformer    | 0.95 | linear | 47.57% |\n",
    "| 0.2       | RobustScaler        | 0.95 | linear | 47.47% |\n",
    "| 0.2       | PowerTransformer    | 0    | linear | 47.27% |\n",
    "| 0.2       | QuantileTransformer | 0.95 | linear | 47.22% |\n",
    "| 0.2       | Normalizer          | 0    | linear | 47.06% |\n",
    "| 0.2       | MinMax              | 0.95 | linear | 45.7%  |\n",
    "| 0.2       | MaxAbs              | 0.95 | linear | 45.7%  |\n",
    "| 0.2       | Normalizer          | 0.95 | linear | 44.94% |\n"
   ]
  },
  {
   "cell_type": "markdown",
   "metadata": {
    "collapsed": false
   },
   "source": []
  }
 ],
 "metadata": {
  "kernelspec": {
   "display_name": "Python 3.10.8 ('pyAA')",
   "language": "python",
   "name": "python3"
  },
  "language_info": {
   "codemirror_mode": {
    "name": "ipython",
    "version": 3
   },
   "file_extension": ".py",
   "mimetype": "text/x-python",
   "name": "python",
   "nbconvert_exporter": "python",
   "pygments_lexer": "ipython3",
   "version": "3.10.8"
  },
  "vscode": {
   "interpreter": {
    "hash": "5eeb9502143e217e56295c83298d15722c318a93c49e1a755647eb96066515fb"
   }
  }
 },
 "nbformat": 4,
 "nbformat_minor": 0
}
