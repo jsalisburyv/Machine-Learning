{
 "cells": [
  {
   "cell_type": "markdown",
   "source": [
    "### Imports"
   ],
   "metadata": {
    "collapsed": false
   }
  },
  {
   "cell_type": "code",
   "execution_count": 135,
   "metadata": {
    "collapsed": true
   },
   "outputs": [],
   "source": [
    "import numpy as np\n",
    "import pandas as pd\n",
    "import matplotlib.pyplot as plt\n",
    "import seaborn as sns"
   ]
  },
  {
   "cell_type": "markdown",
   "source": [
    "### Read Data"
   ],
   "metadata": {
    "collapsed": false
   }
  },
  {
   "cell_type": "code",
   "execution_count": 136,
   "outputs": [
    {
     "data": {
      "text/plain": "   word  lang  len  vow  acc  accl  accr  die  cir  ñ  ...  pre_pol  suf_eng  \\\n0    as     1    2    1    0     0     0    0    0  0  ...        0        1   \n1   his     1    3    1    0     0     0    0    0  0  ...        0        1   \n2  that     1    4    1    0     0     0    0    0  0  ...        0        0   \n3    he     1    2    1    0     0     0    0    0  0  ...        0        0   \n4   was     1    3    1    0     0     0    0    0  0  ...        1        1   \n\n   suf_esp  suf_cat  suf_ita  suf_fra  suf_por  suf_ale  suf_sue  suf_pol  \n0        0        0        0        0        0        0        0        0  \n1        0        0        0        0        0        0        0        0  \n2        0        0        0        0        0        0        0        0  \n3        0        0        0        0        0        1        0        0  \n4        0        0        0        0        0        0        0        0  \n\n[5 rows x 53 columns]",
      "text/html": "<div>\n<style scoped>\n    .dataframe tbody tr th:only-of-type {\n        vertical-align: middle;\n    }\n\n    .dataframe tbody tr th {\n        vertical-align: top;\n    }\n\n    .dataframe thead th {\n        text-align: right;\n    }\n</style>\n<table border=\"1\" class=\"dataframe\">\n  <thead>\n    <tr style=\"text-align: right;\">\n      <th></th>\n      <th>word</th>\n      <th>lang</th>\n      <th>len</th>\n      <th>vow</th>\n      <th>acc</th>\n      <th>accl</th>\n      <th>accr</th>\n      <th>die</th>\n      <th>cir</th>\n      <th>ñ</th>\n      <th>...</th>\n      <th>pre_pol</th>\n      <th>suf_eng</th>\n      <th>suf_esp</th>\n      <th>suf_cat</th>\n      <th>suf_ita</th>\n      <th>suf_fra</th>\n      <th>suf_por</th>\n      <th>suf_ale</th>\n      <th>suf_sue</th>\n      <th>suf_pol</th>\n    </tr>\n  </thead>\n  <tbody>\n    <tr>\n      <th>0</th>\n      <td>as</td>\n      <td>1</td>\n      <td>2</td>\n      <td>1</td>\n      <td>0</td>\n      <td>0</td>\n      <td>0</td>\n      <td>0</td>\n      <td>0</td>\n      <td>0</td>\n      <td>...</td>\n      <td>0</td>\n      <td>1</td>\n      <td>0</td>\n      <td>0</td>\n      <td>0</td>\n      <td>0</td>\n      <td>0</td>\n      <td>0</td>\n      <td>0</td>\n      <td>0</td>\n    </tr>\n    <tr>\n      <th>1</th>\n      <td>his</td>\n      <td>1</td>\n      <td>3</td>\n      <td>1</td>\n      <td>0</td>\n      <td>0</td>\n      <td>0</td>\n      <td>0</td>\n      <td>0</td>\n      <td>0</td>\n      <td>...</td>\n      <td>0</td>\n      <td>1</td>\n      <td>0</td>\n      <td>0</td>\n      <td>0</td>\n      <td>0</td>\n      <td>0</td>\n      <td>0</td>\n      <td>0</td>\n      <td>0</td>\n    </tr>\n    <tr>\n      <th>2</th>\n      <td>that</td>\n      <td>1</td>\n      <td>4</td>\n      <td>1</td>\n      <td>0</td>\n      <td>0</td>\n      <td>0</td>\n      <td>0</td>\n      <td>0</td>\n      <td>0</td>\n      <td>...</td>\n      <td>0</td>\n      <td>0</td>\n      <td>0</td>\n      <td>0</td>\n      <td>0</td>\n      <td>0</td>\n      <td>0</td>\n      <td>0</td>\n      <td>0</td>\n      <td>0</td>\n    </tr>\n    <tr>\n      <th>3</th>\n      <td>he</td>\n      <td>1</td>\n      <td>2</td>\n      <td>1</td>\n      <td>0</td>\n      <td>0</td>\n      <td>0</td>\n      <td>0</td>\n      <td>0</td>\n      <td>0</td>\n      <td>...</td>\n      <td>0</td>\n      <td>0</td>\n      <td>0</td>\n      <td>0</td>\n      <td>0</td>\n      <td>0</td>\n      <td>0</td>\n      <td>1</td>\n      <td>0</td>\n      <td>0</td>\n    </tr>\n    <tr>\n      <th>4</th>\n      <td>was</td>\n      <td>1</td>\n      <td>3</td>\n      <td>1</td>\n      <td>0</td>\n      <td>0</td>\n      <td>0</td>\n      <td>0</td>\n      <td>0</td>\n      <td>0</td>\n      <td>...</td>\n      <td>1</td>\n      <td>1</td>\n      <td>0</td>\n      <td>0</td>\n      <td>0</td>\n      <td>0</td>\n      <td>0</td>\n      <td>0</td>\n      <td>0</td>\n      <td>0</td>\n    </tr>\n  </tbody>\n</table>\n<p>5 rows × 53 columns</p>\n</div>"
     },
     "execution_count": 136,
     "metadata": {},
     "output_type": "execute_result"
    }
   ],
   "source": [
    "df = pd.read_csv('data/final.csv', index_col=0)\n",
    "df.head()"
   ],
   "metadata": {
    "collapsed": false
   }
  },
  {
   "cell_type": "markdown",
   "source": [
    "### Preprocessing"
   ],
   "metadata": {
    "collapsed": false
   }
  },
  {
   "cell_type": "code",
   "execution_count": 399,
   "outputs": [],
   "source": [
    "from sklearn.model_selection import train_test_split, GridSearchCV\n",
    "from sklearn.preprocessing import StandardScaler, RobustScaler\n",
    "from sklearn.decomposition import PCA"
   ],
   "metadata": {
    "collapsed": false
   }
  },
  {
   "cell_type": "code",
   "execution_count": 400,
   "outputs": [],
   "source": [
    "# Separate features from target\n",
    "X = df.drop(['word', 'lang'], axis=1)\n",
    "y = df['lang']"
   ],
   "metadata": {
    "collapsed": false
   }
  },
  {
   "cell_type": "code",
   "execution_count": 401,
   "outputs": [],
   "source": [
    "# Split data for training and testing\n",
    "X_train, X_test, y_train, y_test = train_test_split(X, y, test_size=0.2, random_state=43) # try different test_size"
   ],
   "metadata": {
    "collapsed": false
   }
  },
  {
   "cell_type": "code",
   "execution_count": 402,
   "outputs": [],
   "source": [
    "# Scale Data: https://towardsdatascience.com/feature-scaling-and-normalisation-in-a-nutshell-5319af86f89b\n",
    "scaler = StandardScaler() # try different scalers\n",
    "X_train = scaler.fit_transform(X_train)\n",
    "X_test = scaler.transform(X_test)"
   ],
   "metadata": {
    "collapsed": false
   }
  },
  {
   "cell_type": "code",
   "execution_count": 403,
   "outputs": [],
   "source": [
    "# Dimensionality Reduction: https://www.mikulskibartosz.name/pca-how-to-choose-the-number-of-components/\n",
    "pca = PCA(n_components=0.99, random_state=43) # try different n_components\n",
    "X_train_pca = pca.fit_transform(X_train)\n",
    "X_test_pca = pca.transform(X_test)"
   ],
   "metadata": {
    "collapsed": false
   }
  },
  {
   "cell_type": "markdown",
   "source": [
    "### Model"
   ],
   "metadata": {
    "collapsed": false
   }
  },
  {
   "cell_type": "code",
   "execution_count": 404,
   "outputs": [],
   "source": [
    "from sklearn import svm"
   ],
   "metadata": {
    "collapsed": false
   }
  },
  {
   "cell_type": "code",
   "execution_count": 405,
   "outputs": [
    {
     "name": "stdout",
     "output_type": "stream",
     "text": [
      "Fitting 5 folds for each of 64 candidates, totalling 320 fits\n",
      "[CV 1/5] END C=0.1, decision_function_shape=ovo, gamma=1, kernel=linear;, score=0.464 total time=   1.0s\n",
      "[CV 2/5] END C=0.1, decision_function_shape=ovo, gamma=1, kernel=linear;, score=0.494 total time=   1.0s\n",
      "[CV 3/5] END C=0.1, decision_function_shape=ovo, gamma=1, kernel=linear;, score=0.485 total time=   1.0s\n",
      "[CV 4/5] END C=0.1, decision_function_shape=ovo, gamma=1, kernel=linear;, score=0.477 total time=   0.9s\n",
      "[CV 5/5] END C=0.1, decision_function_shape=ovo, gamma=1, kernel=linear;, score=0.485 total time=   0.9s\n",
      "[CV 1/5] END C=0.1, decision_function_shape=ovo, gamma=1, kernel=rbf;, score=0.256 total time=   2.3s\n",
      "[CV 2/5] END C=0.1, decision_function_shape=ovo, gamma=1, kernel=rbf;, score=0.250 total time=   3.0s\n",
      "[CV 3/5] END C=0.1, decision_function_shape=ovo, gamma=1, kernel=rbf;, score=0.249 total time=   2.4s\n",
      "[CV 4/5] END C=0.1, decision_function_shape=ovo, gamma=1, kernel=rbf;, score=0.249 total time=   2.3s\n",
      "[CV 5/5] END C=0.1, decision_function_shape=ovo, gamma=1, kernel=rbf;, score=0.258 total time=   2.4s\n",
      "[CV 1/5] END C=0.1, decision_function_shape=ovo, gamma=0.1, kernel=linear;, score=0.464 total time=   1.0s\n",
      "[CV 2/5] END C=0.1, decision_function_shape=ovo, gamma=0.1, kernel=linear;, score=0.494 total time=   0.9s\n",
      "[CV 3/5] END C=0.1, decision_function_shape=ovo, gamma=0.1, kernel=linear;, score=0.485 total time=   0.8s\n",
      "[CV 4/5] END C=0.1, decision_function_shape=ovo, gamma=0.1, kernel=linear;, score=0.477 total time=   0.9s\n",
      "[CV 5/5] END C=0.1, decision_function_shape=ovo, gamma=0.1, kernel=linear;, score=0.485 total time=   0.9s\n",
      "[CV 1/5] END C=0.1, decision_function_shape=ovo, gamma=0.1, kernel=rbf;, score=0.366 total time=   2.1s\n",
      "[CV 2/5] END C=0.1, decision_function_shape=ovo, gamma=0.1, kernel=rbf;, score=0.366 total time=   2.1s\n",
      "[CV 3/5] END C=0.1, decision_function_shape=ovo, gamma=0.1, kernel=rbf;, score=0.342 total time=   2.0s\n",
      "[CV 4/5] END C=0.1, decision_function_shape=ovo, gamma=0.1, kernel=rbf;, score=0.379 total time=   1.9s\n",
      "[CV 5/5] END C=0.1, decision_function_shape=ovo, gamma=0.1, kernel=rbf;, score=0.366 total time=   1.9s\n",
      "[CV 1/5] END C=0.1, decision_function_shape=ovo, gamma=0.01, kernel=linear;, score=0.464 total time=   0.8s\n",
      "[CV 2/5] END C=0.1, decision_function_shape=ovo, gamma=0.01, kernel=linear;, score=0.494 total time=   0.8s\n",
      "[CV 3/5] END C=0.1, decision_function_shape=ovo, gamma=0.01, kernel=linear;, score=0.485 total time=   0.8s\n",
      "[CV 4/5] END C=0.1, decision_function_shape=ovo, gamma=0.01, kernel=linear;, score=0.477 total time=   0.8s\n",
      "[CV 5/5] END C=0.1, decision_function_shape=ovo, gamma=0.01, kernel=linear;, score=0.485 total time=   0.8s\n",
      "[CV 1/5] END C=0.1, decision_function_shape=ovo, gamma=0.01, kernel=rbf;, score=0.447 total time=   1.7s\n",
      "[CV 2/5] END C=0.1, decision_function_shape=ovo, gamma=0.01, kernel=rbf;, score=0.451 total time=   1.7s\n",
      "[CV 3/5] END C=0.1, decision_function_shape=ovo, gamma=0.01, kernel=rbf;, score=0.442 total time=   1.7s\n",
      "[CV 4/5] END C=0.1, decision_function_shape=ovo, gamma=0.01, kernel=rbf;, score=0.457 total time=   1.7s\n",
      "[CV 5/5] END C=0.1, decision_function_shape=ovo, gamma=0.01, kernel=rbf;, score=0.446 total time=   1.7s\n",
      "[CV 1/5] END C=0.1, decision_function_shape=ovo, gamma=0.001, kernel=linear;, score=0.464 total time=   0.9s\n",
      "[CV 2/5] END C=0.1, decision_function_shape=ovo, gamma=0.001, kernel=linear;, score=0.494 total time=   0.8s\n",
      "[CV 3/5] END C=0.1, decision_function_shape=ovo, gamma=0.001, kernel=linear;, score=0.485 total time=   0.8s\n",
      "[CV 4/5] END C=0.1, decision_function_shape=ovo, gamma=0.001, kernel=linear;, score=0.477 total time=   0.8s\n",
      "[CV 5/5] END C=0.1, decision_function_shape=ovo, gamma=0.001, kernel=linear;, score=0.485 total time=   0.8s\n",
      "[CV 1/5] END C=0.1, decision_function_shape=ovo, gamma=0.001, kernel=rbf;, score=0.364 total time=   2.2s\n",
      "[CV 2/5] END C=0.1, decision_function_shape=ovo, gamma=0.001, kernel=rbf;, score=0.347 total time=   2.1s\n",
      "[CV 3/5] END C=0.1, decision_function_shape=ovo, gamma=0.001, kernel=rbf;, score=0.341 total time=   2.1s\n",
      "[CV 4/5] END C=0.1, decision_function_shape=ovo, gamma=0.001, kernel=rbf;, score=0.362 total time=   2.1s\n",
      "[CV 5/5] END C=0.1, decision_function_shape=ovo, gamma=0.001, kernel=rbf;, score=0.359 total time=   2.2s\n",
      "[CV 1/5] END C=0.1, decision_function_shape=ovr, gamma=1, kernel=linear;, score=0.464 total time=   0.8s\n",
      "[CV 2/5] END C=0.1, decision_function_shape=ovr, gamma=1, kernel=linear;, score=0.494 total time=   0.8s\n",
      "[CV 3/5] END C=0.1, decision_function_shape=ovr, gamma=1, kernel=linear;, score=0.485 total time=   0.8s\n",
      "[CV 4/5] END C=0.1, decision_function_shape=ovr, gamma=1, kernel=linear;, score=0.477 total time=   0.8s\n",
      "[CV 5/5] END C=0.1, decision_function_shape=ovr, gamma=1, kernel=linear;, score=0.485 total time=   0.8s\n",
      "[CV 1/5] END C=0.1, decision_function_shape=ovr, gamma=1, kernel=rbf;, score=0.256 total time=   2.1s\n",
      "[CV 2/5] END C=0.1, decision_function_shape=ovr, gamma=1, kernel=rbf;, score=0.250 total time=   2.1s\n",
      "[CV 3/5] END C=0.1, decision_function_shape=ovr, gamma=1, kernel=rbf;, score=0.249 total time=   2.1s\n",
      "[CV 4/5] END C=0.1, decision_function_shape=ovr, gamma=1, kernel=rbf;, score=0.249 total time=   2.1s\n",
      "[CV 5/5] END C=0.1, decision_function_shape=ovr, gamma=1, kernel=rbf;, score=0.258 total time=   2.1s\n",
      "[CV 1/5] END C=0.1, decision_function_shape=ovr, gamma=0.1, kernel=linear;, score=0.464 total time=   0.8s\n",
      "[CV 2/5] END C=0.1, decision_function_shape=ovr, gamma=0.1, kernel=linear;, score=0.494 total time=   0.8s\n",
      "[CV 3/5] END C=0.1, decision_function_shape=ovr, gamma=0.1, kernel=linear;, score=0.485 total time=   0.8s\n",
      "[CV 4/5] END C=0.1, decision_function_shape=ovr, gamma=0.1, kernel=linear;, score=0.477 total time=   0.8s\n",
      "[CV 5/5] END C=0.1, decision_function_shape=ovr, gamma=0.1, kernel=linear;, score=0.485 total time=   0.8s\n",
      "[CV 1/5] END C=0.1, decision_function_shape=ovr, gamma=0.1, kernel=rbf;, score=0.366 total time=   1.8s\n",
      "[CV 2/5] END C=0.1, decision_function_shape=ovr, gamma=0.1, kernel=rbf;, score=0.366 total time=   2.2s\n",
      "[CV 3/5] END C=0.1, decision_function_shape=ovr, gamma=0.1, kernel=rbf;, score=0.342 total time=   1.8s\n",
      "[CV 4/5] END C=0.1, decision_function_shape=ovr, gamma=0.1, kernel=rbf;, score=0.379 total time=   1.8s\n",
      "[CV 5/5] END C=0.1, decision_function_shape=ovr, gamma=0.1, kernel=rbf;, score=0.366 total time=   1.9s\n",
      "[CV 1/5] END C=0.1, decision_function_shape=ovr, gamma=0.01, kernel=linear;, score=0.464 total time=   0.8s\n",
      "[CV 2/5] END C=0.1, decision_function_shape=ovr, gamma=0.01, kernel=linear;, score=0.494 total time=   0.8s\n",
      "[CV 3/5] END C=0.1, decision_function_shape=ovr, gamma=0.01, kernel=linear;, score=0.485 total time=   0.8s\n",
      "[CV 4/5] END C=0.1, decision_function_shape=ovr, gamma=0.01, kernel=linear;, score=0.477 total time=   0.8s\n",
      "[CV 5/5] END C=0.1, decision_function_shape=ovr, gamma=0.01, kernel=linear;, score=0.485 total time=   0.8s\n",
      "[CV 1/5] END C=0.1, decision_function_shape=ovr, gamma=0.01, kernel=rbf;, score=0.447 total time=   1.7s\n",
      "[CV 2/5] END C=0.1, decision_function_shape=ovr, gamma=0.01, kernel=rbf;, score=0.451 total time=   1.7s\n",
      "[CV 3/5] END C=0.1, decision_function_shape=ovr, gamma=0.01, kernel=rbf;, score=0.442 total time=   1.7s\n",
      "[CV 4/5] END C=0.1, decision_function_shape=ovr, gamma=0.01, kernel=rbf;, score=0.457 total time=   1.7s\n",
      "[CV 5/5] END C=0.1, decision_function_shape=ovr, gamma=0.01, kernel=rbf;, score=0.446 total time=   1.6s\n",
      "[CV 1/5] END C=0.1, decision_function_shape=ovr, gamma=0.001, kernel=linear;, score=0.464 total time=   0.8s\n",
      "[CV 2/5] END C=0.1, decision_function_shape=ovr, gamma=0.001, kernel=linear;, score=0.494 total time=   0.8s\n",
      "[CV 3/5] END C=0.1, decision_function_shape=ovr, gamma=0.001, kernel=linear;, score=0.485 total time=   0.8s\n",
      "[CV 4/5] END C=0.1, decision_function_shape=ovr, gamma=0.001, kernel=linear;, score=0.477 total time=   0.8s\n",
      "[CV 5/5] END C=0.1, decision_function_shape=ovr, gamma=0.001, kernel=linear;, score=0.485 total time=   0.8s\n",
      "[CV 1/5] END C=0.1, decision_function_shape=ovr, gamma=0.001, kernel=rbf;, score=0.364 total time=   2.1s\n",
      "[CV 2/5] END C=0.1, decision_function_shape=ovr, gamma=0.001, kernel=rbf;, score=0.347 total time=   2.1s\n",
      "[CV 3/5] END C=0.1, decision_function_shape=ovr, gamma=0.001, kernel=rbf;, score=0.341 total time=   2.1s\n",
      "[CV 4/5] END C=0.1, decision_function_shape=ovr, gamma=0.001, kernel=rbf;, score=0.362 total time=   2.1s\n",
      "[CV 5/5] END C=0.1, decision_function_shape=ovr, gamma=0.001, kernel=rbf;, score=0.359 total time=   2.1s\n",
      "[CV 1/5] END C=1, decision_function_shape=ovo, gamma=1, kernel=linear;, score=0.469 total time=   2.0s\n",
      "[CV 2/5] END C=1, decision_function_shape=ovo, gamma=1, kernel=linear;, score=0.502 total time=   1.9s\n",
      "[CV 3/5] END C=1, decision_function_shape=ovo, gamma=1, kernel=linear;, score=0.490 total time=   1.7s\n",
      "[CV 4/5] END C=1, decision_function_shape=ovo, gamma=1, kernel=linear;, score=0.478 total time=   1.7s\n",
      "[CV 5/5] END C=1, decision_function_shape=ovo, gamma=1, kernel=linear;, score=0.485 total time=   1.9s\n",
      "[CV 1/5] END C=1, decision_function_shape=ovo, gamma=1, kernel=rbf;, score=0.380 total time=   2.0s\n",
      "[CV 2/5] END C=1, decision_function_shape=ovo, gamma=1, kernel=rbf;, score=0.382 total time=   2.0s\n",
      "[CV 3/5] END C=1, decision_function_shape=ovo, gamma=1, kernel=rbf;, score=0.359 total time=   2.0s\n",
      "[CV 4/5] END C=1, decision_function_shape=ovo, gamma=1, kernel=rbf;, score=0.392 total time=   2.0s\n",
      "[CV 5/5] END C=1, decision_function_shape=ovo, gamma=1, kernel=rbf;, score=0.384 total time=   2.0s\n",
      "[CV 1/5] END C=1, decision_function_shape=ovo, gamma=0.1, kernel=linear;, score=0.469 total time=   2.0s\n",
      "[CV 2/5] END C=1, decision_function_shape=ovo, gamma=0.1, kernel=linear;, score=0.502 total time=   1.9s\n",
      "[CV 3/5] END C=1, decision_function_shape=ovo, gamma=0.1, kernel=linear;, score=0.490 total time=   1.7s\n",
      "[CV 4/5] END C=1, decision_function_shape=ovo, gamma=0.1, kernel=linear;, score=0.478 total time=   1.8s\n",
      "[CV 5/5] END C=1, decision_function_shape=ovo, gamma=0.1, kernel=linear;, score=0.485 total time=   1.9s\n",
      "[CV 1/5] END C=1, decision_function_shape=ovo, gamma=0.1, kernel=rbf;, score=0.467 total time=   1.8s\n",
      "[CV 2/5] END C=1, decision_function_shape=ovo, gamma=0.1, kernel=rbf;, score=0.469 total time=   1.7s\n",
      "[CV 3/5] END C=1, decision_function_shape=ovo, gamma=0.1, kernel=rbf;, score=0.452 total time=   1.7s\n",
      "[CV 4/5] END C=1, decision_function_shape=ovo, gamma=0.1, kernel=rbf;, score=0.472 total time=   1.7s\n",
      "[CV 5/5] END C=1, decision_function_shape=ovo, gamma=0.1, kernel=rbf;, score=0.473 total time=   1.7s\n",
      "[CV 1/5] END C=1, decision_function_shape=ovo, gamma=0.01, kernel=linear;, score=0.469 total time=   2.0s\n",
      "[CV 2/5] END C=1, decision_function_shape=ovo, gamma=0.01, kernel=linear;, score=0.502 total time=   1.9s\n",
      "[CV 3/5] END C=1, decision_function_shape=ovo, gamma=0.01, kernel=linear;, score=0.490 total time=   1.7s\n",
      "[CV 4/5] END C=1, decision_function_shape=ovo, gamma=0.01, kernel=linear;, score=0.478 total time=   1.7s\n",
      "[CV 5/5] END C=1, decision_function_shape=ovo, gamma=0.01, kernel=linear;, score=0.485 total time=   1.9s\n",
      "[CV 1/5] END C=1, decision_function_shape=ovo, gamma=0.01, kernel=rbf;, score=0.474 total time=   1.3s\n",
      "[CV 2/5] END C=1, decision_function_shape=ovo, gamma=0.01, kernel=rbf;, score=0.489 total time=   1.3s\n",
      "[CV 3/5] END C=1, decision_function_shape=ovo, gamma=0.01, kernel=rbf;, score=0.478 total time=   1.3s\n",
      "[CV 4/5] END C=1, decision_function_shape=ovo, gamma=0.01, kernel=rbf;, score=0.482 total time=   1.3s\n",
      "[CV 5/5] END C=1, decision_function_shape=ovo, gamma=0.01, kernel=rbf;, score=0.482 total time=   1.3s\n",
      "[CV 1/5] END C=1, decision_function_shape=ovo, gamma=0.001, kernel=linear;, score=0.469 total time=   2.0s\n",
      "[CV 2/5] END C=1, decision_function_shape=ovo, gamma=0.001, kernel=linear;, score=0.502 total time=   1.9s\n",
      "[CV 3/5] END C=1, decision_function_shape=ovo, gamma=0.001, kernel=linear;, score=0.490 total time=   1.7s\n",
      "[CV 4/5] END C=1, decision_function_shape=ovo, gamma=0.001, kernel=linear;, score=0.478 total time=   1.7s\n",
      "[CV 5/5] END C=1, decision_function_shape=ovo, gamma=0.001, kernel=linear;, score=0.485 total time=   1.9s\n",
      "[CV 1/5] END C=1, decision_function_shape=ovo, gamma=0.001, kernel=rbf;, score=0.454 total time=   1.5s\n",
      "[CV 2/5] END C=1, decision_function_shape=ovo, gamma=0.001, kernel=rbf;, score=0.466 total time=   1.5s\n",
      "[CV 3/5] END C=1, decision_function_shape=ovo, gamma=0.001, kernel=rbf;, score=0.455 total time=   1.5s\n",
      "[CV 4/5] END C=1, decision_function_shape=ovo, gamma=0.001, kernel=rbf;, score=0.462 total time=   1.5s\n",
      "[CV 5/5] END C=1, decision_function_shape=ovo, gamma=0.001, kernel=rbf;, score=0.456 total time=   1.5s\n",
      "[CV 1/5] END C=1, decision_function_shape=ovr, gamma=1, kernel=linear;, score=0.469 total time=   2.0s\n",
      "[CV 2/5] END C=1, decision_function_shape=ovr, gamma=1, kernel=linear;, score=0.502 total time=   1.9s\n",
      "[CV 3/5] END C=1, decision_function_shape=ovr, gamma=1, kernel=linear;, score=0.490 total time=   1.7s\n",
      "[CV 4/5] END C=1, decision_function_shape=ovr, gamma=1, kernel=linear;, score=0.478 total time=   1.7s\n",
      "[CV 5/5] END C=1, decision_function_shape=ovr, gamma=1, kernel=linear;, score=0.485 total time=   1.9s\n",
      "[CV 1/5] END C=1, decision_function_shape=ovr, gamma=1, kernel=rbf;, score=0.380 total time=   2.0s\n",
      "[CV 2/5] END C=1, decision_function_shape=ovr, gamma=1, kernel=rbf;, score=0.382 total time=   2.0s\n",
      "[CV 3/5] END C=1, decision_function_shape=ovr, gamma=1, kernel=rbf;, score=0.359 total time=   2.0s\n",
      "[CV 4/5] END C=1, decision_function_shape=ovr, gamma=1, kernel=rbf;, score=0.392 total time=   2.0s\n",
      "[CV 5/5] END C=1, decision_function_shape=ovr, gamma=1, kernel=rbf;, score=0.384 total time=   2.0s\n",
      "[CV 1/5] END C=1, decision_function_shape=ovr, gamma=0.1, kernel=linear;, score=0.469 total time=   2.0s\n",
      "[CV 2/5] END C=1, decision_function_shape=ovr, gamma=0.1, kernel=linear;, score=0.502 total time=   1.9s\n",
      "[CV 3/5] END C=1, decision_function_shape=ovr, gamma=0.1, kernel=linear;, score=0.490 total time=   1.7s\n",
      "[CV 4/5] END C=1, decision_function_shape=ovr, gamma=0.1, kernel=linear;, score=0.478 total time=   1.7s\n",
      "[CV 5/5] END C=1, decision_function_shape=ovr, gamma=0.1, kernel=linear;, score=0.485 total time=   1.9s\n",
      "[CV 1/5] END C=1, decision_function_shape=ovr, gamma=0.1, kernel=rbf;, score=0.467 total time=   1.7s\n",
      "[CV 2/5] END C=1, decision_function_shape=ovr, gamma=0.1, kernel=rbf;, score=0.469 total time=   1.7s\n",
      "[CV 3/5] END C=1, decision_function_shape=ovr, gamma=0.1, kernel=rbf;, score=0.452 total time=   1.7s\n",
      "[CV 4/5] END C=1, decision_function_shape=ovr, gamma=0.1, kernel=rbf;, score=0.472 total time=   1.7s\n",
      "[CV 5/5] END C=1, decision_function_shape=ovr, gamma=0.1, kernel=rbf;, score=0.473 total time=   1.7s\n",
      "[CV 1/5] END C=1, decision_function_shape=ovr, gamma=0.01, kernel=linear;, score=0.469 total time=   2.0s\n",
      "[CV 2/5] END C=1, decision_function_shape=ovr, gamma=0.01, kernel=linear;, score=0.502 total time=   1.9s\n",
      "[CV 3/5] END C=1, decision_function_shape=ovr, gamma=0.01, kernel=linear;, score=0.490 total time=   1.7s\n",
      "[CV 4/5] END C=1, decision_function_shape=ovr, gamma=0.01, kernel=linear;, score=0.478 total time=   1.7s\n",
      "[CV 5/5] END C=1, decision_function_shape=ovr, gamma=0.01, kernel=linear;, score=0.485 total time=   1.9s\n",
      "[CV 1/5] END C=1, decision_function_shape=ovr, gamma=0.01, kernel=rbf;, score=0.474 total time=   1.3s\n",
      "[CV 2/5] END C=1, decision_function_shape=ovr, gamma=0.01, kernel=rbf;, score=0.489 total time=   1.3s\n",
      "[CV 3/5] END C=1, decision_function_shape=ovr, gamma=0.01, kernel=rbf;, score=0.478 total time=   1.3s\n",
      "[CV 4/5] END C=1, decision_function_shape=ovr, gamma=0.01, kernel=rbf;, score=0.482 total time=   1.3s\n",
      "[CV 5/5] END C=1, decision_function_shape=ovr, gamma=0.01, kernel=rbf;, score=0.482 total time=   1.3s\n",
      "[CV 1/5] END C=1, decision_function_shape=ovr, gamma=0.001, kernel=linear;, score=0.469 total time=   2.0s\n",
      "[CV 2/5] END C=1, decision_function_shape=ovr, gamma=0.001, kernel=linear;, score=0.502 total time=   1.9s\n",
      "[CV 3/5] END C=1, decision_function_shape=ovr, gamma=0.001, kernel=linear;, score=0.490 total time=   1.7s\n",
      "[CV 4/5] END C=1, decision_function_shape=ovr, gamma=0.001, kernel=linear;, score=0.478 total time=   1.7s\n",
      "[CV 5/5] END C=1, decision_function_shape=ovr, gamma=0.001, kernel=linear;, score=0.485 total time=   1.9s\n",
      "[CV 1/5] END C=1, decision_function_shape=ovr, gamma=0.001, kernel=rbf;, score=0.454 total time=   1.5s\n",
      "[CV 2/5] END C=1, decision_function_shape=ovr, gamma=0.001, kernel=rbf;, score=0.466 total time=   1.5s\n",
      "[CV 3/5] END C=1, decision_function_shape=ovr, gamma=0.001, kernel=rbf;, score=0.455 total time=   1.5s\n",
      "[CV 4/5] END C=1, decision_function_shape=ovr, gamma=0.001, kernel=rbf;, score=0.462 total time=   1.5s\n",
      "[CV 5/5] END C=1, decision_function_shape=ovr, gamma=0.001, kernel=rbf;, score=0.456 total time=   1.5s\n",
      "[CV 1/5] END C=5, decision_function_shape=ovo, gamma=1, kernel=linear;, score=0.472 total time=   5.8s\n",
      "[CV 2/5] END C=5, decision_function_shape=ovo, gamma=1, kernel=linear;, score=0.505 total time=   5.8s\n",
      "[CV 3/5] END C=5, decision_function_shape=ovo, gamma=1, kernel=linear;, score=0.491 total time=   5.4s\n",
      "[CV 4/5] END C=5, decision_function_shape=ovo, gamma=1, kernel=linear;, score=0.478 total time=   5.0s\n",
      "[CV 5/5] END C=5, decision_function_shape=ovo, gamma=1, kernel=linear;, score=0.482 total time=   6.2s\n",
      "[CV 1/5] END C=5, decision_function_shape=ovo, gamma=1, kernel=rbf;, score=0.381 total time=   2.0s\n",
      "[CV 2/5] END C=5, decision_function_shape=ovo, gamma=1, kernel=rbf;, score=0.393 total time=   2.0s\n",
      "[CV 3/5] END C=5, decision_function_shape=ovo, gamma=1, kernel=rbf;, score=0.368 total time=   2.0s\n",
      "[CV 4/5] END C=5, decision_function_shape=ovo, gamma=1, kernel=rbf;, score=0.397 total time=   2.0s\n",
      "[CV 5/5] END C=5, decision_function_shape=ovo, gamma=1, kernel=rbf;, score=0.393 total time=   2.1s\n",
      "[CV 1/5] END C=5, decision_function_shape=ovo, gamma=0.1, kernel=linear;, score=0.472 total time=   5.8s\n",
      "[CV 2/5] END C=5, decision_function_shape=ovo, gamma=0.1, kernel=linear;, score=0.505 total time=   5.7s\n",
      "[CV 3/5] END C=5, decision_function_shape=ovo, gamma=0.1, kernel=linear;, score=0.491 total time=   5.6s\n",
      "[CV 4/5] END C=5, decision_function_shape=ovo, gamma=0.1, kernel=linear;, score=0.478 total time=   4.9s\n",
      "[CV 5/5] END C=5, decision_function_shape=ovo, gamma=0.1, kernel=linear;, score=0.482 total time=   6.2s\n",
      "[CV 1/5] END C=5, decision_function_shape=ovo, gamma=0.1, kernel=rbf;, score=0.462 total time=   1.8s\n",
      "[CV 2/5] END C=5, decision_function_shape=ovo, gamma=0.1, kernel=rbf;, score=0.472 total time=   1.8s\n",
      "[CV 3/5] END C=5, decision_function_shape=ovo, gamma=0.1, kernel=rbf;, score=0.462 total time=   1.8s\n",
      "[CV 4/5] END C=5, decision_function_shape=ovo, gamma=0.1, kernel=rbf;, score=0.479 total time=   1.9s\n",
      "[CV 5/5] END C=5, decision_function_shape=ovo, gamma=0.1, kernel=rbf;, score=0.472 total time=   2.0s\n",
      "[CV 1/5] END C=5, decision_function_shape=ovo, gamma=0.01, kernel=linear;, score=0.472 total time=   6.1s\n",
      "[CV 2/5] END C=5, decision_function_shape=ovo, gamma=0.01, kernel=linear;, score=0.505 total time=   5.6s\n",
      "[CV 3/5] END C=5, decision_function_shape=ovo, gamma=0.01, kernel=linear;, score=0.491 total time=   5.5s\n",
      "[CV 4/5] END C=5, decision_function_shape=ovo, gamma=0.01, kernel=linear;, score=0.478 total time=   5.3s\n",
      "[CV 5/5] END C=5, decision_function_shape=ovo, gamma=0.01, kernel=linear;, score=0.482 total time=   7.1s\n",
      "[CV 1/5] END C=5, decision_function_shape=ovo, gamma=0.01, kernel=rbf;, score=0.489 total time=   1.7s\n",
      "[CV 2/5] END C=5, decision_function_shape=ovo, gamma=0.01, kernel=rbf;, score=0.509 total time=   1.9s\n",
      "[CV 3/5] END C=5, decision_function_shape=ovo, gamma=0.01, kernel=rbf;, score=0.485 total time=   2.1s\n",
      "[CV 4/5] END C=5, decision_function_shape=ovo, gamma=0.01, kernel=rbf;, score=0.496 total time=   1.7s\n",
      "[CV 5/5] END C=5, decision_function_shape=ovo, gamma=0.01, kernel=rbf;, score=0.492 total time=   1.6s\n",
      "[CV 1/5] END C=5, decision_function_shape=ovo, gamma=0.001, kernel=linear;, score=0.472 total time=   6.9s\n",
      "[CV 2/5] END C=5, decision_function_shape=ovo, gamma=0.001, kernel=linear;, score=0.505 total time=   6.2s\n",
      "[CV 3/5] END C=5, decision_function_shape=ovo, gamma=0.001, kernel=linear;, score=0.491 total time=   5.7s\n",
      "[CV 4/5] END C=5, decision_function_shape=ovo, gamma=0.001, kernel=linear;, score=0.478 total time=   4.9s\n",
      "[CV 5/5] END C=5, decision_function_shape=ovo, gamma=0.001, kernel=linear;, score=0.482 total time=   6.3s\n",
      "[CV 1/5] END C=5, decision_function_shape=ovo, gamma=0.001, kernel=rbf;, score=0.464 total time=   1.3s\n",
      "[CV 2/5] END C=5, decision_function_shape=ovo, gamma=0.001, kernel=rbf;, score=0.485 total time=   1.3s\n",
      "[CV 3/5] END C=5, decision_function_shape=ovo, gamma=0.001, kernel=rbf;, score=0.472 total time=   1.3s\n",
      "[CV 4/5] END C=5, decision_function_shape=ovo, gamma=0.001, kernel=rbf;, score=0.469 total time=   1.3s\n",
      "[CV 5/5] END C=5, decision_function_shape=ovo, gamma=0.001, kernel=rbf;, score=0.477 total time=   1.3s\n",
      "[CV 1/5] END C=5, decision_function_shape=ovr, gamma=1, kernel=linear;, score=0.472 total time=   5.9s\n",
      "[CV 2/5] END C=5, decision_function_shape=ovr, gamma=1, kernel=linear;, score=0.505 total time=   5.6s\n",
      "[CV 3/5] END C=5, decision_function_shape=ovr, gamma=1, kernel=linear;, score=0.491 total time=   5.4s\n",
      "[CV 4/5] END C=5, decision_function_shape=ovr, gamma=1, kernel=linear;, score=0.478 total time=   4.9s\n",
      "[CV 5/5] END C=5, decision_function_shape=ovr, gamma=1, kernel=linear;, score=0.482 total time=   6.2s\n",
      "[CV 1/5] END C=5, decision_function_shape=ovr, gamma=1, kernel=rbf;, score=0.381 total time=   2.1s\n",
      "[CV 2/5] END C=5, decision_function_shape=ovr, gamma=1, kernel=rbf;, score=0.393 total time=   2.2s\n",
      "[CV 3/5] END C=5, decision_function_shape=ovr, gamma=1, kernel=rbf;, score=0.368 total time=   2.1s\n",
      "[CV 4/5] END C=5, decision_function_shape=ovr, gamma=1, kernel=rbf;, score=0.397 total time=   2.1s\n",
      "[CV 5/5] END C=5, decision_function_shape=ovr, gamma=1, kernel=rbf;, score=0.393 total time=   3.1s\n",
      "[CV 1/5] END C=5, decision_function_shape=ovr, gamma=0.1, kernel=linear;, score=0.472 total time=   7.4s\n",
      "[CV 2/5] END C=5, decision_function_shape=ovr, gamma=0.1, kernel=linear;, score=0.505 total time=   7.0s\n",
      "[CV 3/5] END C=5, decision_function_shape=ovr, gamma=0.1, kernel=linear;, score=0.491 total time=   6.7s\n",
      "[CV 4/5] END C=5, decision_function_shape=ovr, gamma=0.1, kernel=linear;, score=0.478 total time=   5.6s\n",
      "[CV 5/5] END C=5, decision_function_shape=ovr, gamma=0.1, kernel=linear;, score=0.482 total time=   7.2s\n",
      "[CV 1/5] END C=5, decision_function_shape=ovr, gamma=0.1, kernel=rbf;, score=0.462 total time=   2.0s\n",
      "[CV 2/5] END C=5, decision_function_shape=ovr, gamma=0.1, kernel=rbf;, score=0.472 total time=   2.0s\n",
      "[CV 3/5] END C=5, decision_function_shape=ovr, gamma=0.1, kernel=rbf;, score=0.462 total time=   2.0s\n",
      "[CV 4/5] END C=5, decision_function_shape=ovr, gamma=0.1, kernel=rbf;, score=0.479 total time=   2.1s\n",
      "[CV 5/5] END C=5, decision_function_shape=ovr, gamma=0.1, kernel=rbf;, score=0.472 total time=   2.0s\n",
      "[CV 1/5] END C=5, decision_function_shape=ovr, gamma=0.01, kernel=linear;, score=0.472 total time=   6.2s\n",
      "[CV 2/5] END C=5, decision_function_shape=ovr, gamma=0.01, kernel=linear;, score=0.505 total time=   6.1s\n",
      "[CV 3/5] END C=5, decision_function_shape=ovr, gamma=0.01, kernel=linear;, score=0.491 total time=   6.2s\n",
      "[CV 4/5] END C=5, decision_function_shape=ovr, gamma=0.01, kernel=linear;, score=0.478 total time=   5.2s\n",
      "[CV 5/5] END C=5, decision_function_shape=ovr, gamma=0.01, kernel=linear;, score=0.482 total time=   6.6s\n",
      "[CV 1/5] END C=5, decision_function_shape=ovr, gamma=0.01, kernel=rbf;, score=0.489 total time=   1.4s\n",
      "[CV 2/5] END C=5, decision_function_shape=ovr, gamma=0.01, kernel=rbf;, score=0.509 total time=   1.4s\n",
      "[CV 3/5] END C=5, decision_function_shape=ovr, gamma=0.01, kernel=rbf;, score=0.485 total time=   1.4s\n",
      "[CV 4/5] END C=5, decision_function_shape=ovr, gamma=0.01, kernel=rbf;, score=0.496 total time=   1.4s\n",
      "[CV 5/5] END C=5, decision_function_shape=ovr, gamma=0.01, kernel=rbf;, score=0.492 total time=   1.5s\n",
      "[CV 1/5] END C=5, decision_function_shape=ovr, gamma=0.001, kernel=linear;, score=0.472 total time=   6.5s\n",
      "[CV 2/5] END C=5, decision_function_shape=ovr, gamma=0.001, kernel=linear;, score=0.505 total time=   6.6s\n",
      "[CV 3/5] END C=5, decision_function_shape=ovr, gamma=0.001, kernel=linear;, score=0.491 total time=   6.2s\n",
      "[CV 4/5] END C=5, decision_function_shape=ovr, gamma=0.001, kernel=linear;, score=0.478 total time=   5.6s\n",
      "[CV 5/5] END C=5, decision_function_shape=ovr, gamma=0.001, kernel=linear;, score=0.482 total time=   7.6s\n",
      "[CV 1/5] END C=5, decision_function_shape=ovr, gamma=0.001, kernel=rbf;, score=0.464 total time=   1.5s\n",
      "[CV 2/5] END C=5, decision_function_shape=ovr, gamma=0.001, kernel=rbf;, score=0.485 total time=   1.5s\n",
      "[CV 3/5] END C=5, decision_function_shape=ovr, gamma=0.001, kernel=rbf;, score=0.472 total time=   1.4s\n",
      "[CV 4/5] END C=5, decision_function_shape=ovr, gamma=0.001, kernel=rbf;, score=0.469 total time=   1.5s\n",
      "[CV 5/5] END C=5, decision_function_shape=ovr, gamma=0.001, kernel=rbf;, score=0.477 total time=   1.5s\n",
      "[CV 1/5] END C=10, decision_function_shape=ovo, gamma=1, kernel=linear;, score=0.474 total time=  10.9s\n",
      "[CV 2/5] END C=10, decision_function_shape=ovo, gamma=1, kernel=linear;, score=0.503 total time=  11.4s\n",
      "[CV 3/5] END C=10, decision_function_shape=ovo, gamma=1, kernel=linear;, score=0.491 total time=  10.2s\n",
      "[CV 4/5] END C=10, decision_function_shape=ovo, gamma=1, kernel=linear;, score=0.478 total time=   9.8s\n",
      "[CV 5/5] END C=10, decision_function_shape=ovo, gamma=1, kernel=linear;, score=0.489 total time=  12.0s\n",
      "[CV 1/5] END C=10, decision_function_shape=ovo, gamma=1, kernel=rbf;, score=0.384 total time=   2.3s\n",
      "[CV 2/5] END C=10, decision_function_shape=ovo, gamma=1, kernel=rbf;, score=0.393 total time=   2.3s\n",
      "[CV 3/5] END C=10, decision_function_shape=ovo, gamma=1, kernel=rbf;, score=0.367 total time=   2.3s\n",
      "[CV 4/5] END C=10, decision_function_shape=ovo, gamma=1, kernel=rbf;, score=0.390 total time=   2.3s\n",
      "[CV 5/5] END C=10, decision_function_shape=ovo, gamma=1, kernel=rbf;, score=0.394 total time=   2.3s\n",
      "[CV 1/5] END C=10, decision_function_shape=ovo, gamma=0.1, kernel=linear;, score=0.474 total time=  11.0s\n",
      "[CV 2/5] END C=10, decision_function_shape=ovo, gamma=0.1, kernel=linear;, score=0.503 total time=  11.2s\n",
      "[CV 3/5] END C=10, decision_function_shape=ovo, gamma=0.1, kernel=linear;, score=0.491 total time=   9.8s\n",
      "[CV 4/5] END C=10, decision_function_shape=ovo, gamma=0.1, kernel=linear;, score=0.478 total time=   9.9s\n",
      "[CV 5/5] END C=10, decision_function_shape=ovo, gamma=0.1, kernel=linear;, score=0.489 total time=  11.8s\n",
      "[CV 1/5] END C=10, decision_function_shape=ovo, gamma=0.1, kernel=rbf;, score=0.463 total time=   2.1s\n",
      "[CV 2/5] END C=10, decision_function_shape=ovo, gamma=0.1, kernel=rbf;, score=0.472 total time=   2.0s\n",
      "[CV 3/5] END C=10, decision_function_shape=ovo, gamma=0.1, kernel=rbf;, score=0.460 total time=   2.0s\n",
      "[CV 4/5] END C=10, decision_function_shape=ovo, gamma=0.1, kernel=rbf;, score=0.478 total time=   2.1s\n",
      "[CV 5/5] END C=10, decision_function_shape=ovo, gamma=0.1, kernel=rbf;, score=0.471 total time=   2.1s\n",
      "[CV 1/5] END C=10, decision_function_shape=ovo, gamma=0.01, kernel=linear;, score=0.474 total time=  10.8s\n",
      "[CV 2/5] END C=10, decision_function_shape=ovo, gamma=0.01, kernel=linear;, score=0.503 total time=  11.3s\n",
      "[CV 3/5] END C=10, decision_function_shape=ovo, gamma=0.01, kernel=linear;, score=0.491 total time=   9.9s\n",
      "[CV 4/5] END C=10, decision_function_shape=ovo, gamma=0.01, kernel=linear;, score=0.478 total time=   9.8s\n",
      "[CV 5/5] END C=10, decision_function_shape=ovo, gamma=0.01, kernel=linear;, score=0.489 total time=  11.7s\n",
      "[CV 1/5] END C=10, decision_function_shape=ovo, gamma=0.01, kernel=rbf;, score=0.481 total time=   1.5s\n",
      "[CV 2/5] END C=10, decision_function_shape=ovo, gamma=0.01, kernel=rbf;, score=0.501 total time=   1.5s\n",
      "[CV 3/5] END C=10, decision_function_shape=ovo, gamma=0.01, kernel=rbf;, score=0.497 total time=   1.5s\n",
      "[CV 4/5] END C=10, decision_function_shape=ovo, gamma=0.01, kernel=rbf;, score=0.495 total time=   1.5s\n",
      "[CV 5/5] END C=10, decision_function_shape=ovo, gamma=0.01, kernel=rbf;, score=0.497 total time=   1.5s\n",
      "[CV 1/5] END C=10, decision_function_shape=ovo, gamma=0.001, kernel=linear;, score=0.474 total time=  10.8s\n",
      "[CV 2/5] END C=10, decision_function_shape=ovo, gamma=0.001, kernel=linear;, score=0.503 total time=  11.2s\n",
      "[CV 3/5] END C=10, decision_function_shape=ovo, gamma=0.001, kernel=linear;, score=0.491 total time=   9.9s\n",
      "[CV 4/5] END C=10, decision_function_shape=ovo, gamma=0.001, kernel=linear;, score=0.478 total time=   9.9s\n",
      "[CV 5/5] END C=10, decision_function_shape=ovo, gamma=0.001, kernel=linear;, score=0.489 total time=  11.6s\n",
      "[CV 1/5] END C=10, decision_function_shape=ovo, gamma=0.001, kernel=rbf;, score=0.467 total time=   1.4s\n",
      "[CV 2/5] END C=10, decision_function_shape=ovo, gamma=0.001, kernel=rbf;, score=0.491 total time=   1.4s\n",
      "[CV 3/5] END C=10, decision_function_shape=ovo, gamma=0.001, kernel=rbf;, score=0.476 total time=   1.4s\n",
      "[CV 4/5] END C=10, decision_function_shape=ovo, gamma=0.001, kernel=rbf;, score=0.471 total time=   1.4s\n",
      "[CV 5/5] END C=10, decision_function_shape=ovo, gamma=0.001, kernel=rbf;, score=0.479 total time=   1.4s\n",
      "[CV 1/5] END C=10, decision_function_shape=ovr, gamma=1, kernel=linear;, score=0.474 total time=  10.8s\n",
      "[CV 2/5] END C=10, decision_function_shape=ovr, gamma=1, kernel=linear;, score=0.503 total time=  11.3s\n",
      "[CV 3/5] END C=10, decision_function_shape=ovr, gamma=1, kernel=linear;, score=0.491 total time=   9.9s\n",
      "[CV 4/5] END C=10, decision_function_shape=ovr, gamma=1, kernel=linear;, score=0.478 total time=  10.7s\n",
      "[CV 5/5] END C=10, decision_function_shape=ovr, gamma=1, kernel=linear;, score=0.489 total time=  12.3s\n",
      "[CV 1/5] END C=10, decision_function_shape=ovr, gamma=1, kernel=rbf;, score=0.384 total time=   2.3s\n",
      "[CV 2/5] END C=10, decision_function_shape=ovr, gamma=1, kernel=rbf;, score=0.393 total time=   2.3s\n",
      "[CV 3/5] END C=10, decision_function_shape=ovr, gamma=1, kernel=rbf;, score=0.367 total time=   2.4s\n",
      "[CV 4/5] END C=10, decision_function_shape=ovr, gamma=1, kernel=rbf;, score=0.390 total time=   2.4s\n",
      "[CV 5/5] END C=10, decision_function_shape=ovr, gamma=1, kernel=rbf;, score=0.394 total time=   2.1s\n",
      "[CV 1/5] END C=10, decision_function_shape=ovr, gamma=0.1, kernel=linear;, score=0.474 total time=  10.4s\n",
      "[CV 2/5] END C=10, decision_function_shape=ovr, gamma=0.1, kernel=linear;, score=0.503 total time=  10.7s\n",
      "[CV 3/5] END C=10, decision_function_shape=ovr, gamma=0.1, kernel=linear;, score=0.491 total time=   9.4s\n",
      "[CV 4/5] END C=10, decision_function_shape=ovr, gamma=0.1, kernel=linear;, score=0.478 total time=   9.9s\n",
      "[CV 5/5] END C=10, decision_function_shape=ovr, gamma=0.1, kernel=linear;, score=0.489 total time=  11.1s\n",
      "[CV 1/5] END C=10, decision_function_shape=ovr, gamma=0.1, kernel=rbf;, score=0.463 total time=   1.9s\n",
      "[CV 2/5] END C=10, decision_function_shape=ovr, gamma=0.1, kernel=rbf;, score=0.472 total time=   1.9s\n",
      "[CV 3/5] END C=10, decision_function_shape=ovr, gamma=0.1, kernel=rbf;, score=0.460 total time=   1.9s\n",
      "[CV 4/5] END C=10, decision_function_shape=ovr, gamma=0.1, kernel=rbf;, score=0.478 total time=   1.9s\n",
      "[CV 5/5] END C=10, decision_function_shape=ovr, gamma=0.1, kernel=rbf;, score=0.471 total time=   2.3s\n",
      "[CV 1/5] END C=10, decision_function_shape=ovr, gamma=0.01, kernel=linear;, score=0.474 total time=  10.2s\n",
      "[CV 2/5] END C=10, decision_function_shape=ovr, gamma=0.01, kernel=linear;, score=0.503 total time=  10.7s\n",
      "[CV 3/5] END C=10, decision_function_shape=ovr, gamma=0.01, kernel=linear;, score=0.491 total time=   9.4s\n",
      "[CV 4/5] END C=10, decision_function_shape=ovr, gamma=0.01, kernel=linear;, score=0.478 total time=   9.2s\n",
      "[CV 5/5] END C=10, decision_function_shape=ovr, gamma=0.01, kernel=linear;, score=0.489 total time=  11.0s\n",
      "[CV 1/5] END C=10, decision_function_shape=ovr, gamma=0.01, kernel=rbf;, score=0.481 total time=   1.3s\n",
      "[CV 2/5] END C=10, decision_function_shape=ovr, gamma=0.01, kernel=rbf;, score=0.501 total time=   1.4s\n",
      "[CV 3/5] END C=10, decision_function_shape=ovr, gamma=0.01, kernel=rbf;, score=0.497 total time=   1.3s\n",
      "[CV 4/5] END C=10, decision_function_shape=ovr, gamma=0.01, kernel=rbf;, score=0.495 total time=   1.4s\n",
      "[CV 5/5] END C=10, decision_function_shape=ovr, gamma=0.01, kernel=rbf;, score=0.497 total time=   1.4s\n",
      "[CV 1/5] END C=10, decision_function_shape=ovr, gamma=0.001, kernel=linear;, score=0.474 total time=  10.2s\n",
      "[CV 2/5] END C=10, decision_function_shape=ovr, gamma=0.001, kernel=linear;, score=0.503 total time=  10.6s\n",
      "[CV 3/5] END C=10, decision_function_shape=ovr, gamma=0.001, kernel=linear;, score=0.491 total time=   9.3s\n",
      "[CV 4/5] END C=10, decision_function_shape=ovr, gamma=0.001, kernel=linear;, score=0.478 total time=   9.3s\n",
      "[CV 5/5] END C=10, decision_function_shape=ovr, gamma=0.001, kernel=linear;, score=0.489 total time=  11.0s\n",
      "[CV 1/5] END C=10, decision_function_shape=ovr, gamma=0.001, kernel=rbf;, score=0.467 total time=   1.3s\n",
      "[CV 2/5] END C=10, decision_function_shape=ovr, gamma=0.001, kernel=rbf;, score=0.491 total time=   1.3s\n",
      "[CV 3/5] END C=10, decision_function_shape=ovr, gamma=0.001, kernel=rbf;, score=0.476 total time=   1.3s\n",
      "[CV 4/5] END C=10, decision_function_shape=ovr, gamma=0.001, kernel=rbf;, score=0.471 total time=   1.3s\n",
      "[CV 5/5] END C=10, decision_function_shape=ovr, gamma=0.001, kernel=rbf;, score=0.479 total time=   1.3s\n",
      "{'C': 10, 'decision_function_shape': 'ovo', 'gamma': 0.01, 'kernel': 'rbf'}\n",
      "SVC(C=10, decision_function_shape='ovo', gamma=0.01)\n"
     ]
    }
   ],
   "source": [
    "parameters = {'C': [0.1, 1, 5, 10], 'gamma': [1, 0.1, 0.01, 0.001], 'kernel': ['linear', 'rbf'], \"decision_function_shape\": [\"ovo\", \"ovr\"]}\n",
    "grid = GridSearchCV(svm.SVC(), parameters, refit=True, verbose=3)\n",
    "grid.fit(X_train_pca, y_train)\n",
    "print(grid.best_params_)\n",
    "print(grid.best_estimator_)"
   ],
   "metadata": {
    "collapsed": false
   }
  },
  {
   "cell_type": "code",
   "execution_count": 410,
   "outputs": [],
   "source": [
    "# Create Models\n",
    "models_pca = [\n",
    "    svm.SVC(kernel='linear', probability=True, random_state=43),\n",
    "    svm.SVC(kernel='poly', probability=True, random_state=43),\n",
    "    svm.SVC(kernel='rbf', probability=True, random_state=43),\n",
    "    svm.SVC(C=10, kernel='rbf', decision_function_shape='ovo', gamma=0.01)\n",
    "]\n",
    "\n",
    "for model_pca in models_pca:\n",
    "    model_pca.fit(X_train_pca, y_train)"
   ],
   "metadata": {
    "collapsed": false
   }
  },
  {
   "cell_type": "markdown",
   "source": [
    "#### Check Results"
   ],
   "metadata": {
    "collapsed": false
   }
  },
  {
   "cell_type": "code",
   "execution_count": 407,
   "outputs": [
    {
     "name": "stdout",
     "output_type": "stream",
     "text": [
      "Model accuracy: 49.34%\n",
      "Model accuracy: 42.91%\n",
      "Model accuracy: 49.19%\n",
      "Model accuracy: 47.67%\n"
     ]
    }
   ],
   "source": [
    "for i, model_pca in enumerate(models_pca):\n",
    "    score_pca = model_pca.score(X_test_pca, y_test).__round__(4) * 100\n",
    "    print(f'Model accuracy: {score_pca}%')"
   ],
   "metadata": {
    "collapsed": false
   }
  },
  {
   "cell_type": "markdown",
   "source": [
    "| test_size | Scaler              | PCA  | Kernel | Score  |\n",
    "|-----------|---------------------|------|--------|--------|\n",
    "| 0.2       | Standard            | 0.95 | linear | 49.24% |\n",
    "| 0.2       | Standard            | 0    | linear | 48.29% |\n",
    "| 0.2       | MinMax              | 0.95 | linear | 45.7%  |\n",
    "| 0.2       | MinMax              | 0    | linear | 48.23% |\n",
    "| 0.2       | MaxAbs              | 0.95 | linear | 45.7%  |\n",
    "| 0.2       | MaxAbs              | 0    | linear | 48.08% |\n",
    "| 0.2       | RobustScaler        | 0.95 | linear | 47.47% |\n",
    "| 0.2       | RobustScaler        | 0    | linear | 49.39% |\n",
    "| 0.2       | Normalizer          | 0.95 | linear | 44.94% |\n",
    "| 0.2       | Normalizer          | 0    | linear | 47.06% |\n",
    "| 0.2       | QuantileTransformer | 0.95 | linear | 47.22% |\n",
    "| 0.2       | QuantileTransformer | 0    | linear | 48.58% |\n",
    "| 0.2       | PowerTransformer    | 0.95 | linear | 47.57% |\n",
    "| 0.2       | PowerTransformer    | 0    | linear | 47.27% |"
   ],
   "metadata": {
    "collapsed": false
   }
  },
  {
   "cell_type": "markdown",
   "source": [
    "pca = 46.834\n",
    "no_pca = 48.12"
   ],
   "metadata": {
    "collapsed": false
   }
  },
  {
   "cell_type": "markdown",
   "source": [
    "| test_size | Scaler              | PCA  | Kernel | Score  |\n",
    "|-----------|---------------------|------|--------|--------|\n",
    "| 0.2       | RobustScaler        | 0    | linear | 49.39% |\n",
    "| 0.2       | Standard            | 0.95 | linear | 49.24% |\n",
    "| 0.2       | QuantileTransformer | 0    | linear | 48.58% |\n",
    "| 0.2       | Standard            | 0    | linear | 48.29% |\n",
    "| 0.2       | MinMax              | 0    | linear | 48.23% |\n",
    "| 0.2       | MaxAbs              | 0    | linear | 48.08% |\n",
    "| 0.2       | PowerTransformer    | 0.95 | linear | 47.57% |\n",
    "| 0.2       | RobustScaler        | 0.95 | linear | 47.47% |\n",
    "| 0.2       | PowerTransformer    | 0    | linear | 47.27% |\n",
    "| 0.2       | QuantileTransformer | 0.95 | linear | 47.22% |\n",
    "| 0.2       | Normalizer          | 0    | linear | 47.06% |\n",
    "| 0.2       | MinMax              | 0.95 | linear | 45.7%  |\n",
    "| 0.2       | MaxAbs              | 0.95 | linear | 45.7%  |\n",
    "| 0.2       | Normalizer          | 0.95 | linear | 44.94% |\n"
   ],
   "metadata": {
    "collapsed": false
   }
  },
  {
   "cell_type": "markdown",
   "source": [],
   "metadata": {
    "collapsed": false
   }
  }
 ],
 "metadata": {
  "kernelspec": {
   "display_name": "Python 3",
   "language": "python",
   "name": "python3"
  },
  "language_info": {
   "codemirror_mode": {
    "name": "ipython",
    "version": 2
   },
   "file_extension": ".py",
   "mimetype": "text/x-python",
   "name": "python",
   "nbconvert_exporter": "python",
   "pygments_lexer": "ipython2",
   "version": "2.7.6"
  }
 },
 "nbformat": 4,
 "nbformat_minor": 0
}
