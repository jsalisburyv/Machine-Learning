{
 "cells": [
  {
   "cell_type": "markdown",
   "source": [
    "# Enunciat\n",
    "\n",
    "En aquesta práctica tractarem un problema de classificació en el que les dades que es proporcionen són unes 1000 paraules en llengua catalana i el mateix nombre de paraules en llengua anglesa. L'objectiu final de la pràctica serà entregar un document on s'expliqui el procés dut a terme per resoldre el següent problema: **Donada una paraula, saber a quin idioma pertany**.\n",
    "\n",
    "## Condicions\n",
    "\n",
    "1. El model de classificació estarà basat en SVM. Es pot emprar qualsevol tipus de _kernel_ i parametrització.\n",
    "2. El disseny de les característiques es part de la feina a realitzar.\n",
    "3. El resultat del treball serà un informe on s'expliqui el procés que s'ha dut a terme per arribar a la que considereu que és millor solució. El document serà en format `pdf`. Podreu adjuntar una carpeta amb el codi i recursos que trobeu necessaris per comprovar la veracitat del que explicau al document.\n",
    "4. Aquest document ha de tenir un llenguatge formal i tècnic i ha d'estar correctament estructurat:\n",
    "    - Introducció al problema\n",
    "    - Solucions considerades (dades, característiques, models, mètriques)\n",
    "    - Experiments realitzats\n",
    "    - Resultats dels experiments\n",
    "    - Conclusions\n",
    "\n",
    "5. Les dades proporcionades (les trobareu al fitxer _dades.zip_ d'aquest repositori) només són una ajuda per començar a treballar, podeu modificar-les o ampliar-les segons les vostres necessitats.\n",
    "\n",
    "\n",
    "## Avaluació\n",
    "\n",
    "- El treball es durà a terme en parelles.\n",
    "- Un treball en el qual es provi un únic tipus de característiques amb els dos idiomes proposats tindrà una nota màxima de 7.\n",
    "- Extres a realitzar per obtenir millor nota:\n",
    "    - Afegir més idiomes: castellà, alemany, italià, francés.\n",
    "    - Considerar múltiples conjunts de característiques.\n",
    "    - Optimitzar els models amb distints tipus de mètriques.\n",
    "    ....\n",
    "- El professor es reserva la possibilitat de convocar als grups a una revisió de la pràctica de forma presencial.\n",
    "\n",
    "## Entrega\n",
    "\n",
    "- Aquest treball s'entrega XXXXXXXXX."
   ],
   "metadata": {
    "collapsed": false
   }
  }
 ],
 "metadata": {
  "kernelspec": {
   "display_name": "Python 3",
   "language": "python",
   "name": "python3"
  },
  "language_info": {
   "codemirror_mode": {
    "name": "ipython",
    "version": 2
   },
   "file_extension": ".py",
   "mimetype": "text/x-python",
   "name": "python",
   "nbconvert_exporter": "python",
   "pygments_lexer": "ipython2",
   "version": "2.7.6"
  }
 },
 "nbformat": 4,
 "nbformat_minor": 0
}
