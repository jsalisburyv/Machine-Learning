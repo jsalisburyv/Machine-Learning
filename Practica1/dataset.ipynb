{
 "cells": [
  {
   "cell_type": "code",
   "execution_count": 19,
   "metadata": {},
   "outputs": [
    {
     "name": "stdout",
     "output_type": "stream",
     "text": [
      "                                           0  catala  Unnamed: 2  \\\n",
      "0                      1,com,\\tas;;;;;;;;;;;     NaN         NaN   \n",
      "1                    3,seva,\\this;;;;;;;;;;;     NaN         NaN   \n",
      "2                    4,que,\\tthat;;;;;;;;;;;     NaN         NaN   \n",
      "3                      5,ell,\\the;;;;;;;;;;;     NaN         NaN   \n",
      "4                     6,era,\\twas;;;;;;;;;;;     NaN         NaN   \n",
      "..                                       ...     ...         ...   \n",
      "983              996,\\tnas,\\tnose;;;;;;;;;;;     NaN         NaN   \n",
      "984         997,\\tplural,\\tplural;;;;;;;;;;;     NaN         NaN   \n",
      "985          998,\\tcòlera,\\tanger;;;;;;;;;;;     NaN         NaN   \n",
      "986      999,\\treclamació,\\tclaim;;;;;;;;;;;     NaN         NaN   \n",
      "987  1000,\\tcontinent,\\tcontinent;;;;;;;;;;;     NaN         NaN   \n",
      "\n",
      "     angles;;;;;;;;;;;  \n",
      "0                  NaN  \n",
      "1                  NaN  \n",
      "2                  NaN  \n",
      "3                  NaN  \n",
      "4                  NaN  \n",
      "..                 ...  \n",
      "983                NaN  \n",
      "984                NaN  \n",
      "985                NaN  \n",
      "986                NaN  \n",
      "987                NaN  \n",
      "\n",
      "[988 rows x 4 columns]\n"
     ]
    },
    {
     "ename": "KeyError",
     "evalue": "'angles'",
     "output_type": "error",
     "traceback": [
      "\u001B[1;31m---------------------------------------------------------------------------\u001B[0m",
      "\u001B[1;31mKeyError\u001B[0m                                  Traceback (most recent call last)",
      "File \u001B[1;32m~\\miniconda3\\envs\\pyAA\\lib\\site-packages\\pandas\\core\\indexes\\base.py:3803\u001B[0m, in \u001B[0;36mIndex.get_loc\u001B[1;34m(self, key, method, tolerance)\u001B[0m\n\u001B[0;32m   3802\u001B[0m \u001B[38;5;28;01mtry\u001B[39;00m:\n\u001B[1;32m-> 3803\u001B[0m     \u001B[38;5;28;01mreturn\u001B[39;00m \u001B[38;5;28;43mself\u001B[39;49m\u001B[38;5;241;43m.\u001B[39;49m\u001B[43m_engine\u001B[49m\u001B[38;5;241;43m.\u001B[39;49m\u001B[43mget_loc\u001B[49m\u001B[43m(\u001B[49m\u001B[43mcasted_key\u001B[49m\u001B[43m)\u001B[49m\n\u001B[0;32m   3804\u001B[0m \u001B[38;5;28;01mexcept\u001B[39;00m \u001B[38;5;167;01mKeyError\u001B[39;00m \u001B[38;5;28;01mas\u001B[39;00m err:\n",
      "File \u001B[1;32m~\\miniconda3\\envs\\pyAA\\lib\\site-packages\\pandas\\_libs\\index.pyx:138\u001B[0m, in \u001B[0;36mpandas._libs.index.IndexEngine.get_loc\u001B[1;34m()\u001B[0m\n",
      "File \u001B[1;32m~\\miniconda3\\envs\\pyAA\\lib\\site-packages\\pandas\\_libs\\index.pyx:165\u001B[0m, in \u001B[0;36mpandas._libs.index.IndexEngine.get_loc\u001B[1;34m()\u001B[0m\n",
      "File \u001B[1;32mpandas\\_libs\\hashtable_class_helper.pxi:5745\u001B[0m, in \u001B[0;36mpandas._libs.hashtable.PyObjectHashTable.get_item\u001B[1;34m()\u001B[0m\n",
      "File \u001B[1;32mpandas\\_libs\\hashtable_class_helper.pxi:5753\u001B[0m, in \u001B[0;36mpandas._libs.hashtable.PyObjectHashTable.get_item\u001B[1;34m()\u001B[0m\n",
      "\u001B[1;31mKeyError\u001B[0m: 'angles'",
      "\nThe above exception was the direct cause of the following exception:\n",
      "\u001B[1;31mKeyError\u001B[0m                                  Traceback (most recent call last)",
      "Cell \u001B[1;32mIn [19], line 25\u001B[0m\n\u001B[0;32m     22\u001B[0m \u001B[38;5;66;03m# Loop through the rows of the DataFrame and translate the words\u001B[39;00m\n\u001B[0;32m     23\u001B[0m \u001B[38;5;28;01mfor\u001B[39;00m index, row \u001B[38;5;129;01min\u001B[39;00m df\u001B[38;5;241m.\u001B[39miterrows():\n\u001B[0;32m     24\u001B[0m     \u001B[38;5;66;03m# Use the translate() method to translate the word\u001B[39;00m\n\u001B[1;32m---> 25\u001B[0m     translation \u001B[38;5;241m=\u001B[39m ts\u001B[38;5;241m.\u001B[39mgoogle(\u001B[43mrow\u001B[49m\u001B[43m[\u001B[49m\u001B[38;5;124;43m\"\u001B[39;49m\u001B[38;5;124;43mangles\u001B[39;49m\u001B[38;5;124;43m\"\u001B[39;49m\u001B[43m]\u001B[49m, from_language\u001B[38;5;241m=\u001B[39m\u001B[38;5;124m\"\u001B[39m\u001B[38;5;124mEnglish\u001B[39m\u001B[38;5;124m\"\u001B[39m, to_language\u001B[38;5;241m=\u001B[39mlanguages[index])\n\u001B[0;32m     27\u001B[0m     \u001B[38;5;66;03m# Save the translation to the new column\u001B[39;00m\n\u001B[0;32m     28\u001B[0m     df\u001B[38;5;241m.\u001B[39mat[index, column_name] \u001B[38;5;241m=\u001B[39m translation\u001B[38;5;241m.\u001B[39mtext\n",
      "File \u001B[1;32m~\\miniconda3\\envs\\pyAA\\lib\\site-packages\\pandas\\core\\series.py:981\u001B[0m, in \u001B[0;36mSeries.__getitem__\u001B[1;34m(self, key)\u001B[0m\n\u001B[0;32m    978\u001B[0m     \u001B[38;5;28;01mreturn\u001B[39;00m \u001B[38;5;28mself\u001B[39m\u001B[38;5;241m.\u001B[39m_values[key]\n\u001B[0;32m    980\u001B[0m \u001B[38;5;28;01melif\u001B[39;00m key_is_scalar:\n\u001B[1;32m--> 981\u001B[0m     \u001B[38;5;28;01mreturn\u001B[39;00m \u001B[38;5;28;43mself\u001B[39;49m\u001B[38;5;241;43m.\u001B[39;49m\u001B[43m_get_value\u001B[49m\u001B[43m(\u001B[49m\u001B[43mkey\u001B[49m\u001B[43m)\u001B[49m\n\u001B[0;32m    983\u001B[0m \u001B[38;5;28;01mif\u001B[39;00m is_hashable(key):\n\u001B[0;32m    984\u001B[0m     \u001B[38;5;66;03m# Otherwise index.get_value will raise InvalidIndexError\u001B[39;00m\n\u001B[0;32m    985\u001B[0m     \u001B[38;5;28;01mtry\u001B[39;00m:\n\u001B[0;32m    986\u001B[0m         \u001B[38;5;66;03m# For labels that don't resolve as scalars like tuples and frozensets\u001B[39;00m\n",
      "File \u001B[1;32m~\\miniconda3\\envs\\pyAA\\lib\\site-packages\\pandas\\core\\series.py:1089\u001B[0m, in \u001B[0;36mSeries._get_value\u001B[1;34m(self, label, takeable)\u001B[0m\n\u001B[0;32m   1086\u001B[0m     \u001B[38;5;28;01mreturn\u001B[39;00m \u001B[38;5;28mself\u001B[39m\u001B[38;5;241m.\u001B[39m_values[label]\n\u001B[0;32m   1088\u001B[0m \u001B[38;5;66;03m# Similar to Index.get_value, but we do not fall back to positional\u001B[39;00m\n\u001B[1;32m-> 1089\u001B[0m loc \u001B[38;5;241m=\u001B[39m \u001B[38;5;28;43mself\u001B[39;49m\u001B[38;5;241;43m.\u001B[39;49m\u001B[43mindex\u001B[49m\u001B[38;5;241;43m.\u001B[39;49m\u001B[43mget_loc\u001B[49m\u001B[43m(\u001B[49m\u001B[43mlabel\u001B[49m\u001B[43m)\u001B[49m\n\u001B[0;32m   1090\u001B[0m \u001B[38;5;28;01mreturn\u001B[39;00m \u001B[38;5;28mself\u001B[39m\u001B[38;5;241m.\u001B[39mindex\u001B[38;5;241m.\u001B[39m_get_values_for_loc(\u001B[38;5;28mself\u001B[39m, loc, label)\n",
      "File \u001B[1;32m~\\miniconda3\\envs\\pyAA\\lib\\site-packages\\pandas\\core\\indexes\\base.py:3805\u001B[0m, in \u001B[0;36mIndex.get_loc\u001B[1;34m(self, key, method, tolerance)\u001B[0m\n\u001B[0;32m   3803\u001B[0m     \u001B[38;5;28;01mreturn\u001B[39;00m \u001B[38;5;28mself\u001B[39m\u001B[38;5;241m.\u001B[39m_engine\u001B[38;5;241m.\u001B[39mget_loc(casted_key)\n\u001B[0;32m   3804\u001B[0m \u001B[38;5;28;01mexcept\u001B[39;00m \u001B[38;5;167;01mKeyError\u001B[39;00m \u001B[38;5;28;01mas\u001B[39;00m err:\n\u001B[1;32m-> 3805\u001B[0m     \u001B[38;5;28;01mraise\u001B[39;00m \u001B[38;5;167;01mKeyError\u001B[39;00m(key) \u001B[38;5;28;01mfrom\u001B[39;00m \u001B[38;5;21;01merr\u001B[39;00m\n\u001B[0;32m   3806\u001B[0m \u001B[38;5;28;01mexcept\u001B[39;00m \u001B[38;5;167;01mTypeError\u001B[39;00m:\n\u001B[0;32m   3807\u001B[0m     \u001B[38;5;66;03m# If we have a listlike key, _check_indexing_error will raise\u001B[39;00m\n\u001B[0;32m   3808\u001B[0m     \u001B[38;5;66;03m#  InvalidIndexError. Otherwise we fall through and re-raise\u001B[39;00m\n\u001B[0;32m   3809\u001B[0m     \u001B[38;5;66;03m#  the TypeError.\u001B[39;00m\n\u001B[0;32m   3810\u001B[0m     \u001B[38;5;28mself\u001B[39m\u001B[38;5;241m.\u001B[39m_check_indexing_error(key)\n",
      "\u001B[1;31mKeyError\u001B[0m: 'angles'"
     ]
    }
   ],
   "source": [
    "# Import the googletrans and Pandas libraries\n",
    "import translators as ts\n",
    "import pandas as pd\n",
    "\n",
    "# Create a translator object\n",
    "\n",
    "#my csv has\n",
    "\n",
    "\n",
    "df = pd.read_csv(\"data/data.csv\", sep=\",\")\n",
    "\n",
    "\n",
    "# Define the languages you want to translate the words to\n",
    "languages = [\"Spanish\", \"French\", \"German\"]\n",
    "print(df)\n",
    "# Loop through the languages and translate the words in the DataFrame\n",
    "for language in languages:\n",
    "    # Create a new column to store the translations\n",
    "    column_name = f\"{language}_translation\"\n",
    "    df[column_name] = \"\"\n",
    "\n",
    "    # Loop through the rows of the DataFrame and translate the words\n",
    "    for index, row in df.iterrows():\n",
    "        # Use the translate() method to translate the word\n",
    "        translation = ts.google(row[\"angles\"], from_language=\"English\", to_language=languages[index])\n",
    "\n",
    "        # Save the translation to the new column\n",
    "        df.at[index, column_name] = translation.text\n",
    "\n",
    "# Save the DataFrame to a CSV file\n",
    "df.to_csv(\"translated_data.csv\")\n"
   ]
  },
  {
   "cell_type": "code",
   "execution_count": 14,
   "metadata": {},
   "outputs": [],
   "source": []
  }
 ],
 "metadata": {
  "kernelspec": {
   "display_name": "Python 3.10.8 ('pyAA')",
   "language": "python",
   "name": "python3"
  },
  "language_info": {
   "name": "python",
   "version": "3.10.8"
  },
  "orig_nbformat": 4,
  "vscode": {
   "interpreter": {
    "hash": "5eeb9502143e217e56295c83298d15722c318a93c49e1a755647eb96066515fb"
   }
  }
 },
 "nbformat": 4,
 "nbformat_minor": 2
}
