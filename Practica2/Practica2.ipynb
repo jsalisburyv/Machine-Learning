{
 "cells": [
  {
   "cell_type": "markdown",
   "id": "2c0ee14f",
   "metadata": {},
   "source": [
    "# Pràctica 2\n",
    "\n",
    "L'objectiu d'aquesta segona pràctica es demostrar que heu assolit els conceptes que s'han explicar a l'assignatura i s'han practicat a les sessions presencials, relacionats amb el disseny i l'ús de xarxes neurals. \n",
    "\n",
    "Aquesta pràctica consta de 3 enunciats dels quals només heu de realitzar el que us hagi tocat per sorteig.\n",
    "\n",
    "**Condicions**\n",
    "1. El model que solucioni el problema estarà basat en xarxes neurals, aquestes s'han d'entrenar i avaluar emprant la llibreria _Pytorch_.\n",
    "2. Es demana que com a mínim s'avaluin 2 models diferents: un que ha d'estar creat per vosaltres i un altre que es basi en una xarxa ja existent. Evidentment es permeten modificacions de la ja existen per adaptar-ho al problema que es vol resoldre.\n",
    "3. El resultat del treball serà un informe on s'expliqui el procés que s'ha dut a terme per arribar a la que considereu que és millor solució. El document serà en format `pdf`. Podreu adjuntar una carpeta amb el codi i recursos que trobeu necessaris per comprovar la veracitat del que explicau al document.\n",
    "4. Aquest document ha de tenir un llenguatge formal i tècnic i ha d'estar correctament estructurat:\n",
    "    - Introducció al problema\n",
    "    - Solucions considerades (dades, característiques, models, mètriques)\n",
    "    - Experiments realitzats\n",
    "    - Resultats dels experiments\n",
    "    - Conclusions\n",
    "5. A més del document explicatiu s'ha d'adjuntar un fitxer amb els pesos del millor entrenament de cada una de les xarxes que heu emprat (la que heu dissenyat vosaltres i la que ja existia), de tal manera que el professor pugui validar els resultats sense haver de repetir l'entrenament. Sense l'adjunció d'aquests fitxers la pràctica no es podrà aprovar.\n",
    "6. Les dades depenen de cada un dels tres enunciats i les trobareu en el seu apartat.\n",
    "\n",
    "\n",
    "**Avaluació**\n",
    "\n",
    "- El treball es durà a terme en parelles.\n",
    "- El professor es reserva la possibilitat de convocar als grups a una revisió de la pràctica de forma presencial.\n",
    "- Només està permés emprar tècniques de disseny i entrenament vistes a classe.\n",
    "- Tot el que no està fet pels alumnes ha d'estar referenciat, en cas contrari es considerarà com una còpia.\n",
    "\n",
    "\n",
    "**Data d'entrega**\n",
    "\n",
    "- Aquest treball s'entrega dia 15 de gener.\n",
    "- Es realitzarà una tutoria dilluns 9 de gener a les 15:30.\n",
    "---"
   ]
  },
  {
   "cell_type": "markdown",
   "id": "fb47b046",
   "metadata": {},
   "source": [
    "## Enunciat 1: Classificació\n",
    "\n",
    "El problema que heu de resoldre en aquest cas és un problema de classificació amb el conjunt de dades _Horses or Human_ dataset [enllaç](https://laurencemoroney.com/datasets.html). És un conjunt de dades generat per ordinador en el que trobareu dues classes diferents: persones i cavalls (500 imatges de cavalls i 547 imatges de persones). També dos subconjunts de dades ja definits: entrenament  i validació. Les imatges tenen una mida de 300x300 pixels i es troben en RGB.\n",
    "\n",
    "A més de la feina de classificació i presentació dels resultats amb el conjunt de dades que es proporciona, també es demana que construiu un petit conjunt d'imatges (entre 10 i 20) de persones i cavalls reals com a conjunt de test i obtingueu les mesures rendiment adients per aquestes dades.\n"
   ]
  },
  {
   "cell_type": "markdown",
   "id": "d388d6f4",
   "metadata": {},
   "source": [
    "**Exemples del dataset**\n",
    "<div style=\"display:flex\">\n",
    "     <div style=\"flex:1;padding-right:10px;\">\n",
    "          <img src=\"img/human01-16.png\" width=\"200\"/>\n",
    "     </div>\n",
    "     <div style=\"flex:1;padding-left:10px;\">\n",
    "          <img src=\"img/horse03-3.png\" width=\"200\"/>\n",
    "     </div>\n",
    "</div>"
   ]
  },
  {
   "cell_type": "code",
   "execution_count": 9,
   "id": "bf12ff59",
   "metadata": {},
   "outputs": [],
   "source": [
    "import torch\n",
    "from torch.utils.data import Dataset, DataLoader\n",
    "import torch.nn as nn\n",
    "import torch.nn.functional as F\n",
    "import torch.optim as optim\n",
    "from torchvision import datasets, transforms\n",
    "import torch.optim as optim\n",
    "\n",
    "import matplotlib.pyplot as plt\n",
    "import numpy as np\n",
    "import os"
   ]
  },
  {
   "cell_type": "code",
   "execution_count": 47,
   "id": "f0e4de12",
   "metadata": {},
   "outputs": [],
   "source": [
    "class CustomDataset(Dataset):\n",
    "\n",
    "    def __init__(self, path, transform=None):\n",
    "        self.path = path\n",
    "        self.transform = transform\n",
    "        self.all_files = [f for f in os.listdir(self.path) if f.endswith('.png')]\n",
    "        self.labels = [f.split('.')[0] for f in self.all_files]\n",
    "       \n",
    "    def __len__(self):\n",
    "        return len(self.all_files)\n",
    "    \n",
    "    def __getitem__(self, index):\n",
    "        image = Image.open(os.path.join(self.path, self.all_files[index]))\n",
    "        label = self.labels[index]\n",
    "\n",
    "        if self.transform:\n",
    "            image = self.transform(image)\n",
    "        image = transforms.ToTensor()(image)\n",
    "        return image, label\n"
   ]
  },
  {
   "cell_type": "code",
   "execution_count": 48,
   "id": "4f916a7a",
   "metadata": {},
   "outputs": [
    {
     "name": "stdout",
     "output_type": "stream",
     "text": [
      "('horse-226', 'human-865', 'horse-120', 'horse-495', 'horse-379', 'horse-347', 'horse-322', 'horse-115', 'human-928', 'horse-293', 'human-982', 'human-817', 'horse-336', 'horse-163', 'horse-407', 'human-640', 'horse-75', 'horse-6', 'human-570', 'human-842', 'horse-106', 'human-826', 'human-622', 'human-769', 'human-971', 'horse-117', 'human-682', 'horse-426', 'horse-279', 'human-910', 'human-1004', 'horse-219', 'horse-16', 'human-905', 'horse-285', 'human-748', 'human-966', 'horse-216', 'human-800', 'human-993', 'horse-294', 'horse-351', 'horse-197', 'human-942', 'human-893', 'human-521', 'human-691', 'human-920', 'human-681', 'horse-334', 'human-958', 'human-651', 'human-959', 'human-535', 'human-809', 'human-658', 'horse-464', 'horse-496', 'human-790', 'human-874', 'horse-360', 'human-649', 'horse-479', 'horse-312')\n",
      "('human-941', 'human-805', 'human-827', 'human-974', 'horse-443', 'human-808', 'horse-73', 'human-965', 'human-778', 'horse-138', 'human-944', 'horse-384', 'horse-21', 'human-980', 'horse-365', 'human-680', 'human-777', 'human-1009', 'horse-240', 'horse-41', 'human-606', 'human-763', 'horse-441', 'horse-27', 'horse-238', 'human-638', 'horse-373', 'human-676', 'human-588', 'horse-43', 'human-906', 'horse-277', 'human-546', 'human-525', 'horse-26', 'horse-448', 'horse-313', 'horse-335', 'horse-166', 'human-797', 'horse-442', 'horse-300', 'human-566', 'human-511', 'human-752', 'human-853', 'human-667', 'human-510', 'horse-131', 'horse-475', 'human-547', 'horse-363', 'horse-403', 'human-701', 'human-634', 'human-545', 'horse-305', 'horse-31', 'horse-324', 'human-529', 'human-894', 'human-845', 'horse-153', 'human-977')\n",
      "('human-903', 'human-740', 'horse-192', 'human-685', 'human-936', 'horse-345', 'horse-316', 'human-829', 'human-688', 'human-856', 'horse-53', 'human-579', 'horse-15', 'human-644', 'human-589', 'horse-228', 'horse-342', 'horse-390', 'horse-499', 'horse-147', 'horse-236', 'horse-307', 'human-575', 'horse-218', 'horse-371', 'horse-189', 'horse-184', 'horse-395', 'horse-323', 'horse-161', 'horse-453', 'human-897', 'human-732', 'human-533', 'horse-370', 'human-887', 'human-541', 'horse-0', 'horse-62', 'human-694', 'horse-420', 'horse-52', 'horse-142', 'horse-450', 'human-648', 'horse-242', 'horse-113', 'horse-215', 'human-979', 'horse-116', 'human-650', 'horse-389', 'human-619', 'human-949', 'horse-2', 'human-1017', 'horse-7', 'horse-485', 'human-719', 'human-831', 'human-603', 'human-908', 'human-929', 'human-923')\n",
      "('human-896', 'human-534', 'human-881', 'human-652', 'human-939', 'human-617', 'human-890', 'human-1001', 'human-659', 'horse-311', 'horse-158', 'horse-47', 'human-711', 'human-960', 'horse-20', 'horse-77', 'human-998', 'human-990', 'human-870', 'horse-154', 'human-663', 'human-855', 'horse-94', 'human-689', 'human-824', 'human-746', 'human-728', 'horse-1', 'horse-107', 'human-989', 'human-734', 'human-838', 'horse-265', 'horse-329', 'horse-249', 'human-927', 'human-883', 'horse-71', 'human-609', 'horse-139', 'human-802', 'horse-406', 'human-953', 'horse-432', 'human-552', 'horse-32', 'horse-81', 'human-901', 'horse-466', 'horse-358', 'human-563', 'horse-144', 'horse-357', 'horse-318', 'human-538', 'human-1012', 'horse-350', 'horse-383', 'horse-69', 'horse-61', 'horse-288', 'horse-388', 'human-577', 'horse-447')\n",
      "('horse-191', 'horse-286', 'horse-414', 'horse-280', 'horse-417', 'horse-232', 'horse-433', 'human-844', 'horse-402', 'human-677', 'human-557', 'horse-50', 'human-628', 'human-637', 'human-835', 'horse-217', 'human-669', 'human-1008', 'human-840', 'horse-404', 'human-672', 'human-863', 'horse-473', 'horse-281', 'human-524', 'human-671', 'human-825', 'horse-99', 'horse-83', 'horse-440', 'horse-392', 'human-779', 'horse-494', 'horse-46', 'human-803', 'horse-109', 'horse-269', 'human-548', 'horse-51', 'horse-102', 'horse-132', 'human-904', 'human-704', 'human-813', 'human-591', 'horse-340', 'human-812', 'human-1016', 'horse-151', 'human-926', 'human-684', 'human-717', 'human-523', 'horse-348', 'horse-200', 'horse-91', 'human-968', 'human-750', 'horse-301', 'human-837', 'human-653', 'horse-12', 'human-864', 'horse-186')\n",
      "('horse-369', 'human-540', 'horse-460', 'human-722', 'human-553', 'human-572', 'human-596', 'horse-284', 'human-767', 'human-624', 'horse-72', 'horse-172', 'human-516', 'horse-469', 'human-586', 'human-674', 'horse-180', 'horse-344', 'human-1011', 'horse-84', 'human-756', 'human-551', 'human-657', 'horse-327', 'human-785', 'horse-257', 'horse-325', 'horse-468', 'human-950', 'horse-221', 'horse-125', 'horse-356', 'horse-56', 'human-833', 'horse-124', 'human-687', 'human-731', 'human-991', 'human-623', 'human-587', 'human-866', 'horse-182', 'horse-169', 'human-592', 'human-716', 'human-773', 'human-907', 'human-878', 'human-820', 'human-643', 'human-558', 'horse-405', 'human-836', 'human-635', 'horse-338', 'human-795', 'human-985', 'horse-60', 'horse-303', 'horse-150', 'horse-434', 'horse-57', 'human-629', 'human-610')\n",
      "('human-735', 'human-583', 'horse-196', 'human-698', 'human-543', 'horse-259', 'human-849', 'horse-289', 'horse-194', 'horse-333', 'human-727', 'human-571', 'human-770', 'horse-430', 'horse-148', 'human-759', 'horse-141', 'horse-55', 'horse-463', 'horse-304', 'human-700', 'human-549', 'human-978', 'horse-183', 'horse-214', 'human-917', 'human-801', 'horse-118', 'human-873', 'horse-330', 'horse-364', 'horse-205', 'horse-114', 'horse-437', 'horse-291', 'human-715', 'human-969', 'horse-449', 'horse-167', 'human-858', 'human-786', 'human-505', 'horse-152', 'horse-462', 'human-501', 'horse-455', 'human-696', 'human-544', 'human-703', 'horse-372', 'human-720', 'human-697', 'horse-457', 'horse-35', 'horse-156', 'horse-122', 'human-892', 'horse-488', 'horse-497', 'human-940', 'human-692', 'horse-366', 'horse-374', 'human-616')\n",
      "('horse-222', 'human-686', 'horse-438', 'human-512', 'human-867', 'human-880', 'horse-399', 'horse-361', 'human-924', 'human-515', 'horse-98', 'human-988', 'human-822', 'human-699', 'human-935', 'horse-411', 'horse-489', 'human-814', 'horse-282', 'human-542', 'horse-416', 'human-1013', 'human-608', 'human-532', 'human-1020', 'horse-176', 'horse-477', 'human-816', 'horse-267', 'horse-273', 'human-721', 'horse-331', 'human-555', 'horse-274', 'horse-112', 'horse-204', 'horse-207', 'human-654', 'horse-491', 'horse-126', 'horse-408', 'horse-88', 'horse-143', 'human-787', 'human-561', 'horse-393', 'human-670', 'human-707', 'human-738', 'human-976', 'horse-272', 'horse-474', 'horse-326', 'horse-105', 'human-520', 'horse-134', 'horse-401', 'human-513', 'human-860', 'horse-137', 'horse-241', 'horse-149', 'horse-44', 'horse-23')\n",
      "('human-742', 'horse-481', 'human-885', 'human-741', 'human-784', 'horse-476', 'human-615', 'horse-237', 'horse-444', 'horse-210', 'human-772', 'horse-78', 'horse-127', 'horse-482', 'human-562', 'human-857', 'human-804', 'human-613', 'human-556', 'human-1025', 'horse-353', 'horse-231', 'horse-359', 'human-509', 'horse-34', 'human-955', 'horse-146', 'human-645', 'horse-145', 'horse-413', 'human-994', 'human-705', 'human-502', 'human-843', 'horse-129', 'human-1024', 'human-946', 'human-819', 'human-503', 'horse-382', 'human-792', 'horse-381', 'human-517', 'human-854', 'human-713', 'horse-103', 'human-875', 'horse-484', 'human-604', 'horse-235', 'horse-85', 'horse-297', 'horse-177', 'horse-181', 'horse-467', 'human-899', 'horse-92', 'horse-178', 'human-911', 'horse-162', 'horse-96', 'human-956', 'human-712', 'human-948')\n",
      "('human-859', 'horse-227', 'human-882', 'human-828', 'horse-410', 'human-661', 'horse-456', 'human-1002', 'horse-435', 'human-815', 'human-981', 'human-781', 'human-1014', 'human-765', 'human-780', 'human-962', 'human-745', 'human-636', 'human-755', 'horse-243', 'horse-42', 'human-793', 'human-764', 'horse-90', 'horse-220', 'horse-157', 'human-888', 'horse-412', 'horse-492', 'human-895', 'human-807', 'horse-208', 'human-789', 'human-718', 'horse-45', 'human-1006', 'horse-234', 'horse-418', 'horse-394', 'horse-133', 'horse-188', 'human-683', 'human-656', 'human-997', 'human-725', 'horse-100', 'horse-465', 'human-1019', 'human-877', 'horse-80', 'human-559', 'horse-11', 'horse-310', 'human-951', 'horse-239', 'horse-87', 'human-666', 'human-1018', 'human-914', 'horse-422', 'horse-17', 'horse-8', 'human-601', 'human-862')\n"
     ]
    },
    {
     "name": "stdout",
     "output_type": "stream",
     "text": [
      "('human-796', 'horse-419', 'horse-471', 'human-527', 'horse-49', 'horse-164', 'horse-185', 'human-578', 'human-576', 'horse-203', 'human-846', 'human-506', 'human-811', 'horse-40', 'human-539', 'horse-101', 'horse-424', 'horse-378', 'horse-195', 'horse-193', 'human-913', 'human-660', 'human-760', 'human-747', 'horse-429', 'horse-251', 'human-754', 'human-567', 'horse-470', 'horse-54', 'horse-386', 'human-909', 'horse-93', 'human-611', 'human-729', 'horse-337', 'horse-287', 'horse-271', 'human-565', 'human-655', 'human-762', 'human-519', 'human-614', 'human-612', 'horse-39', 'horse-275', 'horse-346', 'human-723', 'human-872', 'horse-425', 'horse-119', 'horse-198', 'horse-427', 'horse-490', 'horse-486', 'human-964', 'human-744', 'horse-339', 'horse-190', 'human-768', 'human-536', 'horse-135', 'horse-454', 'horse-179')\n",
      "('human-574', 'human-916', 'human-995', 'human-932', 'horse-104', 'human-919', 'human-631', 'horse-317', 'horse-37', 'horse-461', 'human-1005', 'horse-290', 'human-739', 'horse-59', 'human-973', 'horse-110', 'human-627', 'human-799', 'human-642', 'human-774', 'human-868', 'horse-173', 'human-593', 'horse-260', 'horse-261', 'human-518', 'horse-67', 'horse-68', 'human-599', 'human-832', 'horse-123', 'horse-38', 'horse-136', 'horse-276', 'human-737', 'human-581', 'human-961', 'horse-343', 'human-508', 'horse-397', 'human-504', 'human-921', 'human-695', 'human-625', 'horse-201', 'horse-212', 'human-678', 'horse-28', 'horse-230', 'human-925', 'horse-283', 'horse-170', 'human-861', 'human-848', 'human-1010', 'horse-121', 'human-776', 'human-679', 'human-794', 'human-884', 'human-514', 'horse-58', 'horse-74', 'human-1026')\n",
      "('horse-306', 'horse-328', 'horse-268', 'horse-262', 'horse-472', 'human-597', 'horse-229', 'human-945', 'horse-256', 'horse-292', 'human-987', 'horse-396', 'human-584', 'human-992', 'human-630', 'human-823', 'horse-168', 'human-632', 'horse-225', 'horse-270', 'human-810', 'human-537', 'human-736', 'horse-387', 'human-554', 'human-912', 'horse-155', 'human-798', 'human-902', 'horse-18', 'horse-36', 'horse-252', 'horse-223', 'human-952', 'horse-70', 'human-879', 'horse-255', 'human-618', 'horse-3', 'human-743', 'horse-64', 'horse-160', 'human-839', 'horse-165', 'horse-480', 'horse-30', 'horse-253', 'horse-247', 'human-605', 'horse-4', 'human-830', 'horse-319', 'human-922', 'human-675', 'human-775', 'human-933', 'horse-423', 'human-984', 'human-621', 'human-1021', 'human-943', 'horse-376', 'horse-352', 'horse-377')\n",
      "('human-753', 'human-791', 'horse-211', 'human-673', 'horse-362', 'horse-76', 'horse-63', 'human-1007', 'horse-25', 'human-709', 'horse-258', 'horse-391', 'human-751', 'horse-244', 'horse-209', 'horse-264', 'human-647', 'human-708', 'human-851', 'human-970', 'human-963', 'human-806', 'horse-409', 'human-639', 'human-693', 'horse-10', 'human-947', 'horse-375', 'human-821', 'human-602', 'horse-245', 'human-871', 'human-1000', 'horse-254', 'horse-79', 'human-1003', 'human-594', 'horse-250', 'human-530', 'human-620', 'horse-174', 'horse-171', 'human-633', 'human-564', 'horse-302', 'horse-263', 'horse-108', 'horse-428', 'horse-66', 'horse-298', 'human-668', 'human-915', 'human-900', 'horse-452', 'human-898', 'horse-299', 'human-852', 'human-818', 'human-937', 'human-996', 'human-706', 'horse-128', 'human-528', 'human-726')\n",
      "('human-876', 'horse-295', 'horse-349', 'human-569', 'horse-451', 'human-847', 'horse-187', 'horse-459', 'human-891', 'human-850', 'human-761', 'horse-140', 'horse-24', 'human-573', 'horse-233', 'human-782', 'horse-493', 'human-582', 'horse-97', 'human-967', 'horse-65', 'human-930', 'human-733', 'human-585', 'human-788', 'horse-246', 'horse-355', 'horse-266', 'horse-380', 'horse-19', 'human-972', 'human-550', 'human-507', 'human-954', 'horse-458', 'human-783', 'human-598', 'human-522', 'human-724', 'horse-314', 'horse-367', 'horse-421', 'human-560', 'horse-354', 'horse-498', 'horse-13', 'horse-5', 'horse-385', 'horse-436', 'horse-248', 'human-758', 'horse-159', 'human-938', 'human-646', 'horse-278', 'horse-321', 'human-568', 'horse-29', 'human-526', 'horse-400', 'human-580', 'horse-224', 'horse-332', 'human-1022')\n",
      "('horse-22', 'human-889', 'human-757', 'human-665', 'horse-202', 'human-607', 'human-710', 'horse-89', 'human-918', 'horse-14', 'human-869', 'horse-175', 'horse-320', 'horse-33', 'human-1015', 'horse-296', 'human-600', 'horse-439', 'human-749', 'human-531', 'horse-478', 'human-664', 'human-702', 'human-983', 'human-841', 'horse-9', 'human-641', 'human-730', 'human-771', 'horse-308', 'horse-213', 'horse-82', 'human-766', 'human-886', 'human-834', 'horse-483', 'human-690', 'horse-48', 'human-662', 'human-931', 'horse-431', 'horse-415', 'human-590', 'horse-111', 'horse-130', 'human-626', 'human-595', 'human-986', 'horse-446', 'horse-309', 'horse-398', 'human-957', 'horse-341', 'horse-86', 'horse-315', 'human-975', 'horse-206', 'human-714', 'human-999', 'human-1023', 'human-500', 'human-934', 'horse-445', 'horse-199')\n",
      "('horse-95', 'horse-368', 'horse-487')\n"
     ]
    }
   ],
   "source": [
    "train_batch_size = 64\n",
    "test_batch_size = 100\n",
    "\n",
    "dataset = CustomDataset(path = \"data/train/\")\n",
    "data_loader = DataLoader(dataset, batch_size=train_batch_size, shuffle=True)\n",
    "\n",
    "for batch in data_loader:\n",
    "    data, labels = batch\n",
    "    print(labels)\n",
    "# Creamos los datasets de entrenamiento y test, estan dentro de data/train\n",
    "# y data/test\n"
   ]
  }
 ],
 "metadata": {
  "kernelspec": {
   "display_name": "Python 3 (ipykernel)",
   "language": "python",
   "name": "python3"
  },
  "language_info": {
   "codemirror_mode": {
    "name": "ipython",
    "version": 3
   },
   "file_extension": ".py",
   "mimetype": "text/x-python",
   "name": "python",
   "nbconvert_exporter": "python",
   "pygments_lexer": "ipython3",
   "version": "3.10.8"
  }
 },
 "nbformat": 4,
 "nbformat_minor": 5
}
