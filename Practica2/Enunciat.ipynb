{
 "cells": [
  {
   "cell_type": "markdown",
   "id": "2c0ee14f",
   "metadata": {},
   "source": [
    "# Pràctica 2\n",
    "\n",
    "L'objectiu d'aquesta segona pràctica es demostrar que heu assolit els conceptes que s'han explicar a l'assignatura i s'han practicat a les sessions presencials, relacionats amb el disseny i l'ús de xarxes neurals. \n",
    "\n",
    "Aquesta pràctica consta de 3 enunciats dels quals només heu de realitzar el que us hagi tocat per sorteig.\n",
    "\n",
    "**Condicions**\n",
    "1. El model que solucioni el problema estarà basat en xarxes neurals, aquestes s'han d'entrenar i avaluar emprant la llibreria _Pytorch_.\n",
    "2. Es demana que com a mínim s'avaluin 2 models diferents: un que ha d'estar creat per vosaltres i un altre que es basi en una xarxa ja existent. Evidentment es permeten modificacions de la ja existen per adaptar-ho al problema que es vol resoldre.\n",
    "3. El resultat del treball serà un informe on s'expliqui el procés que s'ha dut a terme per arribar a la que considereu que és millor solució. El document serà en format `pdf`. Podreu adjuntar una carpeta amb el codi i recursos que trobeu necessaris per comprovar la veracitat del que explicau al document.\n",
    "4. Aquest document ha de tenir un llenguatge formal i tècnic i ha d'estar correctament estructurat:\n",
    "    - Introducció al problema\n",
    "    - Solucions considerades (dades, característiques, models, mètriques)\n",
    "    - Experiments realitzats\n",
    "    - Resultats dels experiments\n",
    "    - Conclusions\n",
    "5. A més del document explicatiu s'ha d'adjuntar un fitxer amb els pesos del millor entrenament de cada una de les xarxes que heu emprat (la que heu dissenyat vosaltres i la que ja existia), de tal manera que el professor pugui validar els resultats sense haver de repetir l'entrenament. Sense l'adjunció d'aquests fitxers la pràctica no es podrà aprovar.\n",
    "6. Les dades depenen de cada un dels tres enunciats i les trobareu en el seu apartat.\n",
    "\n",
    "\n",
    "**Avaluació**\n",
    "\n",
    "- El treball es durà a terme en parelles.\n",
    "- El professor es reserva la possibilitat de convocar als grups a una revisió de la pràctica de forma presencial.\n",
    "- Només està permés emprar tècniques de disseny i entrenament vistes a classe.\n",
    "- Tot el que no està fet pels alumnes ha d'estar referenciat, en cas contrari es considerarà com una còpia.\n",
    "\n",
    "\n",
    "**Data d'entrega**\n",
    "\n",
    "- Aquest treball s'entrega dia 15 de gener.\n",
    "- Es realitzarà una tutoria dilluns 9 de gener a les 15:30.\n",
    "---"
   ]
  },
  {
   "cell_type": "markdown",
   "id": "fb47b046",
   "metadata": {},
   "source": [
    "## Enunciat 1: Classificació\n",
    "\n",
    "El problema que heu de resoldre en aquest cas és un problema de classificació amb el conjunt de dades _Horses or Human_ dataset [enllaç](https://laurencemoroney.com/datasets.html). És un conjunt de dades generat per ordinador en el que trobareu dues classes diferents: persones i cavalls (500 imatges de cavalls i 547 imatges de persones). També dos subconjunts de dades ja definits: entrenament  i validació. Les imatges tenen una mida de 300x300 pixels i es troben en RGB.\n",
    "\n",
    "A més de la feina de classificació i presentació dels resultats amb el conjunt de dades que es proporciona, també es demana que construiu un petit conjunt d'imatges (entre 10 i 20) de persones i cavalls reals com a conjunt de test i obtingueu les mesures rendiment adients per aquestes dades.\n"
   ]
  },
  {
   "cell_type": "markdown",
   "id": "d388d6f4",
   "metadata": {},
   "source": [
    "**Exemples del dataset**\n",
    "<div style=\"display:flex\">\n",
    "     <div style=\"flex:1;padding-right:10px;\">\n",
    "          <img src=\"img/human01-16.png\" width=\"200\"/>\n",
    "     </div>\n",
    "     <div style=\"flex:1;padding-left:10px;\">\n",
    "          <img src=\"img/horse03-3.png\" width=\"200\"/>\n",
    "     </div>\n",
    "</div>"
   ]
  },
  {
   "cell_type": "markdown",
   "id": "4d9b4493",
   "metadata": {},
   "source": [
    "## Enunciat 2: Regressió\n",
    "\n",
    "El problema que heu de resoldre és el de contar el nombre de cercles que hi ha en una imatge, per tant és un problema de regressió. Veureu que les imatges són generades per ordinador i són molt simples, en elles apareixen 3 tipus d'objectes i un fons constant. Teniu els conjunts d'entrenament i validació separats, si són massa grans en podeu emprar un subconjunt més petit. A més trobareu una fulla de càlcul on cada fila es correspon amb una imatge i a la columna _c_ hi ha el nombre de cercles de cada imatge.\n",
    "\n",
    "Entre les tasques que haureu de dur a terme heu de:\n",
    " - Definir el conjunt d'entrenament i d'avaluació.\n",
    " - Definir una funció de perdua adient.\n",
    " - Escollir la mètrica per avaluar els vostres resultats.\n",
    "\n",
    "Podeu trobar les dades necessaries al següent [enllaç](http://gsm.uib.es/AIXI_Shape.zip). \n",
    "\n"
   ]
  },
  {
   "cell_type": "markdown",
   "id": "bf6f4dda",
   "metadata": {},
   "source": [
    "**Exemples del dataset**\n",
    "\n",
    "\n",
    "<div style=\"display:flex\">\n",
    "     <div style=\"flex:1;padding-right:10px;\">\n",
    "          <img src=\"img/49858.png\" width=\"300\"/>\n",
    "     </div>\n",
    "     <div style=\"flex:1;padding-right:10px;\">\n",
    "          <img src=\"img/00000.png\" width=\"300\"/>\n",
    "     </div>\n",
    "</div>"
   ]
  },
  {
   "cell_type": "markdown",
   "id": "e6766be3",
   "metadata": {},
   "source": [
    "## Enunciat 3: Segmentació\n",
    "\n",
    "En aquest exercici es demana que resoleu un problema de segmentació d'imatges mèdiques: heu de separar les cel·lules que apareixen del fons de la imatge. El conjunt de dades conté 50 imatges, cada una separada en una carpeta diferent. Les dues imatges que heu d'usar són les imatges _source_ i _mask_ de cada carpeta. Vosaltres sou els encarregats de crear els conjunts d'entrenament i de test.\n",
    "\n",
    "Podeu trobar l'enllaç a la base de dades [aquí](http://gsm.uib.es/Mabimi.rar).\n",
    " \n",
    "Aquesta pràctica té diverses dificultats:\n",
    "\n",
    "- Les etiquetes de les dades són imatges.\n",
    "- Presentar una xarxa diferent a la U-net i dissenyada per vosaltres. La meva recomanació és que faceu/construïu un decodificador d'una xarxa ja coneguda.\n",
    "- Seleccionar la funció de pèrdua adient al problema."
   ]
  },
  {
   "cell_type": "markdown",
   "id": "c5070fd5",
   "metadata": {},
   "source": [
    "**Exemples del dataset**\n",
    "\n",
    "A la imatge de la dreta teniu un exemple d'imatge, a la dreta l'etiqueta de la imatge.\n",
    "<div style=\"display:flex\">\n",
    "     <div style=\"flex:1;padding-right:10px;\">\n",
    "          <img src=\"img/source.jpg\" width=\"300\"/>\n",
    "     </div>\n",
    "     <div style=\"flex:1;padding-left:10px;\">\n",
    "          <img src=\"img/mask.jpg\" width=\"300\"/>\n",
    "     </div>\n",
    "</div>"
   ]
  }
 ],
 "metadata": {
  "kernelspec": {
   "display_name": "Python 3 (ipykernel)",
   "language": "python",
   "name": "python3"
  },
  "language_info": {
   "codemirror_mode": {
    "name": "ipython",
    "version": 3
   },
   "file_extension": ".py",
   "mimetype": "text/x-python",
   "name": "python",
   "nbconvert_exporter": "python",
   "pygments_lexer": "ipython3",
   "version": "3.10.6"
  }
 },
 "nbformat": 4,
 "nbformat_minor": 5
}
