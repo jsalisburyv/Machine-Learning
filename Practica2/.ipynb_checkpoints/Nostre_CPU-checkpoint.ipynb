{
 "cells": [
  {
   "cell_type": "code",
   "execution_count": 1,
   "id": "bf12ff59",
   "metadata": {},
   "outputs": [],
   "source": [
    "import torch\n",
    "import torch.nn as nn\n",
    "import torch.nn.functional as F\n",
    "import torch.optim as optim\n",
    "import torch.optim as optim\n",
    "from torchvision import datasets, transforms\n",
    "from torch.utils.data import Dataset, DataLoader\n",
    "from torch.profiler import profile, record_function, ProfilerActivity\n",
    "from torchsummary import summary\n",
    "\n",
    "import matplotlib.pyplot as plt\n",
    "import numpy as np\n",
    "import os\n",
    "from PIL import Image\n",
    "\n",
    "import time"
   ]
  },
  {
   "cell_type": "code",
   "execution_count": 2,
   "id": "de74b30a",
   "metadata": {},
   "outputs": [
    {
     "name": "stdout",
     "output_type": "stream",
     "text": [
      "cuda\n"
     ]
    }
   ],
   "source": [
    "device = \"cuda\" if torch.cuda.is_available() else \"cpu\"\n",
    "print(device)"
   ]
  },
  {
   "cell_type": "markdown",
   "id": "693375ea",
   "metadata": {},
   "source": [
    "# DataLoader"
   ]
  },
  {
   "cell_type": "code",
   "execution_count": 3,
   "id": "f0e4de12",
   "metadata": {},
   "outputs": [],
   "source": [
    "class CustomDataset(Dataset):\n",
    "\n",
    "    def __init__(self, path, transform=None):\n",
    "        self.path = path\n",
    "        self.transform = transform\n",
    "        self.files_paths = [f for f in os.listdir(self.path) if f.endswith('.png')]\n",
    "        self.data = [Image.open(os.path.join(self.path, f)).convert('RGB') for f in os.listdir(self.path) if f.endswith('.png')]\n",
    "        self.labels = [f.split('-')[0] for f in self.files_paths]\n",
    "        self.labels = [0 if x == 'horse' else 1 for x in self.labels]\n",
    "        \n",
    "    def __len__(self):\n",
    "        return len(self.data)\n",
    "    \n",
    "    def __getitem__(self, index):\n",
    "        image = self.data[index]\n",
    "        label = self.labels[index]\n",
    "\n",
    "        if self.transform:\n",
    "            image = self.transform(image)\n",
    "        # image = transforms.ToTensor()(image)\n",
    "        # image = image.permute(1, 2, 0)\n",
    "        return image, label"
   ]
  },
  {
   "cell_type": "code",
   "execution_count": 4,
   "id": "de5efd00",
   "metadata": {},
   "outputs": [],
   "source": [
    "\n",
    "def get_normalization_values(path):\n",
    "    \"\"\"\n",
    "    Compute the mean and standard deviation of the pixel values for each channel\n",
    "    in the images stored in the specified folder.\n",
    "    \"\"\"\n",
    "    red_values = []\n",
    "    green_values = []\n",
    "    blue_values = []\n",
    "\n",
    "    for file in os.listdir(path):\n",
    "        if file.endswith('.png'):\n",
    "            image = Image.open(os.path.join(path, file))\n",
    "            image_np = np.array(image)\n",
    "\n",
    "            red, green, blue = image_np[:,:,0], image_np[:,:,1], image_np[:,:,2]\n",
    "\n",
    "            red_values.append(red)\n",
    "            green_values.append(green)\n",
    "            blue_values.append(blue)\n",
    "\n",
    "    red_mean = np.mean(red_values)/255\n",
    "    green_mean = np.mean(green_values)/255\n",
    "    blue_mean = np.mean(blue_values)/255\n",
    "\n",
    "    red_std = np.std(red_values)/255\n",
    "    green_std = np.std(green_values)/255\n",
    "    blue_std = np.std(blue_values)/255\n",
    "\n",
    "    return (red_mean, green_mean, blue_mean), (red_std, green_std, blue_std)\n"
   ]
  },
  {
   "cell_type": "code",
   "execution_count": 5,
   "id": "39054741",
   "metadata": {},
   "outputs": [],
   "source": [
    "mean, std = get_normalization_values(\"data/train/\")\n",
    "\n",
    "mean = torch.tensor(mean)\n",
    "std = torch.tensor(std)\n"
   ]
  },
  {
   "cell_type": "code",
   "execution_count": 6,
   "id": "4f916a7a",
   "metadata": {},
   "outputs": [
    {
     "name": "stdout",
     "output_type": "stream",
     "text": [
      "tensor([0.5505, 0.5140, 0.4942], dtype=torch.float64) tensor([0.2936, 0.2725, 0.2798], dtype=torch.float64)\n"
     ]
    }
   ],
   "source": [
    "print(mean, std)\n",
    "train_batch_size = 128\n",
    "test_batch_size = 128\n",
    "\n",
    "channels = 3\n",
    "transform = transforms.Compose([\n",
    "    transforms.ToTensor(),\n",
    "    transforms.Normalize(mean, std)\n",
    "])\n",
    "\n",
    "train = CustomDataset(path = \"data3/train/\",  transform=transform)\n",
    "test = CustomDataset(path = \"data3/validation/\", transform=transform)\n",
    "\n",
    "# train = datasets.ImageFolder(\"data2/train\", transform)\n",
    "# test = datasets.ImageFolder(\"data2/test\", transform)\n",
    "\n",
    "train_loader = DataLoader(train, batch_size=train_batch_size, shuffle=True)\n",
    "test_loader = DataLoader(test, batch_size=test_batch_size, shuffle=True)"
   ]
  },
  {
   "cell_type": "code",
   "execution_count": 7,
   "id": "8938e3cd",
   "metadata": {},
   "outputs": [],
   "source": [
    "# # Get the first batch of data from the data loader\n",
    "# batch = next(iter(train_loader))\n",
    "# data, labels = batch\n",
    "\n",
    "# # Make a figure with subplots\n",
    "# fig, axs = plt.subplots(8, 8, figsize=(8, 8))\n",
    "\n",
    "# for i, (data, label) in enumerate(zip(data, labels)):\n",
    "\n",
    "#     data = data.permute(1,2,0)\n",
    "\n",
    "#     row = i // 8\n",
    "#     col = i % 8\n",
    "#     ax = axs[row, col]\n",
    "# #     ax.imshow(torch.Tensor.numpy(data*255).astype('uint8'))\n",
    "#     ax.imshow(data)\n",
    "#     ax.axis('off')\n",
    "\n",
    "# # Show the plot\n",
    "# plt.show()"
   ]
  },
  {
   "cell_type": "markdown",
   "id": "da49e5e9",
   "metadata": {},
   "source": [
    "# Model Nostre"
   ]
  },
  {
   "cell_type": "code",
   "execution_count": 8,
   "id": "d9069a22",
   "metadata": {},
   "outputs": [],
   "source": [
    "# custom weights initialization called on netG and netD\n",
    "def weights_init(m):\n",
    "    classname = m.__class__.__name__\n",
    "    if classname.find('Conv') != -1:\n",
    "        nn.init.normal_(m.weight.data, 0.0, 0.02)\n",
    "    elif classname.find('BatchNorm') != -1:\n",
    "        nn.init.normal_(m.weight.data, 1.0, 0.02)\n",
    "        nn.init.constant_(m.bias.data, 0)"
   ]
  },
  {
   "cell_type": "code",
   "execution_count": 9,
   "id": "b717580b",
   "metadata": {},
   "outputs": [],
   "source": [
    "def get_accuracy(y_true, y_prob):\n",
    "    assert y_true.ndim == 1 \n",
    "    if y_prob.ndim == 1:\n",
    "        y_prob = y_prob > 0.5\n",
    "        return (y_true == y_prob).sum().item()  "
   ]
  },
  {
   "cell_type": "code",
   "execution_count": 10,
   "id": "af9ee8df",
   "metadata": {},
   "outputs": [],
   "source": [
    "def train_model(model, num_epochs, optimizer, criterion):\n",
    "    start = time.time()\n",
    "    tr_loss = np.zeros((num_epochs))\n",
    "    te_loss = np.zeros((num_epochs))\n",
    "\n",
    "    tr_acc = np.zeros((num_epochs))\n",
    "    te_acc = np.zeros((num_epochs))\n",
    "\n",
    "    for epoch in range(num_epochs):\n",
    "        train_loss = 0\n",
    "        test_loss = 0\n",
    "\n",
    "        train_acc = 0\n",
    "        test_acc = 0\n",
    "\n",
    "        model.train()\n",
    "\n",
    "        for i, (data, labels) in enumerate(train_loader):\n",
    "            data, labels = data.to(device), labels.to(device)\n",
    "            optimizer.zero_grad(set_to_none=True)\n",
    "    \n",
    "            outputs = model(data)\n",
    "            \n",
    "            loss = criterion(outputs,  labels.type(torch.float32))\n",
    "            loss.backward()\n",
    "            \n",
    "            optimizer.step()\n",
    "\n",
    "            train_loss += loss.item()\n",
    "            train_acc += get_accuracy(labels, outputs)\n",
    "\n",
    "        model.eval()\n",
    "        with torch.no_grad():\n",
    "            for data, labels in test_loader:\n",
    "                data, labels = data.to(device), labels.to(device)\n",
    "\n",
    "                outputs = model(data)\n",
    "                outputs = outputs.squeeze()\n",
    "                \n",
    "                loss = criterion(outputs,  labels.type(torch.float32))\n",
    "                test_loss += loss.item()\n",
    "\n",
    "                test_acc += get_accuracy(labels, outputs)\n",
    "\n",
    "        # compute the average loss and accuracy for each epoch\n",
    "        print(train_acc, len(train))\n",
    "        train_loss /= len(train_loader)\n",
    "        test_loss /= len(test_loader)\n",
    "        train_acc /= len(train)\n",
    "        test_acc /= len(test)\n",
    "\n",
    "        tr_loss[epoch] = train_loss\n",
    "        te_loss[epoch] = test_loss\n",
    "        tr_acc[epoch] = train_acc\n",
    "        te_acc[epoch] = test_acc\n",
    "\n",
    "        print(f\"Epoch {epoch+1}/{num_epochs}, Train Loss: {train_loss:.4f}, Test Loss: {test_loss:.4f}, Train Acc: {train_acc:.4f}, Test Acc: {test_acc:.4f}\")\n",
    "    \n",
    "    time_spent = time.time()-start\n",
    "    print(f\"Time spent {round(time_spent, 2)}, Time per Epoch {round(time_spent/num_epochs, 2)}\")\n",
    "\n",
    "    plt.plot(tr_acc, label='Train accuracy')\n",
    "    plt.plot(te_acc, label='Test accuracy')\n",
    "    plt.legend()\n",
    "    plt.show()"
   ]
  },
  {
   "cell_type": "markdown",
   "id": "87faf06b",
   "metadata": {},
   "source": [
    "## CNN_1"
   ]
  },
  {
   "cell_type": "code",
   "execution_count": 11,
   "id": "fdd12761",
   "metadata": {},
   "outputs": [],
   "source": [
    "class net_CNN_1(nn.Module):\n",
    "    def __init__(self, channels, feature_size):\n",
    "        super().__init__()\n",
    "        self.main = nn.Sequential(\n",
    "            self.block(channels, feature_size, 3, 2, 1), #300x300 -> 75x75 \n",
    "            self.block(feature_size, feature_size*2, 3, 2, 1), # 75x75 -> 19x19\n",
    "            self.block(feature_size*2, feature_size*4, 3, 2, 1), # 19x19 -> 5x5\n",
    "            self.block(feature_size*4, feature_size*8, 3, 2, 1), #5x5 -> 1x1\n",
    "            nn.Flatten(),\n",
    "            nn.Linear(feature_size*8, 8), \n",
    "            nn.ReLU(),\n",
    "            nn.Dropout(0.25),\n",
    "            nn.Linear(8, 4), \n",
    "            nn.ReLU(),\n",
    "            nn.Dropout(0.25),\n",
    "            nn.Linear(4, 1)\n",
    "        )\n",
    "    \n",
    "    def forward(self, x):\n",
    "        return self.main(x).squeeze()\n",
    "\n",
    "    def block(self, in_channels, out_channels, kernel_size, stride, padding):\n",
    "        return nn.Sequential(\n",
    "            nn.Conv2d(in_channels, out_channels, kernel_size, stride, padding, bias=False),\n",
    "            nn.BatchNorm2d(out_channels),\n",
    "            nn.ReLU(),\n",
    "            nn.MaxPool2d(2, 2)\n",
    "        )"
   ]
  },
  {
   "cell_type": "code",
   "execution_count": 12,
   "id": "33c84fc9",
   "metadata": {},
   "outputs": [
    {
     "name": "stdout",
     "output_type": "stream",
     "text": [
      "Total number of parameters CNN:  1803\n"
     ]
    }
   ],
   "source": [
    "lr_CNN_1 = 0.01\n",
    "\n",
    "feature_size_CNN_1 = 2\n",
    "\n",
    "num_epochs_CNN_1 = 10\n",
    "\n",
    "CNN_1 = net_CNN_1(channels, feature_size_CNN_1).to(device)\n",
    "\n",
    "CNN_1.apply(weights_init)\n",
    "\n",
    "criterion_CNN_1 = nn.BCEWithLogitsLoss().to(device)\n",
    "\n",
    "optimizer_CNN_1 = torch.optim.SGD(CNN_1.parameters(), lr=lr_CNN_1, momentum=0.6)\n",
    "\n",
    "pytorch_total_params_CNN_1 = sum(p.numel() for p in CNN_1.parameters())\n",
    "print(\"Total number of parameters CNN: \", pytorch_total_params_CNN_1)\n",
    "# summary(CNN_1, (3, 300, 300))"
   ]
  },
  {
   "cell_type": "code",
   "execution_count": 13,
   "id": "b4b7a04b",
   "metadata": {},
   "outputs": [
    {
     "name": "stdout",
     "output_type": "stream",
     "text": [
      "1857 4059\n",
      "Epoch 1/10, Train Loss: 0.4755, Test Loss: 0.5204, Train Acc: 0.4575, Test Acc: 0.0000\n",
      "3796 4059\n",
      "Epoch 2/10, Train Loss: 0.1351, Test Loss: 0.0496, Train Acc: 0.9352, Test Acc: 1.0000\n",
      "3931 4059\n",
      "Epoch 3/10, Train Loss: 0.0666, Test Loss: 0.0068, Train Acc: 0.9685, Test Acc: 1.0000\n",
      "3966 4059\n",
      "Epoch 4/10, Train Loss: 0.0447, Test Loss: 0.0026, Train Acc: 0.9771, Test Acc: 1.0000\n",
      "3979 4059\n",
      "Epoch 5/10, Train Loss: 0.0374, Test Loss: 0.0008, Train Acc: 0.9803, Test Acc: 1.0000\n",
      "3984 4059\n",
      "Epoch 6/10, Train Loss: 0.0306, Test Loss: 0.0004, Train Acc: 0.9815, Test Acc: 1.0000\n",
      "3993 4059\n",
      "Epoch 7/10, Train Loss: 0.0288, Test Loss: 0.0005, Train Acc: 0.9837, Test Acc: 1.0000\n",
      "3990 4059\n",
      "Epoch 8/10, Train Loss: 0.0239, Test Loss: 0.0003, Train Acc: 0.9830, Test Acc: 1.0000\n",
      "4008 4059\n",
      "Epoch 9/10, Train Loss: 0.0184, Test Loss: 0.0001, Train Acc: 0.9874, Test Acc: 1.0000\n",
      "3981 4059\n",
      "Epoch 10/10, Train Loss: 0.0240, Test Loss: 0.0010, Train Acc: 0.9808, Test Acc: 1.0000\n",
      "Time spent 69.26, Time per Epoch 6.93\n"
     ]
    },
    {
     "data": {
      "image/png": "[encoded data removed]",
      "text/plain": [
       "<Figure size 640x480 with 1 Axes>"
      ]
     },
     "metadata": {},
     "output_type": "display_data"
    }
   ],
   "source": [
    "train_model(CNN_1, num_epochs_CNN_1, optimizer_CNN_1, criterion_CNN_1)"
   ]
  },
  {
   "cell_type": "markdown",
   "id": "1b54ad31",
   "metadata": {},
   "source": [
    "## CNN_2"
   ]
  },
  {
   "cell_type": "code",
   "execution_count": 14,
   "id": "065a7efa",
   "metadata": {},
   "outputs": [],
   "source": [
    "class net_CNN_2(nn.Module):\n",
    "    def __init__(self, channels, feature_size):\n",
    "        super().__init__()\n",
    "        self.main = nn.Sequential(\n",
    "            self.block(channels, feature_size, 5, 3, 0), #300x300 -> 100x100\n",
    "            self.block(feature_size, feature_size*2, 3, 2, 1), #100x100 -> 50x50\n",
    "            self.block(feature_size*2, feature_size*4, 5, 3, 1), # 50x50 -> 16x16\n",
    "            self.block(feature_size*4, feature_size*8, 5, 3, 1), # 16x16 -> 5x5\n",
    "            self.block(feature_size*8, feature_size*4, 3, 2, 1), # 5x5 -> 3x3\n",
    "            self.block(feature_size*4, feature_size*2, 3, 2, 1), # 3x3 -> 2x2\n",
    "            nn.Flatten(),\n",
    "            nn.Linear(feature_size*2*2*2, feature_size*2*2), # 16 -> 8\n",
    "            nn.ReLU(),\n",
    "            nn.Dropout(0.5),\n",
    "            nn.Linear(feature_size*2*2, feature_size*2), # 8 -> 4 \n",
    "            nn.ReLU(),\n",
    "            nn.Dropout(0.25),\n",
    "            nn.Linear(feature_size*2, 1)\n",
    "        )\n",
    "    \n",
    "    def forward(self, x):\n",
    "        return self.main(x).squeeze()\n",
    "\n",
    "    def block(self, in_channels, out_channels, kernel_size, stride, padding):\n",
    "        return nn.Sequential(\n",
    "            nn.Conv2d(in_channels, out_channels, kernel_size, stride, padding, bias=False),\n",
    "            nn.BatchNorm2d(out_channels),\n",
    "            nn.ReLU()\n",
    "        )"
   ]
  },
  {
   "cell_type": "code",
   "execution_count": 15,
   "id": "6365ccf8",
   "metadata": {},
   "outputs": [
    {
     "name": "stdout",
     "output_type": "stream",
     "text": [
      "Total number of parameters:  5923\n"
     ]
    }
   ],
   "source": [
    "lr_CNN_2 = 0.002\n",
    "\n",
    "feature_size_CNN_2 = 2\n",
    "\n",
    "num_epochs_CNN_2 = 10\n",
    "\n",
    "CNN_2 = net_CNN_2(channels, feature_size_CNN_2).to(device)\n",
    "\n",
    "CNN_2.apply(weights_init)\n",
    "\n",
    "criterion_CNN_2 = nn.BCEWithLogitsLoss().to(device)\n",
    "\n",
    "optimizer_CNN_2 = torch.optim.SGD(CNN_2.parameters(), lr=lr_CNN_2, momentum = 0.5, nesterov = True)\n",
    "\n",
    "pytorch_total_params_CNN_2 = sum(p.numel() for p in CNN_2.parameters())\n",
    "print(\"Total number of parameters: \", pytorch_total_params_CNN_2)\n",
    "# summary(CNN_2, (3, 300, 300))"
   ]
  },
  {
   "cell_type": "code",
   "execution_count": 16,
   "id": "b0df0bbc",
   "metadata": {},
   "outputs": [
    {
     "name": "stdout",
     "output_type": "stream",
     "text": [
      "571 4059\n",
      "Epoch 1/10, Train Loss: 0.5239, Test Loss: 0.5023, Train Acc: 0.1407, Test Acc: 0.0000\n",
      "2182 4059\n",
      "Epoch 2/10, Train Loss: 0.4713, Test Loss: 0.4307, Train Acc: 0.5376, Test Acc: 0.9870\n",
      "3176 4059\n",
      "Epoch 3/10, Train Loss: 0.4126, Test Loss: 0.2685, Train Acc: 0.7825, Test Acc: 1.0000\n",
      "3494 4059\n",
      "Epoch 4/10, Train Loss: 0.3647, Test Loss: 0.2159, Train Acc: 0.8608, Test Acc: 1.0000\n",
      "3613 4059\n",
      "Epoch 5/10, Train Loss: 0.3257, Test Loss: 0.1949, Train Acc: 0.8901, Test Acc: 1.0000\n",
      "3698 4059\n",
      "Epoch 6/10, Train Loss: 0.2900, Test Loss: 0.1667, Train Acc: 0.9111, Test Acc: 1.0000\n",
      "3743 4059\n",
      "Epoch 7/10, Train Loss: 0.2585, Test Loss: 0.1400, Train Acc: 0.9221, Test Acc: 1.0000\n",
      "3846 4059\n",
      "Epoch 8/10, Train Loss: 0.2340, Test Loss: 0.1087, Train Acc: 0.9475, Test Acc: 1.0000\n",
      "3880 4059\n",
      "Epoch 9/10, Train Loss: 0.2131, Test Loss: 0.0996, Train Acc: 0.9559, Test Acc: 1.0000\n",
      "3902 4059\n",
      "Epoch 10/10, Train Loss: 0.1967, Test Loss: 0.0857, Train Acc: 0.9613, Test Acc: 1.0000\n",
      "Time spent 70.07, Time per Epoch 7.01\n"
     ]
    },
    {
     "data": {
      "image/png": "[encoded data removed]",
      "text/plain": [
       "<Figure size 640x480 with 1 Axes>"
      ]
     },
     "metadata": {},
     "output_type": "display_data"
    }
   ],
   "source": [
    "train_model(CNN_2, num_epochs_CNN_2, optimizer_CNN_2, criterion_CNN_2)"
   ]
  },
  {
   "cell_type": "markdown",
   "id": "283d2d30",
   "metadata": {},
   "source": [
    "## FCNN"
   ]
  },
  {
   "cell_type": "code",
   "execution_count": 17,
   "id": "a33079dc",
   "metadata": {},
   "outputs": [],
   "source": [
    "class net_FCN(nn.Module):\n",
    "    def __init__(self, channels, feature_size):\n",
    "        super().__init__()\n",
    "        self.main = nn.Sequential(\n",
    "            self.block(channels, feature_size, 5, 3, 0), # 300x300 --> 99x99\n",
    "            self.block(feature_size, feature_size*2, 5, 3, 0), # 99x99 --> 32x32\n",
    "            self.block(feature_size*2, feature_size*4, 5, 3, 0), # 32x32 --> 10x10\n",
    "            self.block(feature_size*4, feature_size*2, 3, 2, 1), # 10x10 --> 5x5\n",
    "            self.block(feature_size*2, feature_size, 3, 2, 1), # 5x5 --> 3x3\n",
    "            nn.Conv2d(feature_size, 1, 3, 2, 0) # 3x3 -> 1x1\n",
    "        )\n",
    "    \n",
    "    def forward(self, x):\n",
    "        return self.main(x).squeeze()\n",
    "\n",
    "    def block(self, in_channels, out_channels, kernel_size, stride, padding):\n",
    "        return nn.Sequential(\n",
    "            nn.Conv2d(in_channels, out_channels, kernel_size, stride, padding, bias=False),\n",
    "            nn.BatchNorm2d(out_channels),\n",
    "            nn.ReLU()\n",
    "        )"
   ]
  },
  {
   "cell_type": "code",
   "execution_count": 18,
   "id": "1fef844c",
   "metadata": {},
   "outputs": [
    {
     "name": "stdout",
     "output_type": "stream",
     "text": [
      "Total number of parameters FCN:  1569\n"
     ]
    }
   ],
   "source": [
    "lr_FCN = 0.001\n",
    "\n",
    "feature_size_FCN = 2\n",
    "\n",
    "num_epochs_FCN = 15\n",
    "\n",
    "# with profile(activities=[ProfilerActivity.CPU, ProfilerActivity.CUDA], record_shapes=True) as prof:\n",
    "#     with record_function(\"model_inference\"):\n",
    "FCN = net_FCN(channels, feature_size_FCN).to(device)\n",
    "\n",
    "FCN.apply(weights_init)\n",
    "\n",
    "criterion_FCN = nn.BCEWithLogitsLoss().to(device)\n",
    "\n",
    "optimizer_FCN = torch.optim.SGD(FCN.parameters(), lr=lr_FCN, momentum=0.3)\n",
    "\n",
    "pytorch_total_params_FCN = sum(p.numel() for p in FCN.parameters())\n",
    "print(\"Total number of parameters FCN: \", pytorch_total_params_FCN)\n",
    "# summary(FCN, (3, 300, 300))"
   ]
  },
  {
   "cell_type": "code",
   "execution_count": 19,
   "id": "576feeb1",
   "metadata": {},
   "outputs": [
    {
     "name": "stdout",
     "output_type": "stream",
     "text": [
      "2 4059\n",
      "Epoch 1/15, Train Loss: 0.6641, Test Loss: 0.6870, Train Acc: 0.0005, Test Acc: 0.0000\n",
      "3 4059\n",
      "Epoch 2/15, Train Loss: 0.5955, Test Loss: 0.6048, Train Acc: 0.0007, Test Acc: 0.0000\n",
      "509 4059\n",
      "Epoch 3/15, Train Loss: 0.5277, Test Loss: 0.5400, Train Acc: 0.1254, Test Acc: 0.0260\n",
      "2471 4059\n",
      "Epoch 4/15, Train Loss: 0.4641, Test Loss: 0.4559, Train Acc: 0.6088, Test Acc: 0.7446\n",
      "3500 4059\n",
      "Epoch 5/15, Train Loss: 0.4077, Test Loss: 0.4143, Train Acc: 0.8623, Test Acc: 0.9394\n",
      "3956 4059\n",
      "Epoch 6/15, Train Loss: 0.3594, Test Loss: 0.3608, Train Acc: 0.9746, Test Acc: 1.0000\n",
      "4051 4059\n",
      "Epoch 7/15, Train Loss: 0.3146, Test Loss: 0.2844, Train Acc: 0.9980, Test Acc: 1.0000\n",
      "4057 4059\n",
      "Epoch 8/15, Train Loss: 0.2726, Test Loss: 0.2657, Train Acc: 0.9995, Test Acc: 1.0000\n",
      "4057 4059\n",
      "Epoch 9/15, Train Loss: 0.2399, Test Loss: 0.2472, Train Acc: 0.9995, Test Acc: 1.0000\n",
      "4057 4059\n",
      "Epoch 10/15, Train Loss: 0.2132, Test Loss: 0.1844, Train Acc: 0.9995, Test Acc: 1.0000\n",
      "4057 4059\n",
      "Epoch 11/15, Train Loss: 0.1904, Test Loss: 0.1808, Train Acc: 0.9995, Test Acc: 1.0000\n",
      "4057 4059\n",
      "Epoch 12/15, Train Loss: 0.1715, Test Loss: 0.1659, Train Acc: 0.9995, Test Acc: 1.0000\n",
      "4057 4059\n",
      "Epoch 13/15, Train Loss: 0.1550, Test Loss: 0.1604, Train Acc: 0.9995, Test Acc: 1.0000\n",
      "4057 4059\n",
      "Epoch 14/15, Train Loss: 0.1411, Test Loss: 0.1415, Train Acc: 0.9995, Test Acc: 1.0000\n",
      "4057 4059\n",
      "Epoch 15/15, Train Loss: 0.1289, Test Loss: 0.1189, Train Acc: 0.9995, Test Acc: 1.0000\n",
      "Time spent 102.21, Time per Epoch 6.81\n"
     ]
    },
    {
     "data": {
      "image/png": "[encoded data removed]",
      "text/plain": [
       "<Figure size 640x480 with 1 Axes>"
      ]
     },
     "metadata": {},
     "output_type": "display_data"
    }
   ],
   "source": [
    "train_model(FCN, num_epochs_FCN, optimizer_FCN, criterion_FCN)"
   ]
  },
  {
   "cell_type": "markdown",
   "id": "5d6b61fb",
   "metadata": {},
   "source": [
    "## Ensemble"
   ]
  },
  {
   "cell_type": "code",
   "execution_count": 20,
   "id": "5d4b0e9f",
   "metadata": {},
   "outputs": [],
   "source": [
    "class net_Ensemble(torch.nn.Module):\n",
    "    def __init__(self, cnn1, cnn2, fcn):\n",
    "        super().__init__()\n",
    "\n",
    "        self.cnn1 = cnn1\n",
    "        self.cnn2 = cnn2\n",
    "        self.fcn1 = fcn\n",
    "       \n",
    "        self.fc = nn.Linear(3, 1)\n",
    "        \n",
    "        # freeze the weights of the pre-trained models\n",
    "        for param in self.cnn1.parameters():\n",
    "            param.requires_grad = False\n",
    "        for param in self.cnn2.parameters():\n",
    "            param.requires_grad = False\n",
    "        for param in self.fcn1.parameters():\n",
    "            param.requires_grad = False\n",
    "\n",
    "    def forward(self, data):\n",
    "\n",
    "        X_1 = self.cnn1(data)\n",
    "        X_2 = self.cnn2(data)\n",
    "        X_3 = self.fcn1(data)\n",
    "        \n",
    "        X = torch.stack([X_1, X_2, X_3], dim=1)\n",
    "        X = self.fc(F.relu(X))\n",
    "   \n",
    "        return X.squeeze()"
   ]
  },
  {
   "cell_type": "code",
   "execution_count": 21,
   "id": "5f69bdce",
   "metadata": {},
   "outputs": [
    {
     "name": "stdout",
     "output_type": "stream",
     "text": [
      "Total number of parameters ensemble:  9299\n",
      "Number of learnable parameters ensemble:  4\n"
     ]
    }
   ],
   "source": [
    "lr_Ensemble = 1\n",
    "\n",
    "num_epochs_Ensemble = 10\n",
    "model = net_Ensemble(CNN_1, CNN_2, FCN).to(device)\n",
    "\n",
    "model.apply(weights_init)\n",
    "\n",
    "criterion_Ensemble= nn.BCEWithLogitsLoss().to(device)\n",
    "\n",
    "optimizer_Ensemble = torch.optim.SGD(model.parameters(), lr=lr_Ensemble, momentum = 0.9, nesterov = True)\n",
    "\n",
    "pytorch_total_params_Ensemble = sum(p.numel() for p in model.parameters())\n",
    "pytorch_learn_params_Ensemble = sum(p.numel() for p in model.parameters() if p.requires_grad)\n",
    "print(\"Total number of parameters ensemble: \", pytorch_total_params_Ensemble)\n",
    "print(\"Number of learnable parameters ensemble: \", pytorch_learn_params_Ensemble)\n",
    "\n",
    "# summary(model, (3, 300, 300))"
   ]
  },
  {
   "cell_type": "code",
   "execution_count": 22,
   "id": "80f6c569",
   "metadata": {},
   "outputs": [
    {
     "name": "stdout",
     "output_type": "stream",
     "text": [
      "3929 4059\n",
      "Epoch 1/10, Train Loss: 0.1036, Test Loss: 0.0000, Train Acc: 0.9680, Test Acc: 1.0000\n",
      "4057 4059\n",
      "Epoch 2/10, Train Loss: 0.0627, Test Loss: 0.0000, Train Acc: 0.9995, Test Acc: 1.0000\n",
      "4057 4059\n",
      "Epoch 3/10, Train Loss: 0.0674, Test Loss: 0.0000, Train Acc: 0.9995, Test Acc: 1.0000\n",
      "4057 4059\n",
      "Epoch 4/10, Train Loss: 0.0364, Test Loss: 0.0000, Train Acc: 0.9995, Test Acc: 1.0000\n",
      "4057 4059\n",
      "Epoch 5/10, Train Loss: 0.0462, Test Loss: 0.0000, Train Acc: 0.9995, Test Acc: 1.0000\n",
      "4057 4059\n",
      "Epoch 6/10, Train Loss: 0.0541, Test Loss: 0.0000, Train Acc: 0.9995, Test Acc: 1.0000\n",
      "4057 4059\n",
      "Epoch 7/10, Train Loss: 0.0560, Test Loss: 0.0000, Train Acc: 0.9995, Test Acc: 1.0000\n",
      "4057 4059\n",
      "Epoch 8/10, Train Loss: 0.0785, Test Loss: 0.0000, Train Acc: 0.9995, Test Acc: 1.0000\n",
      "4057 4059\n",
      "Epoch 9/10, Train Loss: 0.0688, Test Loss: 0.0000, Train Acc: 0.9995, Test Acc: 1.0000\n",
      "4057 4059\n",
      "Epoch 10/10, Train Loss: 0.0658, Test Loss: 0.0000, Train Acc: 0.9995, Test Acc: 1.0000\n",
      "Time spent 67.91, Time per Epoch 6.79\n"
     ]
    },
    {
     "data": {
      "image/png": "[encoded data removed]",
      "text/plain": [
       "<Figure size 640x480 with 1 Axes>"
      ]
     },
     "metadata": {},
     "output_type": "display_data"
    }
   ],
   "source": [
    "train_model(model, num_epochs_Ensemble, optimizer_Ensemble, criterion_Ensemble)"
   ]
  },
  {
   "cell_type": "code",
   "execution_count": 23,
   "id": "8491adda",
   "metadata": {},
   "outputs": [],
   "source": [
    "torch.save(CNN_1.state_dict(), \"models/CNN1_1.pth\")\n",
    "torch.save(CNN_2.state_dict(), \"models/CNN2_1.pth\")\n",
    "torch.save(FCN.state_dict(), \"models/FCN_1.pth\")\n",
    "torch.save(model.state_dict(), \"models/Ensemble_1.pth\")\n"
   ]
  },
  {
   "cell_type": "code",
   "execution_count": 25,
   "id": "d9dd4bee",
   "metadata": {},
   "outputs": [
    {
     "data": {
      "text/plain": [
       "<All keys matched successfully>"
      ]
     },
     "execution_count": 25,
     "metadata": {},
     "output_type": "execute_result"
    }
   ],
   "source": [
    "model1 = net_CNN_1(3,2)\n",
    "model1.load_state_dict(torch.load(\"models/CNN1_1.pth\"))\n",
    "\n",
    "model2 = net_CNN_2(3,2)\n",
    "model2.load_state_dict(torch.load(\"models/CNN2_1.pth\"))\n",
    "\n",
    "model3 = net_FCN(3,2)\n",
    "model3.load_state_dict(torch.load(\"models/FCN_1.pth\"))\n",
    "\n",
    "model4 = net_Ensemble(model1, model2, model3)\n",
    "model4.load_state_dict(torch.load(\"models/Ensemble_1.pth\"))"
   ]
  },
  {
   "cell_type": "code",
   "execution_count": 28,
   "id": "96b1fb5c",
   "metadata": {},
   "outputs": [],
   "source": [
    "real_human = CustomDataset(path = \"real/human/\", transform=transform)\n",
    "real_horse = CustomDataset(path = \"real/horse/\", transform=transform)\n",
    "\n",
    "loader_human = DataLoader(real_human, batch_size=64)\n",
    "loader_horse = DataLoader(real_horse, batch_size=64)"
   ]
  },
  {
   "cell_type": "code",
   "execution_count": 31,
   "id": "e2235be4",
   "metadata": {},
   "outputs": [
    {
     "name": "stdout",
     "output_type": "stream",
     "text": [
      "Accuracy for real humans:\n",
      "CNN1 0.2689, CNN2 0.2736, FCNN 0.0, Ensemble 0.2736\n",
      "Accuracy for real horses:\n",
      "CNN1 0.0126, CNN2 0.0, FCNN 0.7264, Ensemble 0.0\n"
     ]
    }
   ],
   "source": [
    "# Loop through the human data\n",
    "acc1 = acc2 = acc3 = acc4 = 0\n",
    "for i, (data, labels) in enumerate(loader_human):\n",
    "    # Get the inputs and labels\n",
    "    # Make predictions with the models\n",
    "    output1 = model1(data)\n",
    "    output2 = model2(data)\n",
    "    output3 = model3(data)\n",
    "    output4 = model4(data)\n",
    "\n",
    "    acc1 += get_accuracy(labels, output1)\n",
    "    acc2 += get_accuracy(labels, output2)\n",
    "    acc3 += get_accuracy(labels, output3)\n",
    "    acc4 += get_accuracy(labels, output4)\n",
    "\n",
    "acc1 = round(acc1 / len(real), 4)\n",
    "acc2 = round(acc2 / len(real), 4)\n",
    "acc3 = round(acc3 / len(real), 4)\n",
    "acc4 = round(acc4 / len(real), 4)\n",
    "    # Print the predictions\n",
    "print(\"Accuracy for real humans:\")\n",
    "print(f\"CNN1 {acc1}, CNN2 {acc2}, FCNN {acc3}, Ensemble {acc4}\")\n",
    "      \n",
    "acc1 = acc2 = acc3 = acc4 = 0\n",
    "for i, (data, labels) in enumerate(loader_horse):\n",
    "    # Get the inputs and labels\n",
    "    # Make predictions with the models\n",
    "    output1 = model1(data)\n",
    "    output2 = model2(data)\n",
    "    output3 = model3(data)\n",
    "    output4 = model4(data)\n",
    "\n",
    "    acc1 += get_accuracy(labels, output1)\n",
    "    acc2 += get_accuracy(labels, output2)\n",
    "    acc3 += get_accuracy(labels, output3)\n",
    "    acc4 += get_accuracy(labels, output4)\n",
    "\n",
    "acc1 = round(acc1 / len(real), 4)\n",
    "acc2 = round(acc2 / len(real), 4)\n",
    "acc3 = round(acc3 / len(real), 4)\n",
    "acc4 = round(acc4 / len(real), 4)\n",
    "    # Print the predictions\n",
    "print(\"Accuracy for real horses:\")\n",
    "print(f\"CNN1 {acc1}, CNN2 {acc2}, FCNN {acc3}, Ensemble {acc4}\")"
   ]
  },
  {
   "cell_type": "code",
   "execution_count": null,
   "id": "6bc8184b",
   "metadata": {},
   "outputs": [],
   "source": []
  }
 ],
 "metadata": {
  "kernelspec": {
   "display_name": "Python 3 (ipykernel)",
   "language": "python",
   "name": "python3"
  },
  "language_info": {
   "codemirror_mode": {
    "name": "ipython",
    "version": 3
   },
   "file_extension": ".py",
   "mimetype": "text/x-python",
   "name": "python",
   "nbconvert_exporter": "python",
   "pygments_lexer": "ipython3",
   "version": "3.10.8"
  },
  "vscode": {
   "interpreter": {
    "hash": "7637c253feff6c963a9cf3cc73ba70ccd42b4d2a04f0d24ffe9f98246879e966"
   }
  }
 },
 "nbformat": 4,
 "nbformat_minor": 5
}
