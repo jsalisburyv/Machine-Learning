{
 "cells": [
  {
   "cell_type": "code",
   "execution_count": null,
   "id": "bf12ff59",
   "metadata": {
    "id": "bf12ff59"
   },
   "outputs": [],
   "source": [
    "import torch\n",
    "import torch.nn as nn\n",
    "import torch.nn.functional as F\n",
    "import torch.optim as optim\n",
    "from torchvision import  transforms\n",
    "from torch.utils.data import Dataset, DataLoader\n",
    "from torchsummary import summary\n",
    "\n",
    "import matplotlib.pyplot as plt\n",
    "import numpy as np\n",
    "import os\n",
    "import time\n",
    "from PIL import Image"
   ]
  },
  {
   "cell_type": "code",
   "execution_count": null,
   "id": "de74b30a",
   "metadata": {
    "colab": {
     "base_uri": "https://localhost:8080/"
    },
    "executionInfo": {
     "elapsed": 12,
     "status": "ok",
     "timestamp": 1673121331801,
     "user": {
      "displayName": "julian wallis",
      "userId": "17524896017552644151"
     },
     "user_tz": -60
    },
    "id": "de74b30a",
    "outputId": "9cf4d863-ae59-4653-acbb-4013643de6bf"
   },
   "outputs": [],
   "source": [
    "device = \"cuda\" if torch.cuda.is_available() else \"cpu\"\n",
    "print(device)"
   ]
  },
  {
   "cell_type": "markdown",
   "id": "693375ea",
   "metadata": {
    "id": "693375ea"
   },
   "source": [
    "# DataLoader"
   ]
  },
  {
   "cell_type": "markdown",
   "id": "a758c210",
   "metadata": {},
   "source": [
    "Cream un Dataset propi per aquesta pràctica. Aquest Dataset extén de la classe `torch.utils.data.Dataset` i implementa els mètodes `__init__`,  `__len__` i `__getitem__`. \n",
    "El mètode `__init__` inicialitza el Dataset donat un directori i carrega en memòria totes les imatges i etiquetes, el mètode `__len__` retorna el nombre d'exemples que té el Dataset i el mètode `__getitem__` retorna l'exemple que es troba a la posició `index` del Dataset."
   ]
  },
  {
   "cell_type": "code",
   "execution_count": null,
   "id": "f0e4de12",
   "metadata": {
    "id": "f0e4de12"
   },
   "outputs": [],
   "source": [
    "class CustomDataset(Dataset):\n",
    "\n",
    "    def __init__(self, path, transform=None):\n",
    "        self.path = path\n",
    "        self.transform = transform\n",
    "        self.files_paths = [f for f in os.listdir(self.path) if f.endswith('.png')]\n",
    "        self.data = [Image.open(os.path.join(self.path, f)).convert('RGB') for f in os.listdir(self.path) if f.endswith('.png')]\n",
    "        self.labels = [f.split('-')[0] for f in self.files_paths]\n",
    "        self.labels = [0 if x == 'humans' else 1 for x in self.labels]\n",
    "        \n",
    "    def __len__(self):\n",
    "        return len(self.data)\n",
    "    \n",
    "    def __getitem__(self, index):\n",
    "        image = self.data[index]\n",
    "        label = self.labels[index]\n",
    "\n",
    "        if self.transform:\n",
    "            image = self.transform(image)\n",
    "\n",
    "        return image, label"
   ]
  },
  {
   "cell_type": "markdown",
   "id": "5134b6fe",
   "metadata": {},
   "source": [
    "Mètode per calcular els valors de normalització de les imatges del directori passat per paràmetre. Calcula tant la mitjana com la desviació estàndard de les imatges."
   ]
  },
  {
   "cell_type": "code",
   "execution_count": null,
   "id": "de5efd00",
   "metadata": {
    "id": "de5efd00"
   },
   "outputs": [],
   "source": [
    "def get_normalization_values(path):\n",
    "    red_values = []\n",
    "    green_values = []\n",
    "    blue_values = []\n",
    "\n",
    "    for file in os.listdir(path):\n",
    "        if file.endswith('.png'):\n",
    "            image = Image.open(os.path.join(path, file))\n",
    "            image_np = np.array(image)\n",
    "\n",
    "            red, green, blue = image_np[:,:,0], image_np[:,:,1], image_np[:,:,2]\n",
    "\n",
    "            red_values.append(red)\n",
    "            green_values.append(green)\n",
    "            blue_values.append(blue)\n",
    "\n",
    "    red_mean = np.mean(red_values)/255\n",
    "    green_mean = np.mean(green_values)/255\n",
    "    blue_mean = np.mean(blue_values)/255\n",
    "\n",
    "    red_std = np.std(red_values)/255\n",
    "    green_std = np.std(green_values)/255\n",
    "    blue_std = np.std(blue_values)/255\n",
    "\n",
    "    return (red_mean, green_mean, blue_mean), (red_std, green_std, blue_std)\n"
   ]
  },
  {
   "cell_type": "code",
   "execution_count": null,
   "id": "39054741",
   "metadata": {
    "id": "39054741"
   },
   "outputs": [],
   "source": [
    "mean, std = get_normalization_values(\"data/train/\")\n",
    "\n",
    "mean = torch.tensor(mean)\n",
    "std = torch.tensor(std)"
   ]
  },
  {
   "cell_type": "markdown",
   "id": "d3a6726b",
   "metadata": {},
   "source": [
    "Creació del Dataset i del DataLoader.\n",
    "El DataLoader és un iterador que permet carregar els exemples del Dataset en lots. El paràmetre `train_batch_size` i `test_batch_size` indica el nombre d'exemples que es carregaran en cada lot."
   ]
  },
  {
   "cell_type": "code",
   "execution_count": null,
   "id": "4f916a7a",
   "metadata": {
    "colab": {
     "base_uri": "https://localhost:8080/"
    },
    "executionInfo": {
     "elapsed": 36832,
     "status": "ok",
     "timestamp": 1673121534926,
     "user": {
      "displayName": "julian wallis",
      "userId": "17524896017552644151"
     },
     "user_tz": -60
    },
    "id": "4f916a7a",
    "outputId": "560ba64d-ba21-46e2-97db-0badb95e6ce8"
   },
   "outputs": [],
   "source": [
    "train_batch_size = 128\n",
    "test_batch_size = 128\n",
    "\n",
    "channels = 3\n",
    "transform = transforms.Compose([\n",
    "    transforms.ToTensor(),\n",
    "    transforms.Normalize(mean, std)\n",
    "])\n",
    "\n",
    "train = CustomDataset(path = \"data/train/\",  transform=transform)\n",
    "test = CustomDataset(path = \"data/validation/\", transform=transform)\n",
    "\n",
    "train_loader = DataLoader(train, batch_size=train_batch_size, shuffle=True, pin_memory=True)\n",
    "test_loader = DataLoader(test, batch_size=test_batch_size, shuffle=True, pin_memory=True)"
   ]
  },
  {
   "cell_type": "markdown",
   "id": "da49e5e9",
   "metadata": {
    "id": "da49e5e9"
   },
   "source": [
    "# Models Nostres"
   ]
  },
  {
   "cell_type": "markdown",
   "id": "d9eb15fb",
   "metadata": {},
   "source": [
    "Mètode per inicialitzar els pesos de la xarxa. Aquest mètode inicialitza els pesos de les capes amb una distribució normal ."
   ]
  },
  {
   "cell_type": "code",
   "execution_count": null,
   "id": "d9069a22",
   "metadata": {
    "id": "d9069a22"
   },
   "outputs": [],
   "source": [
    "def weights_init(m):\n",
    "    classname = m.__class__.__name__\n",
    "    if classname.find('Conv') != -1:\n",
    "        nn.init.normal_(m.weight.data, 0.0, 0.02)\n",
    "    elif classname.find('BatchNorm') != -1:\n",
    "        nn.init.normal_(m.weight.data, 1.0, 0.02)\n",
    "        nn.init.constant_(m.bias.data, 0)"
   ]
  },
  {
   "cell_type": "code",
   "execution_count": null,
   "id": "b717580b",
   "metadata": {
    "id": "b717580b"
   },
   "outputs": [],
   "source": [
    "def get_accuracy(y_true, y_prob):\n",
    "    assert y_true.ndim == 1 and y_prob.ndim == 1\n",
    "    y_prob = y_prob > 0.5\n",
    "    return (y_true == y_prob).sum().item()  "
   ]
  },
  {
   "cell_type": "markdown",
   "id": "ace7a532",
   "metadata": {},
   "source": [
    "Mètode per entrenar el model.\n",
    "Aquest mètode guarda la pèrdua i la precisió de l'entrenament i la validació en cada iteració. A més, guarda el model amb la millor precisió de validació.\n",
    "També calcula la durada de l'entrenament i el temps per iteració."
   ]
  },
  {
   "cell_type": "code",
   "execution_count": null,
   "id": "af9ee8df",
   "metadata": {
    "id": "af9ee8df"
   },
   "outputs": [],
   "source": [
    "def train_model(model, num_epochs, optimizer, criterion):\n",
    "    start = time.time()\n",
    "    tr_loss = np.zeros((num_epochs))\n",
    "    te_loss = np.zeros((num_epochs))\n",
    "\n",
    "    tr_acc = np.zeros((num_epochs))\n",
    "    te_acc = np.zeros((num_epochs))\n",
    "\n",
    "    best_acc = 0\n",
    "\n",
    "    for epoch in range(num_epochs):\n",
    "        \n",
    "        train_loss = test_loss = train_acc = test_acc = 0\n",
    "\n",
    "        # Training\n",
    "        model.train()\n",
    "        for data, labels in train_loader:\n",
    "            data, labels = data.to(device), labels.to(device)\n",
    "            optimizer.zero_grad(set_to_none=True)\n",
    "            \n",
    "            outputs = model(data)\n",
    "\n",
    "            loss = criterion(outputs,  labels.type(torch.float32))\n",
    "            loss.backward()\n",
    "            \n",
    "            optimizer.step()\n",
    "\n",
    "            train_loss += loss.item()\n",
    "            train_acc += get_accuracy(labels, outputs)\n",
    "       \n",
    "        # Testing\n",
    "        model.eval()\n",
    "        with torch.no_grad():\n",
    "            for data, labels in test_loader:\n",
    "                data, labels = data.to(device), labels.to(device)\n",
    "\n",
    "                outputs = model(data)\n",
    "                            \n",
    "                loss = criterion(outputs,  labels.type(torch.float32))\n",
    "                \n",
    "                test_loss += loss.item()\n",
    "                test_acc += get_accuracy(labels, outputs)       \n",
    "\n",
    "        train_loss /= len(train_loader)\n",
    "        test_loss /= len(test_loader)\n",
    "        train_acc /= len(train)\n",
    "        test_acc /= len(test)\n",
    "\n",
    "        tr_loss[epoch] = train_loss\n",
    "        te_loss[epoch] = test_loss\n",
    "        tr_acc[epoch] = train_acc\n",
    "        te_acc[epoch] = test_acc\n",
    "\n",
    "        print(f\"Epoch {epoch+1}/{num_epochs}, Train Loss: {train_loss:.4f}, Test Loss: {test_loss:.4f}, Train Acc: {train_acc:.4f}, Test Acc: {test_acc:.4f}\")\n",
    "\n",
    "        if test_acc > best_acc:\n",
    "          best_acc = test_acc\n",
    "          best_model = model\n",
    "          print(f\"BEST SO FAR: {round(best_acc,4)}\")\n",
    "\n",
    "    \n",
    "    time_spent = time.time()-start\n",
    "    print(f\"Time spent {round(time_spent, 2)}, Time per Epoch {round(time_spent/num_epochs, 2)}\")\n",
    "\n",
    "    plt.plot(tr_acc, label='Train accuracy')\n",
    "    plt.plot(te_acc, label='Test accuracy')\n",
    "    plt.legend()\n",
    "    plt.show()\n",
    "\n",
    "    plt.plot(tr_loss, label='Train loss')\n",
    "    plt.plot(te_loss, label='Test loss')\n",
    "    plt.legend()\n",
    "    plt.show()\n",
    "    \n",
    "    return best_model, best_acc"
   ]
  },
  {
   "cell_type": "markdown",
   "id": "87faf06b",
   "metadata": {
    "id": "87faf06b"
   },
   "source": [
    "## CNN_1"
   ]
  },
  {
   "cell_type": "markdown",
   "id": "31d14683",
   "metadata": {},
   "source": [
    "Creació del model:"
   ]
  },
  {
   "cell_type": "code",
   "execution_count": null,
   "id": "fdd12761",
   "metadata": {
    "id": "fdd12761"
   },
   "outputs": [],
   "source": [
    "class net_CNN_1(nn.Module):\n",
    "    def __init__(self, channels, feature_size):\n",
    "        super().__init__()\n",
    "        self.main = nn.Sequential(\n",
    "            self.block(channels, feature_size, 3, 2, 1), #300x300 -> 75x75 \n",
    "            self.block(feature_size, feature_size*2, 3, 2, 1), # 75x75 -> 19x19\n",
    "            self.block(feature_size*2, feature_size*4, 3, 2, 1), # 19x19 -> 5x5\n",
    "            self.block(feature_size*4, feature_size*8, 3, 2, 1), #5x5 -> 1x1\n",
    "            nn.Flatten(),\n",
    "\n",
    "            nn.Linear(feature_size*8, 8), \n",
    "            nn.ReLU(),\n",
    "            nn.Dropout(0.25),\n",
    "\n",
    "            nn.Linear(8, 4), \n",
    "            nn.ReLU(),\n",
    "            nn.Dropout(0.25),\n",
    "\n",
    "            nn.Linear(4, 1)\n",
    "        )\n",
    "    \n",
    "    def forward(self, x):\n",
    "        return self.main(x).squeeze()\n",
    "\n",
    "    def block(self, in_channels, out_channels, kernel_size, stride, padding):\n",
    "        return nn.Sequential(\n",
    "            nn.Conv2d(in_channels, out_channels, kernel_size, stride, padding, bias=False),\n",
    "            nn.BatchNorm2d(out_channels),\n",
    "            nn.ReLU(),\n",
    "            nn.MaxPool2d(2, 2)\n",
    "        )"
   ]
  },
  {
   "cell_type": "markdown",
   "id": "00df48ff",
   "metadata": {},
   "source": [
    "Hiperparàmetres del model:"
   ]
  },
  {
   "cell_type": "code",
   "execution_count": null,
   "id": "33c84fc9",
   "metadata": {
    "colab": {
     "base_uri": "https://localhost:8080/"
    },
    "executionInfo": {
     "elapsed": 484,
     "status": "ok",
     "timestamp": 1673121535394,
     "user": {
      "displayName": "julian wallis",
      "userId": "17524896017552644151"
     },
     "user_tz": -60
    },
    "id": "33c84fc9",
    "outputId": "062be809-9bc6-4638-bc9c-1b9accb9fd29"
   },
   "outputs": [],
   "source": [
    "lr_CNN_1 = 0.01\n",
    "feature_size_CNN_1 = 2\n",
    "num_epochs_CNN_1 = 75\n",
    "\n",
    "CNN_1 = net_CNN_1(channels, feature_size_CNN_1).to(device)\n",
    "CNN_1.apply(weights_init)\n",
    "\n",
    "criterion_CNN_1 = nn.BCEWithLogitsLoss().to(device)\n",
    "optimizer_CNN_1 = torch.optim.SGD(CNN_1.parameters(), lr=lr_CNN_1, momentum=0.9)\n",
    "\n",
    "summary(CNN_1, (3, 300, 300))"
   ]
  },
  {
   "cell_type": "markdown",
   "id": "bfbd0fcd",
   "metadata": {},
   "source": [
    "Entrenament del model:"
   ]
  },
  {
   "cell_type": "code",
   "execution_count": null,
   "id": "b4b7a04b",
   "metadata": {
    "colab": {
     "background_save": true,
     "base_uri": "https://localhost:8080/"
    },
    "id": "b4b7a04b",
    "outputId": "a57e7239-c5ae-49a7-fc3f-e825276fb329"
   },
   "outputs": [],
   "source": [
    "best_CNN_1, acc = train_model(CNN_1, num_epochs_CNN_1, optimizer_CNN_1, criterion_CNN_1)\n",
    "\n",
    "print(f\"Saving best CNN_1 with accuracy {round(acc,4)}\")\n",
    "torch.save(best_CNN_1.state_dict(), \"models/CNN1/\"+str(round(acc, 4))+\".pth\")"
   ]
  },
  {
   "cell_type": "markdown",
   "id": "1b54ad31",
   "metadata": {
    "id": "1b54ad31"
   },
   "source": [
    "## CNN_2"
   ]
  },
  {
   "cell_type": "markdown",
   "id": "31d14683",
   "metadata": {},
   "source": [
    "Creació del model:"
   ]
  },
  {
   "cell_type": "code",
   "execution_count": null,
   "id": "065a7efa",
   "metadata": {
    "colab": {
     "background_save": true
    },
    "id": "065a7efa"
   },
   "outputs": [],
   "source": [
    "class net_CNN_2(nn.Module):\n",
    "    def __init__(self, channels, feature_size):\n",
    "        super().__init__()\n",
    "        self.main = nn.Sequential(\n",
    "            self.block(channels, feature_size, 5, 3, 0), #300x300 -> 100x100\n",
    "            self.block(feature_size, feature_size*2, 3, 2, 1), #100x100 -> 50x50\n",
    "            self.block(feature_size*2, feature_size*4, 5, 3, 1), # 50x50 -> 16x16\n",
    "            self.block(feature_size*4, feature_size*8, 5, 3, 1), # 16x16 -> 5x5\n",
    "            self.block(feature_size*8, feature_size*4, 3, 2, 1), # 5x5 -> 3x3\n",
    "            self.block(feature_size*4, feature_size*2, 3, 2, 1), # 3x3 -> 2x2\n",
    "            nn.Flatten(),\n",
    "\n",
    "            nn.Linear(feature_size*2*2*2, feature_size*2*2), # 16 -> 8\n",
    "            nn.ReLU(),\n",
    "\n",
    "            nn.Dropout(0.5),\n",
    "\n",
    "            nn.Linear(feature_size*2*2, feature_size*2), # 8 -> 4 \n",
    "            nn.ReLU(),\n",
    "\n",
    "            nn.Dropout(0.25),\n",
    "            \n",
    "            nn.Linear(feature_size*2, 1)\n",
    "        )\n",
    "    \n",
    "    def forward(self, x):\n",
    "        return self.main(x).squeeze()\n",
    "\n",
    "    def block(self, in_channels, out_channels, kernel_size, stride, padding):\n",
    "        return nn.Sequential(\n",
    "            nn.Conv2d(in_channels, out_channels, kernel_size, stride, padding, bias=False),\n",
    "            nn.BatchNorm2d(out_channels),\n",
    "            nn.ReLU()\n",
    "        )"
   ]
  },
  {
   "cell_type": "markdown",
   "id": "00df48ff",
   "metadata": {},
   "source": [
    "Hiperparàmetres del model:"
   ]
  },
  {
   "cell_type": "code",
   "execution_count": null,
   "id": "6365ccf8",
   "metadata": {
    "colab": {
     "background_save": true
    },
    "id": "6365ccf8",
    "outputId": "291aaa80-bbc5-4212-f7ac-78febd961496"
   },
   "outputs": [],
   "source": [
    "lr_CNN_2 = 0.003\n",
    "feature_size_CNN_2 = 2\n",
    "num_epochs_CNN_2 = 75\n",
    "\n",
    "CNN_2 = net_CNN_2(channels, feature_size_CNN_2).to(device)\n",
    "CNN_2.apply(weights_init)\n",
    "\n",
    "criterion_CNN_2 = nn.BCEWithLogitsLoss().to(device)\n",
    "optimizer_CNN_2 = torch.optim.SGD(CNN_2.parameters(), lr=lr_CNN_2, momentum = 0.9, nesterov = True)\n",
    "\n",
    "summary(CNN_2, (3, 300, 300))"
   ]
  },
  {
   "cell_type": "markdown",
   "id": "bfbd0fcd",
   "metadata": {},
   "source": [
    "Entrenament del model:"
   ]
  },
  {
   "cell_type": "code",
   "execution_count": null,
   "id": "b0df0bbc",
   "metadata": {
    "colab": {
     "background_save": true
    },
    "id": "b0df0bbc",
    "outputId": "5d907b08-43fe-4d1d-b208-63420013c6f0"
   },
   "outputs": [],
   "source": [
    "best_CNN_2, acc = train_model(CNN_2, num_epochs_CNN_2, optimizer_CNN_2, criterion_CNN_2)\n",
    "\n",
    "print(f\"Saving best CNN2 with accuracy {round(acc,4)}\")\n",
    "torch.save(best_CNN_2.state_dict(), \"models/CNN2/\"+str(round(acc, 4))+\".pth\")"
   ]
  },
  {
   "cell_type": "markdown",
   "id": "283d2d30",
   "metadata": {
    "id": "283d2d30"
   },
   "source": [
    "## FCNN"
   ]
  },
  {
   "cell_type": "markdown",
   "id": "31d14683",
   "metadata": {},
   "source": [
    "Creació del model:"
   ]
  },
  {
   "cell_type": "code",
   "execution_count": null,
   "id": "a33079dc",
   "metadata": {
    "colab": {
     "background_save": true
    },
    "id": "a33079dc"
   },
   "outputs": [],
   "source": [
    "class net_FCN(nn.Module):\n",
    "    def __init__(self, channels, feature_size):\n",
    "        super().__init__()\n",
    "        self.main = nn.Sequential(\n",
    "            self.block(channels, feature_size, 5, 3, 0), # 300x300 --> 99x99\n",
    "            self.block(feature_size, feature_size*2, 5, 3, 0), # 99x99 --> 32x32\n",
    "            self.block(feature_size*2, feature_size*4, 5, 3, 0), # 32x32 --> 10x10\n",
    "            self.block(feature_size*4, feature_size*2, 3, 2, 1), # 10x10 --> 5x5\n",
    "            self.block(feature_size*2, feature_size, 3, 2, 1), # 5x5 --> 3x3\n",
    "            nn.Conv2d(feature_size, 1, 3, 2, 0) # 3x3 -> 1x1\n",
    "        )\n",
    "    \n",
    "    def forward(self, x):\n",
    "        return self.main(x).squeeze()\n",
    "\n",
    "    def block(self, in_channels, out_channels, kernel_size, stride, padding):\n",
    "        return nn.Sequential(\n",
    "            nn.Conv2d(in_channels, out_channels, kernel_size, stride, padding, bias=False),\n",
    "            nn.BatchNorm2d(out_channels),\n",
    "            nn.ReLU()\n",
    "        )"
   ]
  },
  {
   "cell_type": "markdown",
   "id": "00df48ff",
   "metadata": {},
   "source": [
    "Hiperparàmetres del model:"
   ]
  },
  {
   "cell_type": "code",
   "execution_count": null,
   "id": "1fef844c",
   "metadata": {
    "colab": {
     "background_save": true
    },
    "id": "1fef844c",
    "outputId": "7232cd09-f8e0-442c-c4ce-8f7f70db112e"
   },
   "outputs": [],
   "source": [
    "lr_FCN = 0.0005\n",
    "feature_size_FCN = 2\n",
    "num_epochs_FCN = 75\n",
    "\n",
    "FCN = net_FCN(channels, feature_size_FCN).to(device)\n",
    "FCN.apply(weights_init)\n",
    "\n",
    "criterion_FCN = nn.BCEWithLogitsLoss().to(device)\n",
    "optimizer_FCN = torch.optim.SGD(FCN.parameters(), lr=lr_FCN, momentum=0.9, nesterov = True)\n",
    "\n",
    "summary(FCN, (3, 300, 300))"
   ]
  },
  {
   "cell_type": "markdown",
   "id": "bfbd0fcd",
   "metadata": {},
   "source": [
    "Entrenament del model:"
   ]
  },
  {
   "cell_type": "code",
   "execution_count": null,
   "id": "576feeb1",
   "metadata": {
    "id": "576feeb1"
   },
   "outputs": [],
   "source": [
    "best_FCN, acc = train_model(FCN, num_epochs_FCN, optimizer_FCN, criterion_FCN)\n",
    "\n",
    "print(f\"Saving best FCN with accuracy {round(acc,4)}\")\n",
    "torch.save(best_FCN.state_dict(), \"models/FCN/\"+str(round(acc, 4))+\".pth\")"
   ]
  },
  {
   "cell_type": "markdown",
   "id": "5d6b61fb",
   "metadata": {
    "id": "5d6b61fb"
   },
   "source": [
    "## Ensemble"
   ]
  },
  {
   "cell_type": "markdown",
   "id": "31d14683",
   "metadata": {},
   "source": [
    "Creació del model:"
   ]
  },
  {
   "cell_type": "code",
   "execution_count": null,
   "id": "5d4b0e9f",
   "metadata": {
    "id": "5d4b0e9f"
   },
   "outputs": [],
   "source": [
    "class net_Ensemble(torch.nn.Module):\n",
    "    def __init__(self, cnn1, cnn2, fcn):\n",
    "        super().__init__()\n",
    "\n",
    "        self.cnn1 = cnn1\n",
    "        self.cnn2 = cnn2\n",
    "        self.fcn1 = fcn\n",
    "       \n",
    "        self.fc = nn.Linear(3, 1)\n",
    "\n",
    "        self.sig = nn.Sigmoid()\n",
    "        \n",
    "        # freeze the weights of the pre-trained models\n",
    "        for param in self.cnn1.parameters():\n",
    "            param.requires_grad = False\n",
    "        for param in self.cnn2.parameters():\n",
    "            param.requires_grad = False\n",
    "        for param in self.fcn1.parameters():\n",
    "            param.requires_grad = False\n",
    "\n",
    "    def forward(self, data):\n",
    "\n",
    "        X_1 = self.sig(self.cnn1(data))\n",
    "        X_2 = self.sig(self.cnn2(data))\n",
    "        X_3 = self.sig(self.fcn1(data))\n",
    "        \n",
    "        X = torch.stack([X_1, X_2, X_3], dim=1)\n",
    "        X = self.fc(F.relu(X))\n",
    "\n",
    "        return X.squeeze()"
   ]
  },
  {
   "cell_type": "markdown",
   "id": "00df48ff",
   "metadata": {},
   "source": [
    "Hiperparàmetres del model:"
   ]
  },
  {
   "cell_type": "code",
   "execution_count": null,
   "id": "5f69bdce",
   "metadata": {
    "id": "5f69bdce"
   },
   "outputs": [],
   "source": [
    "lr_Ensemble = 0.002\n",
    "num_epochs_Ensemble = 15\n",
    "\n",
    "# Carregam els millors pesos de cada model\n",
    "channels = 3\n",
    "feature_size = 2\n",
    "\n",
    "model1 = net_CNN_1(channels, feature_size).to(device)\n",
    "model1.load_state_dict(torch.load(\"models/CNN1/0.9437.pth\"))\n",
    "\n",
    "model2 = net_CNN_2(channels, feature_size).to(device)\n",
    "model2.load_state_dict(torch.load(\"models/CNN2/0.9307.pth\"))\n",
    "\n",
    "model3 = net_FCN(channels, feature_size).to(device)\n",
    "model3.load_state_dict(torch.load(\"models/FCN/0.9048.pth\"))\n",
    "\n",
    "# Cream l'ensemble\n",
    "ensemble = net_Ensemble(model1, model2, model3).to(device)\n",
    "\n",
    "criterion_Ensemble = nn.BCEWithLogitsLoss().to(device)\n",
    "optimizer_Ensemble = torch.optim.SGD(ensemble.parameters(), lr=lr_Ensemble, momentum=0.9, nesterov=True)\n",
    "\n",
    "pytorch_total_params_Ensemble = sum(p.numel() for p in ensemble.parameters())\n",
    "pytorch_learn_params_Ensemble = sum(p.numel() for p in ensemble.parameters() if p.requires_grad)\n",
    "print(\"Total number of parameters ensemble: \", pytorch_total_params_Ensemble)\n",
    "print(\"Number of learnable parameters ensemble: \", pytorch_learn_params_Ensemble)\n",
    "\n",
    "summary(ensemble, (3, 300, 300))"
   ]
  },
  {
   "cell_type": "markdown",
   "id": "bfbd0fcd",
   "metadata": {},
   "source": [
    "Entrenament del model:"
   ]
  },
  {
   "cell_type": "code",
   "execution_count": null,
   "id": "80f6c569",
   "metadata": {
    "id": "80f6c569"
   },
   "outputs": [],
   "source": [
    "best_ensemble, acc = train_model(ensemble, num_epochs_Ensemble, optimizer_Ensemble, criterion_Ensemble)\n",
    "\n",
    "print(f\"Saving best ENSEMBLE with accuracy {round(acc,4)}\")\n",
    "torch.save(best_ensemble.state_dict(), \"models/ENSEMBLE/\"+str(round(acc, 4))+\"_2.pth\")"
   ]
  },
  {
   "cell_type": "markdown",
   "id": "7c1fc566",
   "metadata": {},
   "source": [
    "Imprimim els pesos de la capa fully connected de la xarxa Ensemble"
   ]
  },
  {
   "cell_type": "code",
   "execution_count": null,
   "id": "8491adda",
   "metadata": {
    "id": "8491adda"
   },
   "outputs": [],
   "source": [
    "model4 = net_Ensemble(model1, model2, model3).to(device)\n",
    "model4.load_state_dict(torch.load(\"models/ENSEMBLE/0.9567.pth\"))\n",
    "\n",
    "weights = model4.fc.weight.data.cpu().numpy()\n",
    "biases = model4.fc.bias.data.cpu().numpy()\n",
    "print(weights, biases)"
   ]
  },
  {
   "cell_type": "markdown",
   "id": "61bc8c9c",
   "metadata": {},
   "source": [
    "# Dades reals"
   ]
  },
  {
   "cell_type": "markdown",
   "id": "4217da7f",
   "metadata": {},
   "source": [
    "Creació del Dataset i del DataLoader:"
   ]
  },
  {
   "cell_type": "code",
   "execution_count": null,
   "id": "96b1fb5c",
   "metadata": {
    "id": "96b1fb5c"
   },
   "outputs": [],
   "source": [
    "real_human = CustomDataset(path = \"real/human/\", transform=transform)\n",
    "real_horse = CustomDataset(path = \"real/horse/\", transform=transform)\n",
    "\n",
    "loader_human = DataLoader(real_human, batch_size=64)\n",
    "loader_horse = DataLoader(real_horse, batch_size=64)"
   ]
  },
  {
   "cell_type": "code",
   "execution_count": null,
   "id": "e2235be4",
   "metadata": {
    "id": "e2235be4"
   },
   "outputs": [],
   "source": [
    "acc1 = acc2 = acc3 = acc4 = 0\n",
    "g_acc1 = g_acc2 = g_acc3 = g_acc4 = 0\n",
    "\n",
    "# Test on real human images\n",
    "for i, (data, labels) in enumerate(loader_human):\n",
    "    data, labels = data.to(device), labels.to(device)\n",
    "    \n",
    "    output1 = model1(data)\n",
    "    output2 = model2(data)\n",
    "    output3 = model3(data)\n",
    "    output4 = model4(data)\n",
    "\n",
    "    acc1 += get_accuracy(labels, output1)\n",
    "    acc2 += get_accuracy(labels, output2)\n",
    "    acc3 += get_accuracy(labels, output3)\n",
    "    acc4 += get_accuracy(labels, output4)\n",
    "\n",
    "g_acc1 = acc1\n",
    "g_acc2 = acc2\n",
    "g_acc3 = acc3\n",
    "g_acc4 = acc4\n",
    "\n",
    "acc1 = round(acc1 / len(real_human), 4)\n",
    "acc2 = round(acc2 / len(real_human), 4)\n",
    "acc3 = round(acc3 / len(real_human), 4)\n",
    "acc4 = round(acc4 / len(real_human), 4)\n",
    "\n",
    "print(\"Accuracy for real humans:\")\n",
    "print(f\"\\tCNN1 {acc1}, CNN2 {acc2}, FCNN {acc3}, Ensemble {acc4}\")\n",
    "\n",
    "# Test on real horse images\n",
    "acc1 = acc2 = acc3 = acc4 = 0\n",
    "for i, (data, labels) in enumerate(loader_horse):\n",
    "    data, labels = data.to(device), labels.to(device)\n",
    "\n",
    "    output1 = model1(data)\n",
    "    output2 = model2(data)\n",
    "    output3 = model3(data)\n",
    "    output4 = model4(data)\n",
    "\n",
    "    acc1 += get_accuracy(labels, output1)\n",
    "    acc2 += get_accuracy(labels, output2)\n",
    "    acc3 += get_accuracy(labels, output3)\n",
    "    acc4 += get_accuracy(labels, output4)\n",
    "\n",
    "g_acc1 += acc1\n",
    "g_acc2 += acc2\n",
    "g_acc3 += acc3\n",
    "g_acc4 += acc4\n",
    "\n",
    "acc1 = round(acc1 / len(real_horse), 4)\n",
    "acc2 = round(acc2 / len(real_horse), 4)\n",
    "acc3 = round(acc3 / len(real_horse), 4)\n",
    "acc4 = round(acc4 / len(real_horse), 4)\n",
    "\n",
    "g_acc1 = round(g_acc1 / (len(real_human) + len(real_horse)), 4)\n",
    "g_acc2 = round(g_acc2 / (len(real_human) + len(real_horse)), 4)\n",
    "g_acc3 = round(g_acc3 / (len(real_human) + len(real_horse)), 4)\n",
    "g_acc4 = round(g_acc4 / (len(real_human) + len(real_horse)), 4)\n",
    "\n",
    "print(\"Accuracy for real horses:\")\n",
    "print(f\"\\tCNN1 {acc1}, CNN2 {acc2}, FCNN {acc3}, Ensemble {acc4}\")\n",
    "\n",
    "print(\"Global:\")\n",
    "print(f\"\\tCNN1 {g_acc1}, CNN2 {g_acc2}, FCNN {g_acc3}, Ensemble {g_acc4}\")"
   ]
  }
 ],
 "metadata": {
  "accelerator": "GPU",
  "colab": {
   "provenance": []
  },
  "gpuClass": "standard",
  "kernelspec": {
   "display_name": "ml",
   "language": "python",
   "name": "python3"
  },
  "language_info": {
   "codemirror_mode": {
    "name": "ipython",
    "version": 3
   },
   "file_extension": ".py",
   "mimetype": "text/x-python",
   "name": "python",
   "nbconvert_exporter": "python",
   "pygments_lexer": "ipython3",
   "version": "3.9.15 (main, Nov 24 2022, 14:39:17) [MSC v.1916 64 bit (AMD64)]"
  },
  "vscode": {
   "interpreter": {
    "hash": "02fa8fd54c95af2be9661fa379357b4da443ac0bd23893c8dcfed0cde6713a10"
   }
  }
 },
 "nbformat": 4,
 "nbformat_minor": 5
}
