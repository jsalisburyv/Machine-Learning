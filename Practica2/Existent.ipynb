{
 "cells": [
  {
   "cell_type": "code",
   "execution_count": 15,
   "metadata": {},
   "outputs": [
    {
     "name": "stdout",
     "output_type": "stream",
     "text": [
      "PyTorch Version:  1.13.1\n",
      "Torchvision Version:  0.14.1\n"
     ]
    }
   ],
   "source": [
    "from __future__ import print_function\n",
    "from __future__ import division\n",
    "import torch\n",
    "import torch.nn as nn\n",
    "import torch.optim as optim\n",
    "import numpy as np\n",
    "import torchvision\n",
    "from torchvision import datasets, models, transforms\n",
    "import matplotlib.pyplot as plt\n",
    "import time\n",
    "import os\n",
    "import copy\n",
    "\n",
    "print(\"PyTorch Version: \",torch.__version__)\n",
    "print(\"Torchvision Version: \",torchvision.__version__)"
   ]
  },
  {
   "cell_type": "markdown",
   "metadata": {},
   "source": [
    "# Utilitzant un Model Existent"
   ]
  },
  {
   "cell_type": "markdown",
   "metadata": {},
   "source": [
    "Se ha decidit utilitzar el model Resnet50 després de mirar la comparació de models de classificació d'imatges al següent [enllaç](https://learnopencv.com/pytorch-for-beginners-image-classification-using-pre-trained-models/)."
   ]
  },
  {
   "cell_type": "markdown",
   "metadata": {},
   "source": [
    "A continuació carregam les imatges del dataset per poder utilitzarles."
   ]
  },
  {
   "cell_type": "markdown",
   "metadata": {},
   "source": [
    "## Càrrega de Dades"
   ]
  },
  {
   "cell_type": "markdown",
   "metadata": {},
   "source": [
    "Càlcul de la mitjana i desviació típica per a poder transformar les dades."
   ]
  },
  {
   "cell_type": "code",
   "execution_count": 16,
   "metadata": {},
   "outputs": [],
   "source": [
    "data_dir = './data/'\n",
    "model_dir = './models/existent/'\n",
    "input_size = 224 # Tamany d'imatge que utiliza Resnet\n",
    "batch_size = 32"
   ]
  },
  {
   "cell_type": "code",
   "execution_count": 17,
   "metadata": {},
   "outputs": [],
   "source": [
    "# transform = transforms.Compose([\n",
    "#         transforms.Resize(256),\n",
    "#         transforms.CenterCrop(input_size),\n",
    "#         transforms.ToTensor()\n",
    "#     ])\n",
    "\n",
    "# # dataset = datasets.ImageNet(\".\", split=\"train\", transform=transform)\n",
    "# dataset = datasets.ImageFolder(os.path.join(data_dir, 'train'), transform=transform)\n",
    "\n",
    "# means = []\n",
    "# stds = []\n",
    "# for img, label in dataset:\n",
    "#     means.append(torch.mean(img))\n",
    "#     stds.append(torch.std(img))\n",
    "\n",
    "# mean = torch.mean(torch.tensor(means))\n",
    "# std = torch.mean(torch.tensor(stds))\n",
    "# print(f'{mean=}, {std=}')"
   ]
  },
  {
   "cell_type": "code",
   "execution_count": 18,
   "metadata": {},
   "outputs": [
    {
     "name": "stdout",
     "output_type": "stream",
     "text": [
      "Initializing Datasets and Dataloaders...\n"
     ]
    }
   ],
   "source": [
    "\n",
    "# Data augmentation and normalization for training\n",
    "# Just normalization for validation\n",
    "data_transforms = {\n",
    "    'train': transforms.Compose([\n",
    "        transforms.RandomResizedCrop(input_size),\n",
    "        transforms.RandomHorizontalFlip(),\n",
    "        transforms.ToTensor(),\n",
    "        transforms.Normalize((0.5098), (0.2212)) # mitjana, desviacio tipica\n",
    "    ]),\n",
    "    'val': transforms.Compose([\n",
    "        transforms.Resize(input_size),\n",
    "        transforms.CenterCrop(input_size),\n",
    "        transforms.ToTensor(),\n",
    "        transforms.Normalize((0.5098), (0.2212)) # mitjana, desviacio tipica\n",
    "    ]),\n",
    "}\n",
    "\n",
    "print(\"Initializing Datasets and Dataloaders...\")\n",
    "\n",
    "# Create training and validation datasets\n",
    "image_datasets = {x: datasets.ImageFolder(os.path.join(data_dir, x), data_transforms[x]) for x in ['train', 'val']}\n",
    "# Create training and validation dataloaders\n",
    "dataloaders_dict = {x: torch.utils.data.DataLoader(image_datasets[x], batch_size=batch_size, shuffle=True, num_workers=4) for x in ['train', 'val']}\n",
    "\n",
    "# Detect if we have a GPU available\n",
    "device = torch.device(\"cuda:0\" if torch.cuda.is_available() else \"cpu\")"
   ]
  },
  {
   "cell_type": "markdown",
   "metadata": {},
   "source": [
    "## Funcions Auxiliars"
   ]
  },
  {
   "cell_type": "code",
   "execution_count": 19,
   "metadata": {},
   "outputs": [],
   "source": [
    "def init_model(num_classes, feature_extract, weights=None):\n",
    "    model = models.resnet18(weights=weights)\n",
    "    if feature_extract:\n",
    "        for param in model.parameters():\n",
    "            param.requires_grad = False\n",
    "    num_features = model.fc.in_features\n",
    "    model.fc = nn.Linear(num_features, num_classes)\n",
    "    return model"
   ]
  },
  {
   "cell_type": "code",
   "execution_count": 20,
   "metadata": {},
   "outputs": [],
   "source": [
    "\n",
    "def train_model(model, dataloaders, criterion, optimizer, num_epochs=25, filename=None):\n",
    "    since = time.time()\n",
    "    tra_acc_history = []\n",
    "    val_acc_history = []\n",
    "    best_model_wts = copy.deepcopy(model.state_dict())\n",
    "    best_acc = 0.0\n",
    "\n",
    "    for epoch in range(num_epochs):\n",
    "        print('Epoch {}/{}'.format(epoch, num_epochs - 1))\n",
    "        print('-' * 10)\n",
    "        # Each epoch has a training and validation phase\n",
    "        for phase in ['train', 'val']:\n",
    "            if phase == 'train':\n",
    "                model.train()  # Set model to training mode\n",
    "            else:\n",
    "                model.eval()   # Set model to evaluate mode\n",
    "            running_loss = 0.0\n",
    "            running_corrects = 0\n",
    "            # Iterate over data.\n",
    "            for inputs, labels in dataloaders[phase]:\n",
    "                inputs = inputs.to(device)\n",
    "                labels = labels.to(device)\n",
    "\n",
    "                # zero the parameter gradients\n",
    "                optimizer.zero_grad()\n",
    "\n",
    "                # forward\n",
    "                # track history if only in train\n",
    "                with torch.set_grad_enabled(phase == 'train'):\n",
    "                    # Get model outputs and calculate loss\n",
    "                    # Special case for inception because in training it has an auxiliary output. In train\n",
    "                    #   mode we calculate the loss by summing the final output and the auxiliary output\n",
    "                    #   but in testing we only consider the final output.\n",
    "                    outputs = model(inputs)\n",
    "                    loss = criterion(outputs, labels)\n",
    "\n",
    "                    _, preds = torch.max(outputs, 1)\n",
    "\n",
    "                    # backward + optimize only if in training phase\n",
    "                    if phase == 'train':\n",
    "                        loss.backward()\n",
    "                        optimizer.step()\n",
    "\n",
    "                # statistics\n",
    "                running_loss += loss.item() * inputs.size(0)\n",
    "                running_corrects += torch.sum(preds == labels.data)\n",
    "\n",
    "            epoch_loss = running_loss / len(dataloaders[phase].dataset)\n",
    "            epoch_acc = running_corrects.double() / len(dataloaders[phase].dataset)\n",
    "\n",
    "            print('{} Loss: {:.4f} Acc: {:.4f}'.format(phase, epoch_loss, epoch_acc))\n",
    "\n",
    "            # deep copy the model\n",
    "            if phase == 'val' and epoch_acc > best_acc:\n",
    "                best_acc = epoch_acc\n",
    "                best_model_wts = copy.deepcopy(model.state_dict())\n",
    "            \n",
    "            # append accuracies\n",
    "            if phase == 'train':\n",
    "                tra_acc_history.append(epoch_acc)\n",
    "            if phase == 'val':\n",
    "                val_acc_history.append(epoch_acc)\n",
    "\n",
    "        print()\n",
    "\n",
    "    time_elapsed = time.time() - since\n",
    "    print('Training complete in {:.0f}m {:.0f}s'.format(time_elapsed // 60, time_elapsed % 60))\n",
    "    print('Best val Acc: {:4f}'.format(best_acc))\n",
    "\n",
    "    # load best model weights\n",
    "    model.load_state_dict(best_model_wts)\n",
    "    if filename != None:\n",
    "        torch.save(model.state_dict(), os.path.join(model_dir, filename))\n",
    "    return model, tra_acc_history, val_acc_history"
   ]
  },
  {
   "cell_type": "markdown",
   "metadata": {},
   "source": [
    "## Model Preentrenat"
   ]
  },
  {
   "cell_type": "markdown",
   "metadata": {},
   "source": [
    "En aquest apartat provam l'arquitectura del model Resnet50 utilitzant els pesos preentrenats amb el dataset ImageNet.\n",
    "\n",
    "Només modificam els valors de la darrera capa per a que faci una classificació binaria ja que només tenim 2 labels."
   ]
  },
  {
   "cell_type": "markdown",
   "metadata": {},
   "source": [
    "### Define Model"
   ]
  },
  {
   "cell_type": "code",
   "execution_count": 21,
   "metadata": {},
   "outputs": [],
   "source": [
    "model = init_model(num_classes=2, feature_extract=True, weights=models.ResNet18_Weights.DEFAULT)\n",
    "model = model.to(device)"
   ]
  },
  {
   "cell_type": "code",
   "execution_count": 22,
   "metadata": {},
   "outputs": [
    {
     "name": "stdout",
     "output_type": "stream",
     "text": [
      "Params to be trained: 1026\n"
     ]
    }
   ],
   "source": [
    "model_parameters = list(filter(lambda p: p.requires_grad, model.parameters()))\n",
    "params = sum([np.prod(p.size()) for p in model_parameters])\n",
    "print(f'Params to be trained: {params}')"
   ]
  },
  {
   "cell_type": "markdown",
   "metadata": {},
   "source": [
    "### Train Model"
   ]
  },
  {
   "cell_type": "code",
   "execution_count": 23,
   "metadata": {},
   "outputs": [
    {
     "name": "stdout",
     "output_type": "stream",
     "text": [
      "Epoch 0/14\n",
      "----------\n",
      "train Loss: 0.3480 Acc: 0.8832\n",
      "val Loss: 0.1796 Acc: 0.9492\n",
      "\n",
      "Epoch 1/14\n",
      "----------\n",
      "train Loss: 0.1112 Acc: 0.9776\n",
      "val Loss: 0.1590 Acc: 0.9453\n",
      "\n",
      "Epoch 2/14\n",
      "----------\n",
      "train Loss: 0.0900 Acc: 0.9825\n",
      "val Loss: 0.1345 Acc: 0.9570\n",
      "\n",
      "Epoch 3/14\n",
      "----------\n",
      "train Loss: 0.0778 Acc: 0.9815\n",
      "val Loss: 0.1132 Acc: 0.9648\n",
      "\n",
      "Epoch 4/14\n",
      "----------\n",
      "train Loss: 0.0742 Acc: 0.9796\n",
      "val Loss: 0.1374 Acc: 0.9570\n",
      "\n",
      "Epoch 5/14\n",
      "----------\n",
      "train Loss: 0.0654 Acc: 0.9844\n",
      "val Loss: 0.1136 Acc: 0.9609\n",
      "\n",
      "Epoch 6/14\n",
      "----------\n",
      "train Loss: 0.0666 Acc: 0.9786\n",
      "val Loss: 0.0854 Acc: 0.9727\n",
      "\n",
      "Epoch 7/14\n",
      "----------\n",
      "train Loss: 0.0570 Acc: 0.9796\n",
      "val Loss: 0.0782 Acc: 0.9766\n",
      "\n",
      "Epoch 8/14\n",
      "----------\n",
      "train Loss: 0.0681 Acc: 0.9786\n",
      "val Loss: 0.1368 Acc: 0.9531\n",
      "\n",
      "Epoch 9/14\n",
      "----------\n",
      "train Loss: 0.0753 Acc: 0.9757\n",
      "val Loss: 0.1411 Acc: 0.9531\n",
      "\n",
      "Epoch 10/14\n",
      "----------\n",
      "train Loss: 0.0568 Acc: 0.9844\n",
      "val Loss: 0.0602 Acc: 0.9766\n",
      "\n",
      "Epoch 11/14\n",
      "----------\n",
      "train Loss: 0.0640 Acc: 0.9786\n",
      "val Loss: 0.0710 Acc: 0.9727\n",
      "\n",
      "Epoch 12/14\n",
      "----------\n",
      "train Loss: 0.0457 Acc: 0.9864\n",
      "val Loss: 0.1095 Acc: 0.9688\n",
      "\n",
      "Epoch 13/14\n",
      "----------\n",
      "train Loss: 0.0770 Acc: 0.9737\n",
      "val Loss: 0.1694 Acc: 0.9336\n",
      "\n",
      "Epoch 14/14\n",
      "----------\n",
      "train Loss: 0.0559 Acc: 0.9786\n",
      "val Loss: 0.0840 Acc: 0.9688\n",
      "\n",
      "Training complete in 1m 44s\n",
      "Best val Acc: 0.976562\n"
     ]
    }
   ],
   "source": [
    "num_epochs = 15\n",
    "\n",
    "# Observe that all parameters are being optimized\n",
    "optimizer = optim.SGD(model_parameters, lr=0.001, momentum=0.9)\n",
    "\n",
    "# Setup the loss fxn\n",
    "criterion = nn.CrossEntropyLoss()\n",
    "\n",
    "# Train and evaluate\n",
    "model, pt_tra_acc, pt_val_acc = train_model(model, dataloaders_dict, criterion, optimizer, num_epochs, 'resnet18_pretrained.pth')"
   ]
  },
  {
   "cell_type": "code",
   "execution_count": 24,
   "metadata": {},
   "outputs": [
    {
     "data": {
      "image/png": "[encoded data removed]",
      "text/plain": [
       "<Figure size 640x480 with 1 Axes>"
      ]
     },
     "metadata": {},
     "output_type": "display_data"
    }
   ],
   "source": [
    "train = [h.cpu().numpy() for h in pt_tra_acc]\n",
    "val = [h.cpu().numpy() for h in pt_val_acc]\n",
    "\n",
    "plt.title(\"Accuracy vs. Number of Training Epochs\")\n",
    "plt.xlabel(\"Training Epochs\")\n",
    "plt.ylabel(\"Accuracy\")\n",
    "plt.plot(range(1,num_epochs+1),train,label=\"Train\")\n",
    "plt.plot(range(1,num_epochs+1),val,label=\"Validation\")\n",
    "plt.ylim((0,1.))\n",
    "plt.xticks(np.arange(1, num_epochs+1, 1.0))\n",
    "plt.legend()\n",
    "plt.show()"
   ]
  },
  {
   "cell_type": "markdown",
   "metadata": {},
   "source": [
    "## Model Reentrenat"
   ]
  },
  {
   "cell_type": "code",
   "execution_count": 25,
   "metadata": {},
   "outputs": [],
   "source": [
    "model = init_model(num_classes=2, feature_extract=False, weights=None)\n",
    "model = model.to(device)"
   ]
  },
  {
   "cell_type": "code",
   "execution_count": 26,
   "metadata": {},
   "outputs": [
    {
     "name": "stdout",
     "output_type": "stream",
     "text": [
      "Params to be trained: 11177538\n"
     ]
    }
   ],
   "source": [
    "model_parameters = filter(lambda p: p.requires_grad, model.parameters())\n",
    "params = sum([np.prod(p.size()) for p in model_parameters])\n",
    "print(f'Params to be trained: {params}')"
   ]
  },
  {
   "cell_type": "code",
   "execution_count": 27,
   "metadata": {},
   "outputs": [
    {
     "name": "stdout",
     "output_type": "stream",
     "text": [
      "Epoch 0/14\n",
      "----------\n",
      "train Loss: 0.6577 Acc: 0.5988\n",
      "val Loss: 1.0840 Acc: 0.5000\n",
      "\n",
      "Epoch 1/14\n",
      "----------\n",
      "train Loss: 0.5131 Acc: 0.7390\n",
      "val Loss: 4.0542 Acc: 0.5000\n",
      "\n",
      "Epoch 2/14\n",
      "----------\n",
      "train Loss: 0.4243 Acc: 0.8140\n",
      "val Loss: 0.9035 Acc: 0.6523\n",
      "\n",
      "Epoch 3/14\n",
      "----------\n",
      "train Loss: 0.3267 Acc: 0.8676\n",
      "val Loss: 4.6595 Acc: 0.5000\n",
      "\n",
      "Epoch 4/14\n",
      "----------\n",
      "train Loss: 0.3036 Acc: 0.8685\n",
      "val Loss: 0.8213 Acc: 0.6328\n",
      "\n",
      "Epoch 5/14\n",
      "----------\n",
      "train Loss: 0.3488 Acc: 0.8588\n",
      "val Loss: 1.0367 Acc: 0.6484\n",
      "\n",
      "Epoch 6/14\n",
      "----------\n",
      "train Loss: 0.2375 Acc: 0.9094\n",
      "val Loss: 0.8452 Acc: 0.6641\n",
      "\n",
      "Epoch 7/14\n",
      "----------\n",
      "train Loss: 0.2013 Acc: 0.9309\n",
      "val Loss: 0.9270 Acc: 0.6562\n",
      "\n",
      "Epoch 8/14\n",
      "----------\n",
      "train Loss: 0.2439 Acc: 0.9065\n",
      "val Loss: 1.2511 Acc: 0.5820\n",
      "\n",
      "Epoch 9/14\n",
      "----------\n",
      "train Loss: 0.1930 Acc: 0.9328\n",
      "val Loss: 1.3013 Acc: 0.6289\n",
      "\n",
      "Epoch 10/14\n",
      "----------\n",
      "train Loss: 0.1941 Acc: 0.9192\n",
      "val Loss: 2.6576 Acc: 0.5156\n",
      "\n",
      "Epoch 11/14\n",
      "----------\n",
      "train Loss: 0.2492 Acc: 0.8909\n",
      "val Loss: 1.2475 Acc: 0.5078\n",
      "\n",
      "Epoch 12/14\n",
      "----------\n",
      "train Loss: 0.1744 Acc: 0.9406\n",
      "val Loss: 1.9692 Acc: 0.5000\n",
      "\n",
      "Epoch 13/14\n",
      "----------\n",
      "train Loss: 0.1514 Acc: 0.9445\n",
      "val Loss: 0.4839 Acc: 0.8047\n",
      "\n",
      "Epoch 14/14\n",
      "----------\n",
      "train Loss: 0.1530 Acc: 0.9435\n",
      "val Loss: 0.4616 Acc: 0.7773\n",
      "\n",
      "Training complete in 4m 15s\n",
      "Best val Acc: 0.804688\n"
     ]
    }
   ],
   "source": [
    "num_epochs = 15\n",
    "\n",
    "# Observe that all parameters are being optimized\n",
    "optimizer = optim.SGD(model.parameters(), lr=0.001, momentum=0.9)\n",
    "\n",
    "# Setup the loss fxn\n",
    "criterion = nn.CrossEntropyLoss()\n",
    "\n",
    "# Train and evaluate\n",
    "model, t_tra_acc, t_val_acc = train_model(model, dataloaders_dict, criterion, optimizer, num_epochs=num_epochs, filename='resnet18_retrained.pth')"
   ]
  },
  {
   "cell_type": "code",
   "execution_count": 28,
   "metadata": {},
   "outputs": [
    {
     "data": {
      "image/png": "[encoded data removed]",
      "text/plain": [
       "<Figure size 640x480 with 1 Axes>"
      ]
     },
     "metadata": {},
     "output_type": "display_data"
    }
   ],
   "source": [
    "train = [h.cpu().numpy() for h in t_tra_acc]\n",
    "val = [h.cpu().numpy() for h in t_val_acc]\n",
    "\n",
    "plt.title(\"Accuracy vs. Number of Training Epochs\")\n",
    "plt.xlabel(\"Training Epochs\")\n",
    "plt.ylabel(\"Accuracy\")\n",
    "plt.plot(range(1,num_epochs+1),train,label=\"Train\")\n",
    "plt.plot(range(1,num_epochs+1),val,label=\"Validation\")\n",
    "plt.ylim((0,1.))\n",
    "plt.xticks(np.arange(1, num_epochs+1, 1.0))\n",
    "plt.legend()\n",
    "plt.show()"
   ]
  },
  {
   "cell_type": "markdown",
   "metadata": {},
   "source": [
    "Com podem veure la accuracy durant la validació es molt menor que la de l'entrenament. Aixó pot ser ja que el model senser es massa complex per a la poca cantidad d'imatges que tenim. En canvi amb els pesos del ImageNet al tenir moltes mes imatges pot separar molt mes facilment les caracteristiques de les imatges i després fent un reentrament de la detecció de les features que ens interesen podem obtenir un resultat molt millor."
   ]
  },
  {
   "cell_type": "markdown",
   "metadata": {},
   "source": [
    "## Comparació"
   ]
  },
  {
   "cell_type": "code",
   "execution_count": 29,
   "metadata": {},
   "outputs": [
    {
     "data": {
      "image/png": "[encoded data removed]",
      "text/plain": [
       "<Figure size 640x480 with 1 Axes>"
      ]
     },
     "metadata": {},
     "output_type": "display_data"
    }
   ],
   "source": [
    "pretrained = [h.cpu().numpy() for h in pt_val_acc]\n",
    "retrained = [h.cpu().numpy() for h in t_val_acc]\n",
    "\n",
    "plt.title(\"Validation Accuracy vs. Number of Training Epochs\")\n",
    "plt.xlabel(\"Training Epochs\")\n",
    "plt.ylabel(\"Validation Accuracy\")\n",
    "plt.plot(range(1,num_epochs+1),pretrained,label=\"Pretrained\")\n",
    "plt.plot(range(1,num_epochs+1),retrained,label=\"Retrained\")\n",
    "plt.ylim((0,1.))\n",
    "plt.xticks(np.arange(1, num_epochs+1, 1.0))\n",
    "plt.legend()\n",
    "plt.show()"
   ]
  },
  {
   "cell_type": "markdown",
   "metadata": {},
   "source": [
    "Com podem observar s'obté un molt millor resultat utilitzant els pesos preentrenats."
   ]
  }
 ],
 "metadata": {
  "kernelspec": {
   "display_name": "Python 3 (ipykernel)",
   "language": "python",
   "name": "python3"
  },
  "language_info": {
   "codemirror_mode": {
    "name": "ipython",
    "version": 3
   },
   "file_extension": ".py",
   "mimetype": "text/x-python",
   "name": "python",
   "nbconvert_exporter": "python",
   "pygments_lexer": "ipython3",
   "version": "3.9.15"
  },
  "vscode": {
   "interpreter": {
    "hash": "02fa8fd54c95af2be9661fa379357b4da443ac0bd23893c8dcfed0cde6713a10"
   }
  }
 },
 "nbformat": 4,
 "nbformat_minor": 2
}
