{
 "nbformat": 4,
 "nbformat_minor": 0,
 "metadata": {
  "colab": {
   "provenance": [],
   "collapsed_sections": []
  },
  "kernelspec": {
   "name": "python3",
   "display_name": "Python 3"
  },
  "language_info": {
   "name": "python"
  }
 },
 "cells": [
  {
   "cell_type": "code",
   "source": [
    "# -*- coding: utf-8 -*-\n",
    "import torch\n",
    "import math\n",
    "import torch.optim as optim\n",
    "import numpy as np\n",
    "import matplotlib.pyplot as plt"
   ],
   "metadata": {
    "id": "EJWicB9kWray"
   },
   "execution_count": 2,
   "outputs": []
  },
  {
   "cell_type": "markdown",
   "source": [
    "# Introducció\n",
    "\n",
    "Avui començarem a fer feina amb **Pytorch**, ja que la segona part del curs tracta de xarxes neuronals profundes. Aquesta és una biblioteca de programari de codi obert dins l'àmbit d'aprenentatge automàtic, esta escrita en _Python_, _C++_ i _CUDA_, i basada en la biblioteca del programari _Torch_ del llenguatge _LUA_. \n",
    "**PyTorch** va ser desenvolupada inicialment pel departament d'intel·ligència artificial de l'empresa Facebook i el llenguatge de programació probabilística de l'empresa Uber.\n",
    "\n",
    "## Problema \n",
    "\n",
    "El problema que volem resoldre és l'aproximació de la funció sinus per mitjà d'un polinòmi de grau 3, es a dir cercam els coeficients $a$, $b$, $c$ i $d$ de la següent eqüació: $ y = a + bx + cx^2 + dx^3$ .  Com podem imaginar aquest  és un problema de regressió.\n",
    "\n",
    " Aquest és un problema extremadament senzill i ens permetrà coneixer l'estructura bàsica d'una xarxa emprant **Pytorch**.\n",
    "\n",
    "\n",
    "## Generació de les dades\n",
    "\n",
    "Les dades que necessitarem seràn els valors d'entrenament, en concret, generarem 2000 mostres que comprendran valors de $x$, $x^2$ i $x^3$ entre $-\\Pi$ i $\\Pi$ i els respectius valors de la funció sinus.\n"
   ],
   "metadata": {
    "id": "zwHy8PyjCjVI"
   }
  },
  {
   "cell_type": "code",
   "source": [
    "# Create Tensors to hold input and outputs.\n",
    "x = torch.linspace(-math.pi, math.pi, 2000)\n",
    "y = torch.sin(x)\n",
    "# For this example, the output y is a linear function of (x, x^2, x^3), so\n",
    "# we can consider it as a linear layer neural network. Let's prepare the\n",
    "# tensor (x, x^2, x^3).\n",
    "p = torch.tensor([1, 2, 3])\n",
    "xx = x.unsqueeze(-1).pow(p)\n",
    "\n",
    "print(xx.shape)\n",
    "print(y.shape)"
   ],
   "metadata": {
    "id": "Tr1xQQvGCk_5",
    "colab": {
     "base_uri": "https://localhost:8080/"
    },
    "outputId": "aa958ded-4df1-4568-832f-8961b7cb3482"
   },
   "execution_count": 3,
   "outputs": [
    {
     "output_type": "stream",
     "name": "stdout",
     "text": [
      "torch.Size([2000, 3])\n",
      "torch.Size([2000])\n"
     ]
    }
   ]
  },
  {
   "cell_type": "markdown",
   "source": [
    "## Definició de la xarxa\n",
    "\n",
    "A més de la xarxa també definirem els paràmetres de l'entrenament"
   ],
   "metadata": {
    "id": "I5ZHoXoTC1aS"
   }
  },
  {
   "cell_type": "code",
   "source": [
    "# Use the nn package to define our model as a sequence of layers. nn.Sequential\n",
    "# is a Module which contains other Modules, and applies them in sequence to\n",
    "# produce its output. The Linear Module computes output from input using a\n",
    "# linear function, and holds internal Tensors for its weight and bias.\n",
    "# The Flatten layer flatens the output of the linear layer to a 1D tensor,\n",
    "# to match the shape of `y`.\n",
    "\n",
    "model = torch.nn.Sequential(\n",
    "    torch.nn.Linear(3, 1),\n",
    "    torch.nn.Flatten(0, 1))\n",
    "\n",
    "# The nn package also contains definitions of popular loss functions; in this\n",
    "# case we will use Mean Squared Error (MSE) as our loss function.\n",
    "loss_fn = torch.nn.MSELoss(reduction='sum')\n",
    "\n",
    "learning_rate =  1e-6\n",
    "optimizer = optim.SGD(model.parameters(), lr=learning_rate)\n"
   ],
   "metadata": {
    "id": "noWNoaZDPb-g"
   },
   "execution_count": 19,
   "outputs": []
  },
  {
   "cell_type": "markdown",
   "source": [
    "## Entrenament"
   ],
   "metadata": {
    "id": "dArMpj5MPlH2"
   }
  },
  {
   "cell_type": "code",
   "source": [
    "iter = 5000\n",
    "loss_p = np.zeros((iter))\n",
    "\n",
    "\n",
    "for t in range(iter):\n",
    "\n",
    "    # Forward pass: compute predicted y by passing x to the model. Module objects\n",
    "    # override the __call__ operator so you can call them like functions. When\n",
    "    # doing so you pass a Tensor of input data to the Module and it produces\n",
    "    # a Tensor of output data.\n",
    "    y_pred = model(xx)\n",
    "\n",
    "    # Compute and print loss. We pass Tensors containing the predicted and true\n",
    "    # values of y, and the loss function returns a Tensor containing the\n",
    "    # loss.\n",
    "    loss = loss_fn(y_pred, y)\n",
    "    loss_p[t] = loss.item()\n",
    "    \n",
    "    # Zero the gradients before running the backward pass.\n",
    "    model.zero_grad()\n",
    "\n",
    "    # Backward pass: compute gradient of the loss with respect to all the learnable\n",
    "    # parameters of the model. Internally, the parameters of each Module are stored\n",
    "    # in Tensors with requires_grad=True, so this call will compute gradients for\n",
    "    # all learnable parameters in the model.\n",
    "    loss.backward()\n",
    "\n",
    "    # Update the weights using gradient descent. Each parameter is a Tensor, so\n",
    "    # we can access its gradients like we did before.\n",
    "    with torch.no_grad():\n",
    "        for param in model.parameters():\n",
    "            param -= learning_rate * param.grad\n",
    "    #   optimizer.step()  \n",
    "\n",
    "# You can access the first layer of `model` like accessing the first item of a list\n",
    "linear_layer = model[0]\n",
    "\n",
    "plt.title(\"Funció de pèrdua a cada iteració\")\n",
    "plt.plot(loss_p)\n",
    "plt.show()\n",
    "\n",
    "# For linear layer, its parameters are stored as `weight` and `bias`.\n",
    "print(\"Funció estimada\")\n",
    "print(f'  y = {linear_layer.bias.item()} + {linear_layer.weight[:, 0].item()} x + {linear_layer.weight[:, 1].item()} x^2 + {linear_layer.weight[:, 2].item()} x^3')"
   ],
   "metadata": {
    "id": "hI9uoRmmZBwC",
    "colab": {
     "base_uri": "https://localhost:8080/",
     "height": 316
    },
    "outputId": "2da50f6d-0284-4d28-ef63-094233cd2e7c"
   },
   "execution_count": 20,
   "outputs": [
    {
     "output_type": "display_data",
     "data": {
      "text/plain": [
       "<Figure size 432x288 with 1 Axes>"
      ],
      "image/png": "[encoded data removed]"
     },
     "metadata": {
      "needs_background": "light"
     }
    },
    {
     "output_type": "stream",
     "name": "stdout",
     "text": [
      "Funció estimada\n",
      "  y = 5.8798952522920445e-05 + 0.856713056564331 x + -1.0143238796445075e-05 x^2 + -0.09332643449306488 x^3\n"
     ]
    }
   ]
  },
  {
   "cell_type": "markdown",
   "source": [
    "## Mostram els resultats del nostre aprenentatge\n",
    "\n",
    "Realitzam la predicció en el rang d'entrenament i dibuixam el resultat (vermell) _versus_ la funció original (verd).\n"
   ],
   "metadata": {
    "id": "mW3E-MFRO_7T"
   }
  },
  {
   "cell_type": "code",
   "source": [
    "res = np.zeros((2000))\n",
    "\n",
    "llw = linear_layer.weight[:, :]\n",
    "for i, v in enumerate(x):\n",
    "\n",
    "  res[i] = linear_layer.bias.item() + (llw[:, 0].item() * v) + (llw[:, 1].item() * v**2) + (llw[:, 2].item() *  v**3)\n",
    "\n",
    "plt.title(\"\")\n",
    "plt.plot(res, color=\"red\", label=\"aprox\")\n",
    "plt.plot(y, color=\"green\", label=\"sin\")\n",
    "plt.legend()\n",
    "plt.show()"
   ],
   "metadata": {
    "colab": {
     "base_uri": "https://localhost:8080/",
     "height": 265
    },
    "id": "pCKQ047ZVSca",
    "outputId": "bb65052c-3fb2-4d2a-8f63-adf012cdbbc2"
   },
   "execution_count": 21,
   "outputs": [
    {
     "output_type": "display_data",
     "data": {
      "text/plain": [
       "<Figure size 432x288 with 1 Axes>"
      ],
      "image/png": "[encoded data removed]"
     },
     "metadata": {
      "needs_background": "light"
     }
    }
   ]
  }
 ]
}
